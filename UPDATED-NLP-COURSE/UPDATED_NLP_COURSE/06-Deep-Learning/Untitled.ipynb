{
 "cells": [
  {
   "cell_type": "code",
   "execution_count": 1,
   "metadata": {},
   "outputs": [],
   "source": [
    "import numpy as np"
   ]
  },
  {
   "cell_type": "code",
   "execution_count": 2,
   "metadata": {},
   "outputs": [],
   "source": [
    "from sklearn.datasets import load_iris"
   ]
  },
  {
   "cell_type": "code",
   "execution_count": 5,
   "metadata": {},
   "outputs": [],
   "source": [
    "iris = load_iris()"
   ]
  },
  {
   "cell_type": "code",
   "execution_count": 6,
   "metadata": {},
   "outputs": [
    {
     "data": {
      "text/plain": [
       "sklearn.utils.Bunch"
      ]
     },
     "execution_count": 6,
     "metadata": {},
     "output_type": "execute_result"
    }
   ],
   "source": [
    "type(iris)"
   ]
  },
  {
   "cell_type": "code",
   "execution_count": 7,
   "metadata": {},
   "outputs": [
    {
     "name": "stdout",
     "output_type": "stream",
     "text": [
      ".. _iris_dataset:\n",
      "\n",
      "Iris plants dataset\n",
      "--------------------\n",
      "\n",
      "**Data Set Characteristics:**\n",
      "\n",
      "    :Number of Instances: 150 (50 in each of three classes)\n",
      "    :Number of Attributes: 4 numeric, predictive attributes and the class\n",
      "    :Attribute Information:\n",
      "        - sepal length in cm\n",
      "        - sepal width in cm\n",
      "        - petal length in cm\n",
      "        - petal width in cm\n",
      "        - class:\n",
      "                - Iris-Setosa\n",
      "                - Iris-Versicolour\n",
      "                - Iris-Virginica\n",
      "                \n",
      "    :Summary Statistics:\n",
      "\n",
      "    ============== ==== ==== ======= ===== ====================\n",
      "                    Min  Max   Mean    SD   Class Correlation\n",
      "    ============== ==== ==== ======= ===== ====================\n",
      "    sepal length:   4.3  7.9   5.84   0.83    0.7826\n",
      "    sepal width:    2.0  4.4   3.05   0.43   -0.4194\n",
      "    petal length:   1.0  6.9   3.76   1.76    0.9490  (high!)\n",
      "    petal width:    0.1  2.5   1.20   0.76    0.9565  (high!)\n",
      "    ============== ==== ==== ======= ===== ====================\n",
      "\n",
      "    :Missing Attribute Values: None\n",
      "    :Class Distribution: 33.3% for each of 3 classes.\n",
      "    :Creator: R.A. Fisher\n",
      "    :Donor: Michael Marshall (MARSHALL%PLU@io.arc.nasa.gov)\n",
      "    :Date: July, 1988\n",
      "\n",
      "The famous Iris database, first used by Sir R.A. Fisher. The dataset is taken\n",
      "from Fisher's paper. Note that it's the same as in R, but not as in the UCI\n",
      "Machine Learning Repository, which has two wrong data points.\n",
      "\n",
      "This is perhaps the best known database to be found in the\n",
      "pattern recognition literature.  Fisher's paper is a classic in the field and\n",
      "is referenced frequently to this day.  (See Duda & Hart, for example.)  The\n",
      "data set contains 3 classes of 50 instances each, where each class refers to a\n",
      "type of iris plant.  One class is linearly separable from the other 2; the\n",
      "latter are NOT linearly separable from each other.\n",
      "\n",
      ".. topic:: References\n",
      "\n",
      "   - Fisher, R.A. \"The use of multiple measurements in taxonomic problems\"\n",
      "     Annual Eugenics, 7, Part II, 179-188 (1936); also in \"Contributions to\n",
      "     Mathematical Statistics\" (John Wiley, NY, 1950).\n",
      "   - Duda, R.O., & Hart, P.E. (1973) Pattern Classification and Scene Analysis.\n",
      "     (Q327.D83) John Wiley & Sons.  ISBN 0-471-22361-1.  See page 218.\n",
      "   - Dasarathy, B.V. (1980) \"Nosing Around the Neighborhood: A New System\n",
      "     Structure and Classification Rule for Recognition in Partially Exposed\n",
      "     Environments\".  IEEE Transactions on Pattern Analysis and Machine\n",
      "     Intelligence, Vol. PAMI-2, No. 1, 67-71.\n",
      "   - Gates, G.W. (1972) \"The Reduced Nearest Neighbor Rule\".  IEEE Transactions\n",
      "     on Information Theory, May 1972, 431-433.\n",
      "   - See also: 1988 MLC Proceedings, 54-64.  Cheeseman et al\"s AUTOCLASS II\n",
      "     conceptual clustering system finds 3 classes in the data.\n",
      "   - Many, many more ...\n"
     ]
    }
   ],
   "source": [
    "print(iris.DESCR)"
   ]
  },
  {
   "cell_type": "code",
   "execution_count": 8,
   "metadata": {},
   "outputs": [],
   "source": [
    "X = iris.data"
   ]
  },
  {
   "cell_type": "code",
   "execution_count": 9,
   "metadata": {},
   "outputs": [],
   "source": [
    "y = iris.target"
   ]
  },
  {
   "cell_type": "code",
   "execution_count": 10,
   "metadata": {},
   "outputs": [],
   "source": [
    "# class 0--->[1,0,0]\n",
    "# class 0--->[0,1,0]\n",
    "# class 0--->[0,0,1]"
   ]
  },
  {
   "cell_type": "code",
   "execution_count": 11,
   "metadata": {},
   "outputs": [],
   "source": [
    "from keras.utils import to_categorical"
   ]
  },
  {
   "cell_type": "code",
   "execution_count": 12,
   "metadata": {},
   "outputs": [],
   "source": [
    "y = to_categorical(y)"
   ]
  },
  {
   "cell_type": "code",
   "execution_count": 13,
   "metadata": {},
   "outputs": [
    {
     "data": {
      "text/plain": [
       "(150, 3)"
      ]
     },
     "execution_count": 13,
     "metadata": {},
     "output_type": "execute_result"
    }
   ],
   "source": [
    "y.shape"
   ]
  },
  {
   "cell_type": "code",
   "execution_count": 14,
   "metadata": {},
   "outputs": [],
   "source": [
    "from sklearn.model_selection import train_test_split"
   ]
  },
  {
   "cell_type": "code",
   "execution_count": 38,
   "metadata": {},
   "outputs": [],
   "source": [
    "X_train, X_test, y_train, y_test = train_test_split(X, y, test_size = 0.33, random_state = 42)"
   ]
  },
  {
   "cell_type": "code",
   "execution_count": 16,
   "metadata": {},
   "outputs": [],
   "source": [
    "from sklearn.preprocessing import MinMaxScaler"
   ]
  },
  {
   "cell_type": "code",
   "execution_count": 39,
   "metadata": {},
   "outputs": [
    {
     "data": {
      "text/plain": [
       "array([0.25, 0.95, 0.75, 1.  ])"
      ]
     },
     "execution_count": 39,
     "metadata": {},
     "output_type": "execute_result"
    }
   ],
   "source": [
    "np.array([5,19,15,20])/20"
   ]
  },
  {
   "cell_type": "code",
   "execution_count": 40,
   "metadata": {},
   "outputs": [],
   "source": [
    "scaler_object = MinMaxScaler()"
   ]
  },
  {
   "cell_type": "code",
   "execution_count": 41,
   "metadata": {},
   "outputs": [
    {
     "data": {
      "text/plain": [
       "MinMaxScaler(copy=True, feature_range=(0, 1))"
      ]
     },
     "execution_count": 41,
     "metadata": {},
     "output_type": "execute_result"
    }
   ],
   "source": [
    "scaler_object.fit(X_train)"
   ]
  },
  {
   "cell_type": "code",
   "execution_count": 49,
   "metadata": {},
   "outputs": [
    {
     "data": {
      "text/plain": [
       "100"
      ]
     },
     "execution_count": 49,
     "metadata": {},
     "output_type": "execute_result"
    }
   ],
   "source": [
    "scaled_X_train = scaler_object.transform(X_train)\n",
    "len(scaled_X_train)"
   ]
  },
  {
   "cell_type": "code",
   "execution_count": 48,
   "metadata": {},
   "outputs": [
    {
     "data": {
      "text/plain": [
       "100"
      ]
     },
     "execution_count": 48,
     "metadata": {},
     "output_type": "execute_result"
    }
   ],
   "source": [
    "len(y_train)"
   ]
  },
  {
   "cell_type": "code",
   "execution_count": 50,
   "metadata": {},
   "outputs": [],
   "source": [
    "scaled_X_test = scaler_object.transform(X_test)"
   ]
  },
  {
   "cell_type": "code",
   "execution_count": 51,
   "metadata": {},
   "outputs": [],
   "source": [
    "from keras.models import Sequential\n",
    "from keras.layers import Dense\n"
   ]
  },
  {
   "cell_type": "code",
   "execution_count": 53,
   "metadata": {},
   "outputs": [],
   "source": [
    "model =Sequential()\n",
    "model.add(Dense(8,input_dim = 4, activation = 'relu'))\n",
    "model.add(Dense(8,input_dim = 4, activation = 'relu'))\n",
    "model.add(Dense(3,input_dim = 4, activation = 'softmax'))\n",
    "model.compile(loss='categorical_crossentropy', optimizer = 'adam', metrics = ['accuracy'])"
   ]
  },
  {
   "cell_type": "code",
   "execution_count": 54,
   "metadata": {},
   "outputs": [
    {
     "name": "stdout",
     "output_type": "stream",
     "text": [
      "WARNING:tensorflow:From C:\\Users\\adity\\.conda\\envs\\nlp_course\\lib\\site-packages\\tensorflow\\python\\ops\\math_ops.py:3066: to_int32 (from tensorflow.python.ops.math_ops) is deprecated and will be removed in a future version.\n",
      "Instructions for updating:\n",
      "Use tf.cast instead.\n",
      "Epoch 1/150\n",
      " - 1s - loss: 1.0850 - acc: 0.0300\n",
      "Epoch 2/150\n",
      " - 0s - loss: 1.0786 - acc: 0.1100\n",
      "Epoch 3/150\n",
      " - 0s - loss: 1.0730 - acc: 0.2400\n",
      "Epoch 4/150\n",
      " - 0s - loss: 1.0673 - acc: 0.3500\n",
      "Epoch 5/150\n",
      " - 0s - loss: 1.0615 - acc: 0.4600\n",
      "Epoch 6/150\n",
      " - 0s - loss: 1.0556 - acc: 0.5300\n",
      "Epoch 7/150\n",
      " - 0s - loss: 1.0500 - acc: 0.5700\n",
      "Epoch 8/150\n",
      " - 0s - loss: 1.0442 - acc: 0.6600\n",
      "Epoch 9/150\n",
      " - 0s - loss: 1.0386 - acc: 0.6800\n",
      "Epoch 10/150\n",
      " - 0s - loss: 1.0331 - acc: 0.7000\n",
      "Epoch 11/150\n",
      " - 0s - loss: 1.0275 - acc: 0.7200\n",
      "Epoch 12/150\n",
      " - 0s - loss: 1.0219 - acc: 0.7200\n",
      "Epoch 13/150\n",
      " - 0s - loss: 1.0162 - acc: 0.7300\n",
      "Epoch 14/150\n",
      " - 0s - loss: 1.0104 - acc: 0.7100\n",
      "Epoch 15/150\n",
      " - 0s - loss: 1.0045 - acc: 0.7000\n",
      "Epoch 16/150\n",
      " - 0s - loss: 0.9987 - acc: 0.7000\n",
      "Epoch 17/150\n",
      " - 0s - loss: 0.9929 - acc: 0.7200\n",
      "Epoch 18/150\n",
      " - 0s - loss: 0.9868 - acc: 0.7300\n",
      "Epoch 19/150\n",
      " - 0s - loss: 0.9808 - acc: 0.7200\n",
      "Epoch 20/150\n",
      " - 0s - loss: 0.9745 - acc: 0.7100\n",
      "Epoch 21/150\n",
      " - 0s - loss: 0.9684 - acc: 0.7100\n",
      "Epoch 22/150\n",
      " - 0s - loss: 0.9622 - acc: 0.7100\n",
      "Epoch 23/150\n",
      " - 0s - loss: 0.9558 - acc: 0.7100\n",
      "Epoch 24/150\n",
      " - 0s - loss: 0.9493 - acc: 0.6800\n",
      "Epoch 25/150\n",
      " - 0s - loss: 0.9428 - acc: 0.6300\n",
      "Epoch 26/150\n",
      " - 0s - loss: 0.9364 - acc: 0.6300\n",
      "Epoch 27/150\n",
      " - 0s - loss: 0.9299 - acc: 0.6600\n",
      "Epoch 28/150\n",
      " - 0s - loss: 0.9233 - acc: 0.6500\n",
      "Epoch 29/150\n",
      " - 0s - loss: 0.9163 - acc: 0.6300\n",
      "Epoch 30/150\n",
      " - 0s - loss: 0.9090 - acc: 0.6500\n",
      "Epoch 31/150\n",
      " - 0s - loss: 0.9018 - acc: 0.6600\n",
      "Epoch 32/150\n",
      " - 0s - loss: 0.8945 - acc: 0.6600\n",
      "Epoch 33/150\n",
      " - 0s - loss: 0.8871 - acc: 0.6600\n",
      "Epoch 34/150\n",
      " - 0s - loss: 0.8789 - acc: 0.6600\n",
      "Epoch 35/150\n",
      " - 0s - loss: 0.8711 - acc: 0.6500\n",
      "Epoch 36/150\n",
      " - 0s - loss: 0.8626 - acc: 0.6600\n",
      "Epoch 37/150\n",
      " - 0s - loss: 0.8543 - acc: 0.6500\n",
      "Epoch 38/150\n",
      " - 0s - loss: 0.8458 - acc: 0.6500\n",
      "Epoch 39/150\n",
      " - 0s - loss: 0.8375 - acc: 0.6500\n",
      "Epoch 40/150\n",
      " - 0s - loss: 0.8289 - acc: 0.6500\n",
      "Epoch 41/150\n",
      " - 0s - loss: 0.8202 - acc: 0.6500\n",
      "Epoch 42/150\n",
      " - 0s - loss: 0.8116 - acc: 0.6500\n",
      "Epoch 43/150\n",
      " - 0s - loss: 0.8032 - acc: 0.6500\n",
      "Epoch 44/150\n",
      " - 0s - loss: 0.7947 - acc: 0.6500\n",
      "Epoch 45/150\n",
      " - 0s - loss: 0.7864 - acc: 0.6500\n",
      "Epoch 46/150\n",
      " - 0s - loss: 0.7779 - acc: 0.6600\n",
      "Epoch 47/150\n",
      " - 0s - loss: 0.7698 - acc: 0.6600\n",
      "Epoch 48/150\n",
      " - 0s - loss: 0.7610 - acc: 0.6600\n",
      "Epoch 49/150\n",
      " - 0s - loss: 0.7526 - acc: 0.6600\n",
      "Epoch 50/150\n",
      " - 0s - loss: 0.7440 - acc: 0.6600\n",
      "Epoch 51/150\n",
      " - 0s - loss: 0.7357 - acc: 0.6600\n",
      "Epoch 52/150\n",
      " - 0s - loss: 0.7270 - acc: 0.6500\n",
      "Epoch 53/150\n",
      " - 0s - loss: 0.7183 - acc: 0.6500\n",
      "Epoch 54/150\n",
      " - 0s - loss: 0.7096 - acc: 0.6500\n",
      "Epoch 55/150\n",
      " - 0s - loss: 0.7013 - acc: 0.6500\n",
      "Epoch 56/150\n",
      " - 0s - loss: 0.6929 - acc: 0.6500\n",
      "Epoch 57/150\n",
      " - 0s - loss: 0.6844 - acc: 0.6500\n",
      "Epoch 58/150\n",
      " - 0s - loss: 0.6762 - acc: 0.6500\n",
      "Epoch 59/150\n",
      " - 0s - loss: 0.6681 - acc: 0.6500\n",
      "Epoch 60/150\n",
      " - 0s - loss: 0.6601 - acc: 0.6500\n",
      "Epoch 61/150\n",
      " - 0s - loss: 0.6521 - acc: 0.6500\n",
      "Epoch 62/150\n",
      " - 0s - loss: 0.6441 - acc: 0.6500\n",
      "Epoch 63/150\n",
      " - 0s - loss: 0.6357 - acc: 0.6500\n",
      "Epoch 64/150\n",
      " - 0s - loss: 0.6276 - acc: 0.6500\n",
      "Epoch 65/150\n",
      " - 0s - loss: 0.6197 - acc: 0.6500\n",
      "Epoch 66/150\n",
      " - 0s - loss: 0.6119 - acc: 0.6500\n",
      "Epoch 67/150\n",
      " - 0s - loss: 0.6034 - acc: 0.6500\n",
      "Epoch 68/150\n",
      " - 0s - loss: 0.5957 - acc: 0.6500\n",
      "Epoch 69/150\n",
      " - 0s - loss: 0.5883 - acc: 0.6500\n",
      "Epoch 70/150\n",
      " - 0s - loss: 0.5800 - acc: 0.6500\n",
      "Epoch 71/150\n",
      " - 0s - loss: 0.5713 - acc: 0.6500\n",
      "Epoch 72/150\n",
      " - 0s - loss: 0.5627 - acc: 0.6500\n",
      "Epoch 73/150\n",
      " - 0s - loss: 0.5555 - acc: 0.6500\n",
      "Epoch 74/150\n",
      " - 0s - loss: 0.5490 - acc: 0.6500\n",
      "Epoch 75/150\n",
      " - 0s - loss: 0.5430 - acc: 0.6500\n",
      "Epoch 76/150\n",
      " - 0s - loss: 0.5373 - acc: 0.6500\n",
      "Epoch 77/150\n",
      " - 0s - loss: 0.5315 - acc: 0.6500\n",
      "Epoch 78/150\n",
      " - 0s - loss: 0.5266 - acc: 0.6500\n",
      "Epoch 79/150\n",
      " - 0s - loss: 0.5210 - acc: 0.6500\n",
      "Epoch 80/150\n",
      " - 0s - loss: 0.5164 - acc: 0.6500\n",
      "Epoch 81/150\n",
      " - 0s - loss: 0.5115 - acc: 0.6700\n",
      "Epoch 82/150\n",
      " - 0s - loss: 0.5068 - acc: 0.6700\n",
      "Epoch 83/150\n",
      " - 0s - loss: 0.5023 - acc: 0.6800\n",
      "Epoch 84/150\n",
      " - 0s - loss: 0.4977 - acc: 0.6900\n",
      "Epoch 85/150\n",
      " - 0s - loss: 0.4935 - acc: 0.7000\n",
      "Epoch 86/150\n",
      " - 0s - loss: 0.4896 - acc: 0.7000\n",
      "Epoch 87/150\n",
      " - 0s - loss: 0.4857 - acc: 0.7000\n",
      "Epoch 88/150\n",
      " - 0s - loss: 0.4818 - acc: 0.7200\n",
      "Epoch 89/150\n",
      " - 0s - loss: 0.4782 - acc: 0.7200\n",
      "Epoch 90/150\n",
      " - 0s - loss: 0.4745 - acc: 0.7200\n",
      "Epoch 91/150\n",
      " - 0s - loss: 0.4710 - acc: 0.7200\n",
      "Epoch 92/150\n",
      " - 0s - loss: 0.4674 - acc: 0.7200\n",
      "Epoch 93/150\n",
      " - 0s - loss: 0.4645 - acc: 0.7600\n",
      "Epoch 94/150\n",
      " - 0s - loss: 0.4606 - acc: 0.8100\n",
      "Epoch 95/150\n",
      " - 0s - loss: 0.4572 - acc: 0.8800\n",
      "Epoch 96/150\n",
      " - 0s - loss: 0.4542 - acc: 0.8800\n",
      "Epoch 97/150\n",
      " - 0s - loss: 0.4504 - acc: 0.8800\n",
      "Epoch 98/150\n",
      " - 0s - loss: 0.4468 - acc: 0.8800\n",
      "Epoch 99/150\n",
      " - 0s - loss: 0.4439 - acc: 0.8500\n",
      "Epoch 100/150\n",
      " - 0s - loss: 0.4408 - acc: 0.8300\n",
      "Epoch 101/150\n",
      " - 0s - loss: 0.4378 - acc: 0.8300\n",
      "Epoch 102/150\n",
      " - 0s - loss: 0.4341 - acc: 0.8700\n",
      "Epoch 103/150\n",
      " - 0s - loss: 0.4311 - acc: 0.8800\n",
      "Epoch 104/150\n",
      " - 0s - loss: 0.4287 - acc: 0.8900\n",
      "Epoch 105/150\n",
      " - 0s - loss: 0.4253 - acc: 0.9100\n",
      "Epoch 106/150\n",
      " - 0s - loss: 0.4225 - acc: 0.9000\n",
      "Epoch 107/150\n",
      " - 0s - loss: 0.4191 - acc: 0.8900\n",
      "Epoch 108/150\n",
      " - 0s - loss: 0.4162 - acc: 0.8900\n",
      "Epoch 109/150\n",
      " - 0s - loss: 0.4132 - acc: 0.8900\n",
      "Epoch 110/150\n",
      " - 0s - loss: 0.4102 - acc: 0.8900\n",
      "Epoch 111/150\n",
      " - 0s - loss: 0.4073 - acc: 0.9200\n",
      "Epoch 112/150\n",
      " - 0s - loss: 0.4042 - acc: 0.9200\n",
      "Epoch 113/150\n",
      " - 0s - loss: 0.4018 - acc: 0.9300\n",
      "Epoch 114/150\n",
      " - 0s - loss: 0.4001 - acc: 0.9400\n",
      "Epoch 115/150\n",
      " - 0s - loss: 0.3956 - acc: 0.9400\n",
      "Epoch 116/150\n",
      " - 0s - loss: 0.3913 - acc: 0.9400\n",
      "Epoch 117/150\n",
      " - 0s - loss: 0.3884 - acc: 0.9300\n",
      "Epoch 118/150\n",
      " - 0s - loss: 0.3852 - acc: 0.9100\n",
      "Epoch 119/150\n",
      " - 0s - loss: 0.3836 - acc: 0.9000\n",
      "Epoch 120/150\n",
      " - 0s - loss: 0.3805 - acc: 0.8900\n",
      "Epoch 121/150\n",
      " - 0s - loss: 0.3779 - acc: 0.9000\n",
      "Epoch 122/150\n",
      " - 0s - loss: 0.3743 - acc: 0.8900\n",
      "Epoch 123/150\n",
      " - 0s - loss: 0.3704 - acc: 0.9100\n",
      "Epoch 124/150\n",
      " - 0s - loss: 0.3651 - acc: 0.9200\n",
      "Epoch 125/150\n",
      " - 0s - loss: 0.3626 - acc: 0.9400\n",
      "Epoch 126/150\n",
      " - 0s - loss: 0.3589 - acc: 0.9500\n",
      "Epoch 127/150\n",
      " - 0s - loss: 0.3564 - acc: 0.9500\n",
      "Epoch 128/150\n",
      " - 0s - loss: 0.3532 - acc: 0.9500\n",
      "Epoch 129/150\n",
      " - 0s - loss: 0.3506 - acc: 0.9500\n",
      "Epoch 130/150\n",
      " - 0s - loss: 0.3474 - acc: 0.9500\n",
      "Epoch 131/150\n",
      " - 0s - loss: 0.3435 - acc: 0.9500\n",
      "Epoch 132/150\n",
      " - 0s - loss: 0.3416 - acc: 0.9400\n",
      "Epoch 133/150\n",
      " - 0s - loss: 0.3387 - acc: 0.9400\n",
      "Epoch 134/150\n",
      " - 0s - loss: 0.3360 - acc: 0.9400\n",
      "Epoch 135/150\n",
      " - 0s - loss: 0.3331 - acc: 0.9400\n",
      "Epoch 136/150\n",
      " - 0s - loss: 0.3316 - acc: 0.9400\n",
      "Epoch 137/150\n",
      " - 0s - loss: 0.3294 - acc: 0.9400\n",
      "Epoch 138/150\n",
      " - 0s - loss: 0.3267 - acc: 0.9400\n",
      "Epoch 139/150\n",
      " - 0s - loss: 0.3230 - acc: 0.9400\n",
      "Epoch 140/150\n",
      " - 0s - loss: 0.3207 - acc: 0.9600\n",
      "Epoch 141/150\n",
      " - 0s - loss: 0.3190 - acc: 0.9600\n",
      "Epoch 142/150\n",
      " - 0s - loss: 0.3163 - acc: 0.9600\n",
      "Epoch 143/150\n",
      " - 0s - loss: 0.3133 - acc: 0.9600\n",
      "Epoch 144/150\n",
      " - 0s - loss: 0.3113 - acc: 0.9600\n",
      "Epoch 145/150\n",
      " - 0s - loss: 0.3093 - acc: 0.9600\n",
      "Epoch 146/150\n",
      " - 0s - loss: 0.3046 - acc: 0.9600\n",
      "Epoch 147/150\n",
      " - 0s - loss: 0.3010 - acc: 0.9600\n",
      "Epoch 148/150\n",
      " - 0s - loss: 0.2988 - acc: 0.9500\n",
      "Epoch 149/150\n",
      " - 0s - loss: 0.2974 - acc: 0.9400\n",
      "Epoch 150/150\n",
      " - 0s - loss: 0.2948 - acc: 0.9500\n"
     ]
    },
    {
     "data": {
      "text/plain": [
       "<keras.callbacks.History at 0x21f9eb4f0f0>"
      ]
     },
     "execution_count": 54,
     "metadata": {},
     "output_type": "execute_result"
    }
   ],
   "source": [
    "model.fit(scaled_X_train, y_train, epochs = 150, verbose = 2)"
   ]
  },
  {
   "cell_type": "code",
   "execution_count": 56,
   "metadata": {},
   "outputs": [
    {
     "data": {
      "text/plain": [
       "array([1, 0, 2, 1, 1, 0, 1, 2, 2, 1, 2, 0, 0, 0, 0, 1, 2, 1, 1, 2, 0, 2,\n",
       "       0, 2, 2, 2, 2, 2, 0, 0, 0, 0, 1, 0, 0, 2, 1, 0, 0, 0, 2, 1, 1, 0,\n",
       "       0, 1, 2, 2, 1, 2], dtype=int64)"
      ]
     },
     "execution_count": 56,
     "metadata": {},
     "output_type": "execute_result"
    }
   ],
   "source": [
    "model.predict_classes(scaled_X_test)"
   ]
  },
  {
   "cell_type": "code",
   "execution_count": 57,
   "metadata": {},
   "outputs": [],
   "source": [
    "predictions = model.predict_classes(scaled_X_test)"
   ]
  },
  {
   "cell_type": "code",
   "execution_count": 58,
   "metadata": {},
   "outputs": [
    {
     "data": {
      "text/plain": [
       "array([1, 0, 2, 1, 1, 0, 1, 2, 1, 1, 2, 0, 0, 0, 0, 1, 2, 1, 1, 2, 0, 2,\n",
       "       0, 2, 2, 2, 2, 2, 0, 0, 0, 0, 1, 0, 0, 2, 1, 0, 0, 0, 2, 1, 1, 0,\n",
       "       0, 1, 2, 2, 1, 2], dtype=int64)"
      ]
     },
     "execution_count": 58,
     "metadata": {},
     "output_type": "execute_result"
    }
   ],
   "source": [
    "y_test.argmax(axis = 1)"
   ]
  },
  {
   "cell_type": "code",
   "execution_count": 59,
   "metadata": {},
   "outputs": [],
   "source": [
    "from sklearn.metrics import confusion_matrix, classification_report, accuracy_score"
   ]
  },
  {
   "cell_type": "code",
   "execution_count": 60,
   "metadata": {},
   "outputs": [
    {
     "data": {
      "text/plain": [
       "array([[19,  0,  0],\n",
       "       [ 0, 14,  1],\n",
       "       [ 0,  0, 16]], dtype=int64)"
      ]
     },
     "execution_count": 60,
     "metadata": {},
     "output_type": "execute_result"
    }
   ],
   "source": [
    "confusion_matrix(y_test.argmax(axis=1), predictions)"
   ]
  },
  {
   "cell_type": "code",
   "execution_count": 61,
   "metadata": {},
   "outputs": [
    {
     "name": "stdout",
     "output_type": "stream",
     "text": [
      "              precision    recall  f1-score   support\n",
      "\n",
      "           0       1.00      1.00      1.00        19\n",
      "           1       1.00      0.93      0.97        15\n",
      "           2       0.94      1.00      0.97        16\n",
      "\n",
      "   micro avg       0.98      0.98      0.98        50\n",
      "   macro avg       0.98      0.98      0.98        50\n",
      "weighted avg       0.98      0.98      0.98        50\n",
      "\n"
     ]
    }
   ],
   "source": [
    "print(classification_report(y_test.argmax(axis=1), predictions))"
   ]
  },
  {
   "cell_type": "code",
   "execution_count": 62,
   "metadata": {},
   "outputs": [
    {
     "data": {
      "text/plain": [
       "0.98"
      ]
     },
     "execution_count": 62,
     "metadata": {},
     "output_type": "execute_result"
    }
   ],
   "source": [
    "accuracy_score(y_test.argmax(axis=1), predictions)"
   ]
  },
  {
   "cell_type": "code",
   "execution_count": 63,
   "metadata": {},
   "outputs": [],
   "source": [
    "model.save('myfirstmodel.h5')"
   ]
  },
  {
   "cell_type": "code",
   "execution_count": 64,
   "metadata": {},
   "outputs": [],
   "source": [
    "from keras.models import load_model"
   ]
  },
  {
   "cell_type": "code",
   "execution_count": 65,
   "metadata": {},
   "outputs": [],
   "source": [
    "new_model = load_model('myfirstmodel.h5')"
   ]
  },
  {
   "cell_type": "code",
   "execution_count": 66,
   "metadata": {},
   "outputs": [
    {
     "data": {
      "text/plain": [
       "array([1, 0, 2, 1, 1, 0, 1, 2, 2, 1, 2, 0, 0, 0, 0, 1, 2, 1, 1, 2, 0, 2,\n",
       "       0, 2, 2, 2, 2, 2, 0, 0, 0, 0, 1, 0, 0, 2, 1, 0, 0, 0, 2, 1, 1, 0,\n",
       "       0, 1, 2, 2, 1, 2], dtype=int64)"
      ]
     },
     "execution_count": 66,
     "metadata": {},
     "output_type": "execute_result"
    }
   ],
   "source": [
    "new_model.predict_classes(scaled_X_test)"
   ]
  },
  {
   "cell_type": "code",
   "execution_count": 67,
   "metadata": {},
   "outputs": [],
   "source": [
    "##LSTM"
   ]
  },
  {
   "cell_type": "code",
   "execution_count": null,
   "metadata": {},
   "outputs": [],
   "source": []
  }
 ],
 "metadata": {
  "kernelspec": {
   "display_name": "Python 3",
   "language": "python",
   "name": "python3"
  },
  "language_info": {
   "codemirror_mode": {
    "name": "ipython",
    "version": 3
   },
   "file_extension": ".py",
   "mimetype": "text/x-python",
   "name": "python",
   "nbconvert_exporter": "python",
   "pygments_lexer": "ipython3",
   "version": "3.7.3"
  }
 },
 "nbformat": 4,
 "nbformat_minor": 2
}
