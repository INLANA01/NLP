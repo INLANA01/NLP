{
 "cells": [
  {
   "cell_type": "code",
   "execution_count": 86,
   "metadata": {},
   "outputs": [],
   "source": [
    "def read_file(filepath):\n",
    "    with open(filepath) as f:\n",
    "        str_text = f.read()\n",
    "        \n",
    "    return str_text"
   ]
  },
  {
   "cell_type": "code",
   "execution_count": 87,
   "metadata": {},
   "outputs": [
    {
     "data": {
      "text/plain": [
       "'Call me Ishmael.  Some years ago--never mind how long\\nprecisely--having little or no money in my purse, and nothing\\nparticular to interest me on shore, I thought I would sail about a\\nlittle and see the watery part of the world.  It is a way I have of\\ndriving off the spleen and regulating the circulation.  Whenever I\\nfind myself growing grim about the mouth; whenever it is a damp,\\ndrizzly November in my soul; whenever I find myself involuntarily\\npausing before coffin warehouses, and bringing up the rear of every\\nfuneral I meet; and especially whenever my hypos get such an upper\\nhand of me, that it requires a strong moral principle to prevent me\\nfrom deliberately stepping into the street, and methodically knocking\\npeople\\'s hats off--then, I account it high time to get to sea as soon\\nas I can.  This is my substitute for pistol and ball.  With a\\nphilosophical flourish Cato throws himself upon his sword; I quietly\\ntake to the ship.  There is nothing surprising in this.  If they but\\nknew it, almost all men in their degree, some time or other, cherish\\nvery nearly the same feelings towards the ocean with me.\\n\\nThere now is your insular city of the Manhattoes, belted round by\\nwharves as Indian isles by coral reefs--commerce surrounds it with\\nher surf.  Right and left, the streets take you waterward.  Its\\nextreme downtown is the battery, where that noble mole is washed by\\nwaves, and cooled by breezes, which a few hours previous were out of\\nsight of land.  Look at the crowds of water-gazers there.\\n\\nCircumambulate the city of a dreamy Sabbath afternoon.  Go from\\nCorlears Hook to Coenties Slip, and from thence, by Whitehall,\\nnorthward.  What do you see?--Posted like silent sentinels all around\\nthe town, stand thousands upon thousands of mortal men fixed in ocean\\nreveries.  Some leaning against the spiles; some seated upon the\\npier-heads; some looking over the bulwarks of ships from China; some\\nhigh aloft in the rigging, as if striving to get a still better\\nseaward peep.  But these are all landsmen; of week days pent up in\\nlath and plaster--tied to counters, nailed to benches, clinched to\\ndesks.  How then is this?  Are the green fields gone?  What do they\\nhere?\\n\\nBut look! here come more crowds, pacing straight for the water, and\\nseemingly bound for a dive.  Strange!  Nothing will content them but\\nthe extremest limit of the land; loitering under the shady lee of\\nyonder warehouses will not suffice.  No.  They must get just as nigh\\nthe water as they possibly can without falling in.  And there they\\nstand--miles of them--leagues.  Inlanders all, they come from lanes\\nand alleys, streets and avenues--north, east, south, and west.  Yet\\nhere they all unite.  Tell me, does the magnetic virtue of the\\nneedles of the compasses of all those ships attract them thither?\\n\\nOnce more.  Say you are in the country; in some high land of lakes.\\nTake almost any path you please, and ten to one it carries you down\\nin a dale, and leaves you there by a pool in the stream.  There is\\nmagic in it.  Let the most absent-minded of men be plunged in his\\ndeepest reveries--stand that man on his legs, set his feet a-going,\\nand he will infallibly lead you to water, if water there be in all\\nthat region.  Should you ever be athirst in the great American\\ndesert, try this experiment, if your caravan happen to be supplied\\nwith a metaphysical professor.  Yes, as every one knows, meditation\\nand water are wedded for ever.\\n\\nBut here is an artist.  He desires to paint you the dreamiest,\\nshadiest, quietest, most enchanting bit of romantic landscape in all\\nthe valley of the Saco.  What is the chief element he employs?  There\\nstand his trees, each with a hollow trunk, as if a hermit and a\\ncrucifix were within; and here sleeps his meadow, and there sleep his\\ncattle; and up from yonder cottage goes a sleepy smoke.  Deep into\\ndistant woodlands winds a mazy way, reaching to overlapping spurs of\\nmountains bathed in their hill-side blue.  But though the picture\\nlies thus tranced, and though this pine-tree shakes down its sighs\\nlike leaves upon this shepherd\\'s head, yet all were vain, unless the\\nshepherd\\'s eye were fixed upon the magic stream before him.  Go visit\\nthe Prairies in June, when for scores on scores of miles you wade\\nknee-deep among Tiger-lilies--what is the one charm\\nwanting?--Water--there is not a drop of water there!  Were Niagara\\nbut a cataract of sand, would you travel your thousand miles to see\\nit?  Why did the poor poet of Tennessee, upon suddenly receiving two\\nhandfuls of silver, deliberate whether to buy him a coat, which he\\nsadly needed, or invest his money in a pedestrian trip to Rockaway\\nBeach?  Why is almost every robust healthy boy with a robust healthy\\nsoul in him, at some time or other crazy to go to sea?  Why upon your\\nfirst voyage as a passenger, did you yourself feel such a mystical\\nvibration, when first told that you and your ship were now out of\\nsight of land?  Why did the old Persians hold the sea holy?  Why did\\nthe Greeks give it a separate deity, and own brother of Jove?  Surely\\nall this is not without meaning.  And still deeper the meaning of\\nthat story of Narcissus, who because he could not grasp the\\ntormenting, mild image he saw in the fountain, plunged into it and\\nwas drowned.  But that same image, we ourselves see in all rivers and\\noceans.  It is the image of the ungraspable phantom of life; and this\\nis the key to it all.\\n\\nNow, when I say that I am in the habit of going to sea whenever I\\nbegin to grow hazy about the eyes, and begin to be over conscious of\\nmy lungs, I do not mean to have it inferred that I ever go to sea as\\na passenger.  For to go as a passenger you must needs have a purse,\\nand a purse is but a rag unless you have something in it.  Besides,\\npassengers get sea-sick--grow quarrelsome--don\\'t sleep of nights--do\\nnot enjoy themselves much, as a general thing;--no, I never go as a\\npassenger; nor, though I am something of a salt, do I ever go to sea\\nas a Commodore, or a Captain, or a Cook.  I abandon the glory and\\ndistinction of such offices to those who like them.  For my part, I\\nabominate all honourable respectable toils, trials, and tribulations\\nof every kind whatsoever.  It is quite as much as I can do to take\\ncare of myself, without taking care of ships, barques, brigs,\\nschooners, and what not.  And as for going as cook,--though I confess\\nthere is considerable glory in that, a cook being a sort of officer\\non ship-board--yet, somehow, I never fancied broiling fowls;--though\\nonce broiled, judiciously buttered, and judgmatically salted and\\npeppered, there is no one who will speak more respectfully, not to\\nsay reverentially, of a broiled fowl than I will.  It is out of the\\nidolatrous dotings of the old Egyptians upon broiled ibis and roasted\\nriver horse, that you see the mummies of those creatures in their\\nhuge bake-houses the pyramids.\\n\\nNo, when I go to sea, I go as a simple sailor, right before the mast,\\nplumb down into the forecastle, aloft there to the royal mast-head.\\nTrue, they rather order me about some, and make me jump from spar to\\nspar, like a grasshopper in a May meadow.  And at first, this sort of\\nthing is unpleasant enough.  It touches one\\'s sense of honour,\\nparticularly if you come of an old established family in the land,\\nthe Van Rensselaers, or Randolphs, or Hardicanutes.  And more than\\nall, if just previous to putting your hand into the tar-pot, you have\\nbeen lording it as a country schoolmaster, making the tallest boys\\nstand in awe of you.  The transition is a keen one, I assure you,\\nfrom a schoolmaster to a sailor, and requires a strong decoction of\\nSeneca and the Stoics to enable you to grin and bear it.  But even\\nthis wears off in time.\\n\\nWhat of it, if some old hunks of a sea-captain orders me to get a\\nbroom and sweep down the decks?  What does that indignity amount to,\\nweighed, I mean, in the scales of the New Testament?  Do you think\\nthe archangel Gabriel thinks anything the less of me, because I\\npromptly and respectfully obey that old hunks in that particular\\ninstance?  Who ain\\'t a slave?  Tell me that.  Well, then, however the\\nold sea-captains may order me about--however they may thump and punch\\nme about, I have the satisfaction of knowing that it is all right;\\nthat everybody else is one way or other served in much the same\\nway--either in a physical or metaphysical point of view, that is; and\\nso the universal thump is passed round, and all hands should rub each\\nother\\'s shoulder-blades, and be content.\\n\\nAgain, I always go to sea as a sailor, because they make a point of\\npaying me for my trouble, whereas they never pay passengers a single\\npenny that I ever heard of.  On the contrary, passengers themselves\\nmust pay.  And there is all the difference in the world between\\npaying and being paid.  The act of paying is perhaps the most\\nuncomfortable infliction that the two orchard thieves entailed upon\\nus.  But BEING PAID,--what will compare with it?  The urbane activity\\nwith which a man receives money is really marvellous, considering\\nthat we so earnestly believe money to be the root of all earthly\\nills, and that on no account can a monied man enter heaven.  Ah! how\\ncheerfully we consign ourselves to perdition!\\n\\nFinally, I always go to sea as a sailor, because of the wholesome\\nexercise and pure air of the fore-castle deck.  For as in this world,\\nhead winds are far more prevalent than winds from astern (that is, if\\nyou never violate the Pythagorean maxim), so for the most part the\\nCommodore on the quarter-deck gets his atmosphere at second hand from\\nthe sailors on the forecastle.  He thinks he breathes it first; but\\nnot so.  In much the same way do the commonalty lead their leaders in\\nmany other things, at the same time that the leaders little suspect\\nit.  But wherefore it was that after having repeatedly smelt the sea\\nas a merchant sailor, I should now take it into my head to go on a\\nwhaling voyage; this the invisible police officer of the Fates, who\\nhas the constant surveillance of me, and secretly dogs me, and\\ninfluences me in some unaccountable way--he can better answer than\\nany one else.  And, doubtless, my going on this whaling voyage,\\nformed part of the grand programme of Providence that was drawn up a\\nlong time ago.  It came in as a sort of brief interlude and solo\\nbetween more extensive performances.  I take it that this part of the\\nbill must have run something like this:\\n\\n\\n\"GRAND CONTESTED ELECTION FOR THE PRESIDENCY OF THE UNITED STATES.\\n\"WHALING VOYAGE BY ONE ISHMAEL.\\n\"BLOODY BATTLE IN AFFGHANISTAN.\"\\n\\n\\nThough I cannot tell why it was exactly that those stage managers,\\nthe Fates, put me down for this shabby part of a whaling voyage, when\\nothers were set down for magnificent parts in high tragedies, and\\nshort and easy parts in genteel comedies, and jolly parts in\\nfarces--though I cannot tell why this was exactly; yet, now that I\\nrecall all the circumstances, I think I can see a little into the\\nsprings and motives which being cunningly presented to me under\\nvarious disguises, induced me to set about performing the part I did,\\nbesides cajoling me into the delusion that it was a choice resulting\\nfrom my own unbiased freewill and discriminating judgment.\\n\\nChief among these motives was the overwhelming idea of the great\\nwhale himself.  Such a portentous and mysterious monster roused all\\nmy curiosity.  Then the wild and distant seas where he rolled his\\nisland bulk; the undeliverable, nameless perils of the whale; these,\\nwith all the attending marvels of a thousand Patagonian sights and\\nsounds, helped to sway me to my wish.  With other men, perhaps, such\\nthings would not have been inducements; but as for me, I am tormented\\nwith an everlasting itch for things remote.  I love to sail forbidden\\nseas, and land on barbarous coasts.  Not ignoring what is good, I am\\nquick to perceive a horror, and could still be social with it--would\\nthey let me--since it is but well to be on friendly terms with all\\nthe inmates of the place one lodges in.\\n\\nBy reason of these things, then, the whaling voyage was welcome; the\\ngreat flood-gates of the wonder-world swung open, and in the wild\\nconceits that swayed me to my purpose, two and two there floated into\\nmy inmost soul, endless processions of the whale, and, mid most of\\nthem all, one grand hooded phantom, like a snow hill in the air.\\n\\nI stuffed a shirt or two into my old carpet-bag, tucked it under my\\narm, and started for Cape Horn and the Pacific.  Quitting the good\\ncity of old Manhatto, I duly arrived in New Bedford.  It was a\\nSaturday night in December.  Much was I disappointed upon learning\\nthat the little packet for Nantucket had already sailed, and that no\\nway of reaching that place would offer, till the following Monday.\\n\\nAs most young candidates for the pains and penalties of whaling stop\\nat this same New Bedford, thence to embark on their voyage, it may as\\nwell be related that I, for one, had no idea of so doing.  For my\\nmind was made up to sail in no other than a Nantucket craft, because\\nthere was a fine, boisterous something about everything connected\\nwith that famous old island, which amazingly pleased me.  Besides\\nthough New Bedford has of late been gradually monopolising the\\nbusiness of whaling, and though in this matter poor old Nantucket is\\nnow much behind her, yet Nantucket was her great original--the Tyre\\nof this Carthage;--the place where the first dead American whale was\\nstranded.  Where else but from Nantucket did those aboriginal\\nwhalemen, the Red-Men, first sally out in canoes to give chase to the\\nLeviathan?  And where but from Nantucket, too, did that first\\nadventurous little sloop put forth, partly laden with imported\\ncobblestones--so goes the story--to throw at the whales, in order to\\ndiscover when they were nigh enough to risk a harpoon from the\\nbowsprit?\\n\\nNow having a night, a day, and still another night following before\\nme in New Bedford, ere I could embark for my destined port, it\\nbecame a matter of concernment where I was to eat and sleep\\nmeanwhile.  It was a very dubious-looking, nay, a very dark and\\ndismal night, bitingly cold and cheerless.  I knew no one in the\\nplace.  With anxious grapnels I had sounded my pocket, and only\\nbrought up a few pieces of silver,--So, wherever you go, Ishmael,\\nsaid I to myself, as I stood in the middle of a dreary street\\nshouldering my bag, and comparing the gloom towards the north with\\nthe darkness towards the south--wherever in your wisdom you may\\nconclude to lodge for the night, my dear Ishmael, be sure to inquire\\nthe price, and don\\'t be too particular.\\n\\nWith halting steps I paced the streets, and passed the sign of \"The\\nCrossed Harpoons\"--but it looked too expensive and jolly there.\\nFurther on, from the bright red windows of the \"Sword-Fish Inn,\"\\nthere came such fervent rays, that it seemed to have melted the\\npacked snow and ice from before the house, for everywhere else the\\ncongealed frost lay ten inches thick in a hard, asphaltic\\npavement,--rather weary for me, when I struck my foot against the\\nflinty projections, because from hard, remorseless service the soles\\nof my boots were in a most miserable plight.  Too expensive and\\njolly, again thought I, pausing one moment to watch the broad glare\\nin the street, and hear the sounds of the tinkling glasses within.\\nBut go on, Ishmael, said I at last; don\\'t you hear? get away from\\nbefore the door; your patched boots are stopping the way.  So on I\\nwent.  I now by instinct followed the streets that took me waterward,\\nfor there, doubtless, were the cheapest, if not the cheeriest inns.\\n\\nSuch dreary streets! blocks of blackness, not houses, on either\\nhand, and here and there a candle, like a candle moving about in a\\ntomb.  At this hour of the night, of the last day of the week, that\\nquarter of the town proved all but deserted.  But presently I came to\\na smoky light proceeding from a low, wide building, the door of which\\nstood invitingly open.  It had a careless look, as if it were meant\\nfor the uses of the public; so, entering, the first thing I did was\\nto stumble over an ash-box in the porch.  Ha! thought I, ha, as the\\nflying particles almost choked me, are these ashes from that\\ndestroyed city, Gomorrah?  But \"The Crossed Harpoons,\" and \"The\\nSword-Fish?\"--this, then must needs be the sign of \"The Trap.\"\\nHowever, I picked myself up and hearing a loud voice within, pushed\\non and opened a second, interior door.\\n\\nIt seemed the great Black Parliament sitting in Tophet.  A hundred\\nblack faces turned round in their rows to peer; and beyond, a black\\nAngel of Doom was beating a book in a pulpit.  It was a negro church;\\nand the preacher\\'s text was about the blackness of darkness, and the\\nweeping and wailing and teeth-gnashing there.  Ha, Ishmael, muttered\\nI, backing out, Wretched entertainment at the sign of \\'The Trap!\\'\\n\\nMoving on, I at last came to a dim sort of light not far from the\\ndocks, and heard a forlorn creaking in the air; and looking up, saw a\\nswinging sign over the door with a white painting upon it, faintly\\nrepresenting a tall straight jet of misty spray, and these words\\nunderneath--\"The Spouter Inn:--Peter Coffin.\"\\n\\nCoffin?--Spouter?--Rather ominous in that particular connexion,\\nthought I.  But it is a common name in Nantucket, they say, and I\\nsuppose this Peter here is an emigrant from there.  As the light\\nlooked so dim, and the place, for the time, looked quiet enough, and\\nthe dilapidated little wooden house itself looked as if it might have\\nbeen carted here from the ruins of some burnt district, and as the\\nswinging sign had a poverty-stricken sort of creak to it, I thought\\nthat here was the very spot for cheap lodgings, and the best of pea\\ncoffee.\\n\\nIt was a queer sort of place--a gable-ended old house, one side\\npalsied as it were, and leaning over sadly.  It stood on a sharp\\nbleak corner, where that tempestuous wind Euroclydon kept up a worse\\nhowling than ever it did about poor Paul\\'s tossed craft.  Euroclydon,\\nnevertheless, is a mighty pleasant zephyr to any one in-doors, with\\nhis feet on the hob quietly toasting for bed.  \"In judging of that\\ntempestuous wind called Euroclydon,\" says an old writer--of whose\\nworks I possess the only copy extant--\"it maketh a marvellous\\ndifference, whether thou lookest out at it from a glass window where\\nthe frost is all on the outside, or whether thou observest it from\\nthat sashless window, where the frost is on both sides, and of which\\nthe wight Death is the only glazier.\"  True enough, thought I, as\\nthis passage occurred to my mind--old black-letter, thou reasonest\\nwell.  Yes, these eyes are windows, and this body of mine is the\\nhouse.  What a pity they didn\\'t stop up the chinks and the crannies\\nthough, and thrust in a little lint here and there.  But it\\'s too\\nlate to make any improvements now.  The universe is finished; the\\ncopestone is on, and the chips were carted off a million years ago.\\nPoor Lazarus there, chattering his teeth against the curbstone for\\nhis pillow, and shaking off his tatters with his shiverings, he might\\nplug up both ears with rags, and put a corn-cob into his mouth, and\\nyet that would not keep out the tempestuous Euroclydon.  Euroclydon!\\nsays old Dives, in his red silken wrapper--(he had a redder one\\nafterwards) pooh, pooh!  What a fine frosty night; how Orion\\nglitters; what northern lights!  Let them talk of their oriental\\nsummer climes of everlasting conservatories; give me the privilege of\\nmaking my own summer with my own coals.\\n\\nBut what thinks Lazarus?  Can he warm his blue hands by holding them\\nup to the grand northern lights?  Would not Lazarus rather be in\\nSumatra than here?  Would he not far rather lay him down lengthwise\\nalong the line of the equator; yea, ye gods! go down to the fiery pit\\nitself, in order to keep out this frost?\\n\\nNow, that Lazarus should lie stranded there on the curbstone before\\nthe door of Dives, this is more wonderful than that an iceberg should\\nbe moored to one of the Moluccas.  Yet Dives himself, he too lives\\nlike a Czar in an ice palace made of frozen sighs, and being a\\npresident of a temperance society, he only drinks the tepid tears of\\norphans.\\n\\nBut no more of this blubbering now, we are going a-whaling, and there\\nis plenty of that yet to come.  Let us scrape the ice from our\\nfrosted feet, and see what sort of a place this \"Spouter\" may be.\\n\\nEntering that gable-ended Spouter-Inn, you found yourself in a wide,\\nlow, straggling entry with old-fashioned wainscots, reminding one of\\nthe bulwarks of some condemned old craft.  On one side hung a very\\nlarge oilpainting so thoroughly besmoked, and every way defaced,\\nthat in the unequal crosslights by which you viewed it, it was only\\nby diligent study and a series of systematic visits to it, and\\ncareful inquiry of the neighbors, that you could any way arrive at an\\nunderstanding of its purpose.  Such unaccountable masses of shades\\nand shadows, that at first you almost thought some ambitious young\\nartist, in the time of the New England hags, had endeavored to\\ndelineate chaos bewitched.  But by dint of much and earnest\\ncontemplation, and oft repeated ponderings, and especially by\\nthrowing open the little window towards the back of the entry, you at\\nlast come to the conclusion that such an idea, however wild, might\\nnot be altogether unwarranted.\\n\\nBut what most puzzled and confounded you was a long, limber,\\nportentous, black mass of something hovering in the centre of the\\npicture over three blue, dim, perpendicular lines floating in a\\nnameless yeast.  A boggy, soggy, squitchy picture truly, enough to\\ndrive a nervous man distracted.  Yet was there a sort of indefinite,\\nhalf-attained, unimaginable sublimity about it that fairly froze you\\nto it, till you involuntarily took an oath with yourself to find out\\nwhat that marvellous painting meant.  Ever and anon a bright, but,\\nalas, deceptive idea would dart you through.--It\\'s the Black Sea in a\\nmidnight gale.--It\\'s the unnatural combat of the four primal\\nelements.--It\\'s a blasted heath.--It\\'s a Hyperborean winter\\nscene.--It\\'s the breaking-up of the icebound stream of Time.  But at\\nlast all these fancies yielded to that one portentous something in\\nthe picture\\'s midst.  THAT once found out, and all the rest were\\nplain.  But stop; does it not bear a faint resemblance to a gigantic\\nfish? even the great leviathan himself?\\n\\nIn fact, the artist\\'s design seemed this: a final theory of my own,\\npartly based upon the aggregated opinions of many aged persons with\\nwhom I conversed upon the subject.  The picture represents a\\nCape-Horner in a great hurricane; the half-foundered ship weltering\\nthere with its three dismantled masts alone visible; and an\\nexasperated whale, purposing to spring clean over the craft, is in\\nthe enormous act of impaling himself upon the three mast-heads.\\n\\nThe opposite wall of this entry was hung all over with a heathenish\\narray of monstrous clubs and spears.  Some were thickly set with\\nglittering teeth resembling ivory saws; others were tufted with knots\\nof human hair; and one was sickle-shaped, with a vast handle sweeping\\nround like the segment made in the new-mown grass by a long-armed\\nmower.  You shuddered as you gazed, and wondered what monstrous\\ncannibal and savage could ever have gone a death-harvesting with such\\na hacking, horrifying implement.  Mixed with these were rusty old\\nwhaling lances and harpoons all broken and deformed.  Some were\\nstoried weapons.  With this once long lance, now wildly elbowed,\\nfifty years ago did Nathan Swain kill fifteen whales between a\\nsunrise and a sunset.  And that harpoon--so like a corkscrew now--was\\nflung in Javan seas, and run away with by a whale, years afterwards\\nslain off the Cape of Blanco.  The original iron entered nigh the\\ntail, and, like a restless needle sojourning in the body of a man,\\ntravelled full forty feet, and at last was found imbedded in the\\nhump.\\n\\nCrossing this dusky entry, and on through yon low-arched way--cut\\nthrough what in old times must have been a great central chimney with\\nfireplaces all round--you enter the public room.  A still duskier\\nplace is this, with such low ponderous beams above, and such old\\nwrinkled planks beneath, that you would almost fancy you trod some\\nold craft\\'s cockpits, especially of such a howling night, when this\\ncorner-anchored old ark rocked so furiously.  On one side stood a\\nlong, low, shelf-like table covered with cracked glass cases, filled\\nwith dusty rarities gathered from this wide world\\'s remotest nooks.\\nProjecting from the further angle of the room stands a dark-looking\\nden--the bar--a rude attempt at a right whale\\'s head.  Be that how it\\nmay, there stands the vast arched bone of the whale\\'s jaw, so wide, a\\ncoach might almost drive beneath it.  Within are shabby shelves,\\nranged round with old decanters, bottles, flasks; and in those jaws\\nof swift destruction, like another cursed Jonah (by which name indeed\\nthey called him), bustles a little withered old man, who, for their\\nmoney, dearly sells the sailors deliriums and death.\\n\\nAbominable are the tumblers into which he pours his poison.  Though\\ntrue cylinders without--within, the villanous green goggling glasses\\ndeceitfully tapered downwards to a cheating bottom.  Parallel\\nmeridians rudely pecked into the glass, surround these footpads\\'\\ngoblets.  Fill to THIS mark, and your charge is but a penny; to THIS\\na penny more; and so on to the full glass--the Cape Horn measure,\\nwhich you may gulp down for a shilling.\\n\\nUpon entering the place I found a number of young seamen gathered\\nabout a table, examining by a dim light divers specimens of\\nSKRIMSHANDER.  I sought the landlord, and telling him I desired to be\\naccommodated with a room, received for answer that his house was\\nfull--not a bed unoccupied.  \"But avast,\" he added, tapping his\\nforehead, \"you haint no objections to sharing a harpooneer\\'s blanket,\\nhave ye?  I s\\'pose you are goin\\' a-whalin\\', so you\\'d better get used\\nto that sort of thing.\"\\n\\nI told him that I never liked to sleep two in a bed; that if I should\\never do so, it would depend upon who the harpooneer might be, and\\nthat if he (the landlord) really had no other place for me, and the\\nharpooneer was not decidedly objectionable, why rather than wander\\nfurther about a strange town on so bitter a night, I would put up\\nwith the half of any decent man\\'s blanket.\\n\\n\"I thought so.  All right; take a seat.  Supper?--you want supper?\\nSupper\\'ll be ready directly.\"\\n\\nI sat down on an old wooden settle, carved all over like a bench on\\nthe Battery.  At one end a ruminating tar was still further adorning\\nit with his jack-knife, stooping over and diligently working away at\\nthe space between his legs.  He was trying his hand at a ship under\\nfull sail, but he didn\\'t make much headway, I thought.\\n\\nAt last some four or five of us were summoned to our meal in an\\nadjoining room.  It was cold as Iceland--no fire at all--the landlord\\nsaid he couldn\\'t afford it.  Nothing but two dismal tallow candles,\\neach in a winding sheet.  We were fain to button up our monkey\\njackets, and hold to our lips cups of scalding tea with our half\\nfrozen fingers.  But the fare was of the most substantial kind--not\\nonly meat and potatoes, but dumplings; good heavens! dumplings for\\nsupper!  One young fellow in a green box coat, addressed himself to\\nthese dumplings in a most direful manner.\\n\\n\"My boy,\" said the landlord, \"you\\'ll have the nightmare to a dead\\nsartainty.\"\\n\\n\"Landlord,\" I whispered, \"that aint the harpooneer is it?\"\\n\\n\"Oh, no,\" said he, looking a sort of diabolically funny, \"the\\nharpooneer is a dark complexioned chap.  He never eats dumplings, he\\ndon\\'t--he eats nothing but steaks, and he likes \\'em rare.\"\\n\\n\"The devil he does,\" says I.  \"Where is that harpooneer?  Is he\\nhere?\"\\n\\n\"He\\'ll be here afore long,\" was the answer.\\n\\nI could not help it, but I began to feel suspicious of this \"dark\\ncomplexioned\" harpooneer.  At any rate, I made up my mind that if it\\nso turned out that we should sleep together, he must undress and get\\ninto bed before I did.\\n\\nSupper over, the company went back to the bar-room, when, knowing not\\nwhat else to do with myself, I resolved to spend the rest of the\\nevening as a looker on.\\n\\nPresently a rioting noise was heard without.  Starting up, the\\nlandlord cried, \"That\\'s the Grampus\\'s crew.  I seed her reported in\\nthe offing this morning; a three years\\' voyage, and a full ship.\\nHurrah, boys; now we\\'ll have the latest news from the Feegees.\"\\n\\nA tramping of sea boots was heard in the entry; the door was flung\\nopen, and in rolled a wild set of mariners enough.  Enveloped in\\ntheir shaggy watch coats, and with their heads muffled in woollen\\ncomforters, all bedarned and ragged, and their beards stiff with\\nicicles, they seemed an eruption of bears from Labrador.  They had\\njust landed from their boat, and this was the first house they\\nentered.  No wonder, then, that they made a straight wake for the\\nwhale\\'s mouth--the bar--when the wrinkled little old Jonah, there\\nofficiating, soon poured them out brimmers all round.  One complained\\nof a bad cold in his head, upon which Jonah mixed him a pitch-like\\npotion of gin and molasses, which he swore was a sovereign cure for\\nall colds and catarrhs whatsoever, never mind of how long standing,\\nor whether caught off the coast of Labrador, or on the weather side\\nof an ice-island.\\n\\nThe liquor soon mounted into their heads, as it generally does even\\nwith the arrantest topers newly landed from sea, and they began\\ncapering about most obstreperously.\\n\\nI observed, however, that one of them held somewhat aloof, and though\\nhe seemed desirous not to spoil the hilarity of his shipmates by his\\nown sober face, yet upon the whole he refrained from making as much\\nnoise as the rest.  This man interested me at once; and since the\\nsea-gods had ordained that he should soon become my shipmate (though\\nbut a sleeping-partner one, so far as this narrative is concerned),\\nI will here venture upon a little description of him.  He stood full\\nsix feet in height, with noble shoulders, and a chest like a\\ncoffer-dam.  I have seldom seen such brawn in a man.  His face was\\ndeeply brown and burnt, making his white teeth dazzling by the\\ncontrast; while in the deep shadows of his eyes floated some\\nreminiscences that did not seem to give him much joy.  His voice at\\nonce announced that he was a Southerner, and from his fine stature, I\\nthought he must be one of those tall mountaineers from the\\nAlleghanian Ridge in Virginia.  When the revelry of his companions\\nhad mounted to its height, this man slipped away unobserved, and I\\nsaw no more of him till he became my comrade on the sea.  In a few\\nminutes, however, he was missed by his shipmates, and being, it\\nseems, for some reason a huge favourite with them, they raised a cry\\nof \"Bulkington!  Bulkington! where\\'s Bulkington?\" and darted out of\\nthe house in pursuit of him.\\n\\nIt was now about nine o\\'clock, and the room seeming almost\\nsupernaturally quiet after these orgies, I began to congratulate\\nmyself upon a little plan that had occurred to me just previous to\\nthe entrance of the seamen.\\n\\nNo man prefers to sleep two in a bed.  In fact, you would a good deal\\nrather not sleep with your own brother.  I don\\'t know how it is, but\\npeople like to be private when they are sleeping.  And when it comes\\nto sleeping with an unknown stranger, in a strange inn, in a strange\\ntown, and that stranger a harpooneer, then your objections\\nindefinitely multiply.  Nor was there any earthly reason why I as a\\nsailor should sleep two in a bed, more than anybody else; for sailors\\nno more sleep two in a bed at sea, than bachelor Kings do ashore.  To\\nbe sure they all sleep together in one apartment, but you have your\\nown hammock, and cover yourself with your own blanket, and sleep in\\nyour own skin.\\n\\nThe more I pondered over this harpooneer, the more I abominated the\\nthought of sleeping with him.  It was fair to presume that being a\\nharpooneer, his linen or woollen, as the case might be, would not be\\nof the tidiest, certainly none of the finest.  I began to twitch all\\nover.  Besides, it was getting late, and my decent harpooneer ought\\nto be home and going bedwards.  Suppose now, he should tumble in upon\\nme at midnight--how could I tell from what vile hole he had been\\ncoming?\\n\\n\"Landlord!  I\\'ve changed my mind about that harpooneer.--I shan\\'t\\nsleep with him.  I\\'ll try the bench here.\"\\n\\n\"Just as you please; I\\'m sorry I cant spare ye a tablecloth for a\\nmattress, and it\\'s a plaguy rough board here\"--feeling of the knots\\nand notches.  \"But wait a bit, Skrimshander; I\\'ve got a carpenter\\'s\\nplane there in the bar--wait, I say, and I\\'ll make ye snug enough.\"\\nSo saying he procured the plane; and with his old silk handkerchief\\nfirst dusting the bench, vigorously set to planing away at my bed,\\nthe while grinning like an ape.  The shavings flew right and left;\\ntill at last the plane-iron came bump against an indestructible knot.\\nThe landlord was near spraining his wrist, and I told him for\\nheaven\\'s sake to quit--the bed was soft enough to suit me, and I did\\nnot know how all the planing in the world could make eider down of a\\npine plank.  So gathering up the shavings with another grin, and\\nthrowing them into the great stove in the middle of the room, he went\\nabout his business, and left me in a brown study.\\n\\nI now took the measure of the bench, and found that it was a foot too\\nshort; but that could be mended with a chair.  But it was a foot too\\nnarrow, and the other bench in the room was about four inches higher\\nthan the planed one--so there was no yoking them.  I then placed the\\nfirst bench lengthwise along the only clear space against the wall,\\nleaving a little interval between, for my back to settle down in.\\nBut I soon found that there came such a draught of cold air over me\\nfrom under the sill of the window, that this plan would never do at\\nall, especially as another current from the rickety door met the one\\nfrom the window, and both together formed a series of small\\nwhirlwinds in the immediate vicinity of the spot where I had thought\\nto spend the night.\\n\\nThe devil fetch that harpooneer, thought I, but stop, couldn\\'t I\\nsteal a march on him--bolt his door inside, and jump into his bed,\\nnot to be wakened by the most violent knockings?  It seemed no bad\\nidea; but upon second thoughts I dismissed it.  For who could tell\\nbut what the next morning, so soon as I popped out of the room, the\\nharpooneer might be standing in the entry, all ready to knock me\\ndown!\\n\\nStill, looking round me again, and seeing no possible chance of\\nspending a sufferable night unless in some other person\\'s bed, I\\nbegan to think that after all I might be cherishing unwarrantable\\nprejudices against this unknown harpooneer.  Thinks I, I\\'ll wait\\nawhile; he must be dropping in before long.  I\\'ll have a good look at\\nhim then, and perhaps we may become jolly good bedfellows after\\nall--there\\'s no telling.\\n\\nBut though the other boarders kept coming in by ones, twos, and\\nthrees, and going to bed, yet no sign of my harpooneer.\\n\\n\"Landlord! said I, \"what sort of a chap is he--does he always keep\\nsuch late hours?\"  It was now hard upon twelve o\\'clock.\\n\\nThe landlord chuckled again with his lean chuckle, and seemed to be\\nmightily tickled at something beyond my comprehension.  \"No,\" he\\nanswered, \"generally he\\'s an early bird--airley to bed and airley to\\nrise--yes, he\\'s the bird what catches the worm.  But to-night he\\nwent out a peddling, you see, and I don\\'t see what on airth keeps him\\nso late, unless, may be, he can\\'t sell his head.\"\\n\\n\"Can\\'t sell his head?--What sort of a bamboozingly story is this you\\nare telling me?\" getting into a towering rage.  \"Do you pretend to\\nsay, landlord, that this harpooneer is actually engaged this blessed\\nSaturday night, or rather Sunday morning, in peddling his head around\\nthis town?\"\\n\\n\"That\\'s precisely it,\" said the landlord, \"and I told him he couldn\\'t\\nsell it here, the market\\'s overstocked.\"\\n\\n\"With what?\" shouted I.\\n\\n\"With heads to be sure; ain\\'t there too many heads in the world?\"\\n\\n\"I tell you what it is, landlord,\" said I quite calmly, \"you\\'d better\\nstop spinning that yarn to me--I\\'m not green.\"\\n\\n\"May be not,\" taking out a stick and whittling a toothpick, \"but I\\nrayther guess you\\'ll be done BROWN if that ere harpooneer hears you a\\nslanderin\\' his head.\"\\n\\n\"I\\'ll break it for him,\" said I, now flying into a passion again at\\nthis unaccountable farrago of the landlord\\'s.\\n\\n\"It\\'s broke a\\'ready,\" said he.\\n\\n\"Broke,\" said I--\"BROKE, do you mean?\"\\n\\n\"Sartain, and that\\'s the very reason he can\\'t sell it, I guess.\"\\n\\n\"Landlord,\" said I, going up to him as cool as Mt. Hecla in a\\nsnow-storm--\"landlord, stop whittling.  You and I must understand one\\nanother, and that too without delay.  I come to your house and want a\\nbed; you tell me you can only give me half a one; that the other half\\nbelongs to a certain harpooneer.  And about this harpooneer, whom I\\nhave not yet seen, you persist in telling me the most mystifying and\\nexasperating stories tending to beget in me an uncomfortable feeling\\ntowards the man whom you design for my bedfellow--a sort of\\nconnexion, landlord, which is an intimate and confidential one in the\\nhighest degree.  I now demand of you to speak out and tell me who and\\nwhat this harpooneer is, and whether I shall be in all respects safe\\nto spend the night with him.  And in the first place, you will be so\\ngood as to unsay that story about selling his head, which if true I\\ntake to be good evidence that this harpooneer is stark mad, and I\\'ve\\nno idea of sleeping with a madman; and you, sir, YOU I mean,\\nlandlord, YOU, sir, by trying to induce me to do so knowingly, would\\nthereby render yourself liable to a criminal prosecution.\"\\n\\n\"Wall,\" said the landlord, fetching a long breath, \"that\\'s a purty\\nlong sarmon for a chap that rips a little now and then.  But be easy,\\nbe easy, this here harpooneer I have been tellin\\' you of has just\\narrived from the south seas, where he bought up a lot of \\'balmed New\\nZealand heads (great curios, you know), and he\\'s sold all on \\'em but\\none, and that one he\\'s trying to sell to-night, cause to-morrow\\'s\\nSunday, and it would not do to be sellin\\' human heads about the\\nstreets when folks is goin\\' to churches.  He wanted to, last Sunday,\\nbut I stopped him just as he was goin\\' out of the door with four\\nheads strung on a string, for all the airth like a string of inions.\"\\n\\nThis account cleared up the otherwise unaccountable mystery, and\\nshowed that the landlord, after all, had had no idea of fooling\\nme--but at the same time what could I think of a harpooneer who\\nstayed out of a Saturday night clean into the holy Sabbath, engaged\\nin such a cannibal business as selling the heads of dead idolators?\\n\\n\"Depend upon it, landlord, that harpooneer is a dangerous man.\"\\n\\n\"He pays reg\\'lar,\" was the rejoinder.  \"But come, it\\'s getting\\ndreadful late, you had better be turning flukes--it\\'s a nice bed;\\nSal and me slept in that ere bed the night we were spliced.  There\\'s\\nplenty of room for two to kick about in that bed; it\\'s an almighty\\nbig bed that.  Why, afore we give it up, Sal used to put our Sam and\\nlittle Johnny in the foot of it.  But I got a dreaming and sprawling\\nabout one night, and somehow, Sam got pitched on the floor, and came\\nnear breaking his arm.  Arter that, Sal said it wouldn\\'t do.  Come\\nalong here, I\\'ll give ye a glim in a jiffy;\" and so saying he lighted\\na candle and held it towards me, offering to lead the way.  But I\\nstood irresolute; when looking at a clock in the corner, he exclaimed\\n\"I vum it\\'s Sunday--you won\\'t see that harpooneer to-night; he\\'s come\\nto anchor somewhere--come along then; DO come; WON\\'T ye come?\"\\n\\nI considered the matter a moment, and then up stairs we went, and I\\nwas ushered into a small room, cold as a clam, and furnished, sure\\nenough, with a prodigious bed, almost big enough indeed for any four\\nharpooneers to sleep abreast.\\n\\n\"There,\" said the landlord, placing the candle on a crazy old sea\\nchest that did double duty as a wash-stand and centre table; \"there,\\nmake yourself comfortable now, and good night to ye.\"  I turned\\nround from eyeing the bed, but he had disappeared.\\n\\nFolding back the counterpane, I stooped over the bed.  Though none of\\nthe most elegant, it yet stood the scrutiny tolerably well.  I then\\nglanced round the room; and besides the bedstead and centre table,\\ncould see no other furniture belonging to the place, but a rude\\nshelf, the four walls, and a papered fireboard representing a man\\nstriking a whale.  Of things not properly belonging to the room,\\nthere was a hammock lashed up, and thrown upon the floor in one\\ncorner; also a large seaman\\'s bag, containing the harpooneer\\'s\\nwardrobe, no doubt in lieu of a land trunk.  Likewise, there was a\\nparcel of outlandish bone fish hooks on the shelf over the\\nfire-place, and a tall harpoon standing at the head of the bed.\\n\\nBut what is this on the chest?  I took it up, and held it close to\\nthe light, and felt it, and smelt it, and tried every way possible to\\narrive at some satisfactory conclusion concerning it.  I can compare\\nit to nothing but a large door mat, ornamented at the edges with\\nlittle tinkling tags something like the stained porcupine quills\\nround an Indian moccasin.  There was a hole or slit in the middle of\\nthis mat, as you see the same in South American ponchos.  But could\\nit be possible that any sober harpooneer would get into a door mat,\\nand parade the streets of any Christian town in that sort of guise?\\nI put it on, to try it, and it weighed me down like a hamper, being\\nuncommonly shaggy and thick, and I thought a little damp, as though\\nthis mysterious harpooneer had been wearing it of a rainy day.  I\\nwent up in it to a bit of glass stuck against the wall, and I never\\nsaw such a sight in my life.  I tore myself out of it in such a hurry\\nthat I gave myself a kink in the neck.\\n\\nI sat down on the side of the bed, and commenced thinking about this\\nhead-peddling harpooneer, and his door mat.  After thinking some time\\non the bed-side, I got up and took off my monkey jacket, and then\\nstood in the middle of the room thinking.  I then took off my coat,\\nand thought a little more in my shirt sleeves.  But beginning to feel\\nvery cold now, half undressed as I was, and remembering what the\\nlandlord said about the harpooneer\\'s not coming home at all that\\nnight, it being so very late, I made no more ado, but jumped out of\\nmy pantaloons and boots, and then blowing out the light tumbled into\\nbed, and commended myself to the care of heaven.\\n\\nWhether that mattress was stuffed with corn-cobs or broken crockery,\\nthere is no telling, but I rolled about a good deal, and could not\\nsleep for a long time.  At last I slid off into a light doze, and had\\npretty nearly made a good offing towards the land of Nod, when I\\nheard a heavy footfall in the passage, and saw a glimmer of light\\ncome into the room from under the door.\\n\\nLord save me, thinks I, that must be the harpooneer, the infernal\\nhead-peddler.  But I lay perfectly still, and resolved not to say a\\nword till spoken to.  Holding a light in one hand, and that identical\\nNew Zealand head in the other, the stranger entered the room, and\\nwithout looking towards the bed, placed his candle a good way off\\nfrom me on the floor in one corner, and then began working away at\\nthe knotted cords of the large bag I before spoke of as being in the\\nroom.  I was all eagerness to see his face, but he kept it averted\\nfor some time while employed in unlacing the bag\\'s mouth.  This\\naccomplished, however, he turned round--when, good heavens! what a\\nsight!  Such a face!  It was of a dark, purplish, yellow colour, here\\nand there stuck over with large blackish looking squares.  Yes, it\\'s\\njust as I thought, he\\'s a terrible bedfellow; he\\'s been in a fight,\\ngot dreadfully cut, and here he is, just from the surgeon.  But at\\nthat moment he chanced to turn his face so towards the light, that I\\nplainly saw they could not be sticking-plasters at all, those black\\nsquares on his cheeks.  They were stains of some sort or other.  At\\nfirst I knew not what to make of this; but soon an inkling of the\\ntruth occurred to me.  I remembered a story of a white man--a\\nwhaleman too--who, falling among the cannibals, had been tattooed by\\nthem.  I concluded that this harpooneer, in the course of his distant\\nvoyages, must have met with a similar adventure.  And what is it,\\nthought I, after all!  It\\'s only his outside; a man can be honest in\\nany sort of skin.  But then, what to make of his unearthly\\ncomplexion, that part of it, I mean, lying round about, and\\ncompletely independent of the squares of tattooing.  To be sure, it\\nmight be nothing but a good coat of tropical tanning; but I never\\nheard of a hot sun\\'s tanning a white man into a purplish yellow one.\\nHowever, I had never been in the South Seas; and perhaps the sun\\nthere produced these extraordinary effects upon the skin.  Now, while\\nall these ideas were passing through me like lightning, this\\nharpooneer never noticed me at all.  But, after some difficulty\\nhaving opened his bag, he commenced fumbling in it, and presently\\npulled out a sort of tomahawk, and a seal-skin wallet with the hair\\non.  Placing these on the old chest in the middle of the room, he\\nthen took the New Zealand head--a ghastly thing enough--and crammed\\nit down into the bag.  He now took off his hat--a new beaver\\nhat--when I came nigh singing out with fresh surprise.  There was no\\nhair on his head--none to speak of at least--nothing but a small\\nscalp-knot twisted up on his forehead.  His bald purplish head now\\nlooked for all the world like a mildewed skull.  Had not the stranger\\nstood between me and the door, I would have bolted out of it quicker\\nthan ever I bolted a dinner.\\n\\nEven as it was, I thought something of slipping out of the window,\\nbut it was the second floor back.  I am no coward, but what to make\\nof this head-peddling purple rascal altogether passed my\\ncomprehension.  Ignorance is the parent of fear, and being completely\\nnonplussed and confounded about the stranger, I confess I was now as\\nmuch afraid of him as if it was the devil himself who had thus broken\\ninto my room at the dead of night.  In fact, I was so afraid of him\\nthat I was not game enough just then to address him, and demand a\\nsatisfactory answer concerning what seemed inexplicable in him.\\n\\nMeanwhile, he continued the business of undressing, and at last\\nshowed his chest and arms.  As I live, these covered parts of him\\nwere checkered with the same squares as his face; his back, too, was\\nall over the same dark squares; he seemed to have been in a Thirty\\nYears\\' War, and just escaped from it with a sticking-plaster shirt.\\nStill more, his very legs were marked, as if a parcel of dark green\\nfrogs were running up the trunks of young palms.  It was now quite\\nplain that he must be some abominable savage or other shipped aboard\\nof a whaleman in the South Seas, and so landed in this Christian\\ncountry.  I quaked to think of it.  A peddler of heads too--perhaps\\nthe heads of his own brothers.  He might take a fancy to\\nmine--heavens! look at that tomahawk!\\n\\nBut there was no time for shuddering, for now the savage went about\\nsomething that completely fascinated my attention, and convinced me\\nthat he must indeed be a heathen.  Going to his heavy grego, or\\nwrapall, or dreadnaught, which he had previously hung on a chair, he\\nfumbled in the pockets, and produced at length a curious little\\ndeformed image with a hunch on its back, and exactly the colour of a\\nthree days\\' old Congo baby.  Remembering the embalmed head, at first\\nI almost thought that this black manikin was a real baby preserved\\nin some similar manner.  But seeing that it was not at all limber,\\nand that it glistened a good deal like polished ebony, I concluded\\nthat it must be nothing but a wooden idol, which indeed it proved to\\nbe.  For now the savage goes up to the empty fire-place, and removing\\nthe papered fire-board, sets up this little hunch-backed image, like\\na tenpin, between the andirons.  The chimney jambs and all the bricks\\ninside were very sooty, so that I thought this fire-place made a very\\nappropriate little shrine or chapel for his Congo idol.\\n\\nI now screwed my eyes hard towards the half hidden image, feeling but\\nill at ease meantime--to see what was next to follow.  First he takes\\nabout a double handful of shavings out of his grego pocket, and\\nplaces them carefully before the idol; then laying a bit of ship\\nbiscuit on top and applying the flame from the lamp, he kindled the\\nshavings into a sacrificial blaze.  Presently, after many hasty\\nsnatches into the fire, and still hastier withdrawals of his fingers\\n(whereby he seemed to be scorching them badly), he at last succeeded\\nin drawing out the biscuit; then blowing off the heat and ashes a\\nlittle, he made a polite offer of it to the little negro.  But the\\nlittle devil did not seem to fancy such dry sort of fare at all; he\\nnever moved his lips.  All these strange antics were accompanied by\\nstill stranger guttural noises from the devotee, who seemed to be\\npraying in a sing-song or else singing some pagan psalmody or other,\\nduring which his face twitched about in the most unnatural manner.\\nAt last extinguishing the fire, he took the idol up very\\nunceremoniously, and bagged it again in his grego pocket as\\ncarelessly as if he were a sportsman bagging a dead woodcock.\\n\\nAll these queer proceedings increased my uncomfortableness, and\\nseeing him now exhibiting strong symptoms of concluding his business\\noperations, and jumping into bed with me, I thought it was high time,\\nnow or never, before the light was put out, to break the spell in\\nwhich I had so long been bound.\\n\\nBut the interval I spent in deliberating what to say, was a fatal\\none.  Taking up his tomahawk from the table, he examined the head of\\nit for an instant, and then holding it to the light, with his mouth\\nat the handle, he puffed out great clouds of tobacco smoke.  The next\\nmoment the light was extinguished, and this wild cannibal, tomahawk\\nbetween his teeth, sprang into bed with me.  I sang out, I could not\\nhelp it now; and giving a sudden grunt of astonishment he began\\nfeeling me.\\n\\nStammering out something, I knew not what, I rolled away from him\\nagainst the wall, and then conjured him, whoever or whatever he might\\nbe, to keep quiet, and let me get up and light the lamp again.  But\\nhis guttural responses satisfied me at once that he but ill\\ncomprehended my meaning.\\n\\n\"Who-e debel you?\"--he at last said--\"you no speak-e, dam-me, I\\nkill-e.\"  And so saying the lighted tomahawk began flourishing about\\nme in the dark.\\n\\n\"Landlord, for God\\'s sake, Peter Coffin!\" shouted I.  \"Landlord!\\nWatch!  Coffin!  Angels! save me!\"\\n\\n\"Speak-e! tell-ee me who-ee be, or dam-me, I kill-e!\" again growled\\nthe cannibal, while his horrid flourishings of the tomahawk scattered\\nthe hot tobacco ashes about me till I thought my linen would get on\\nfire.  But thank heaven, at that moment the landlord came into the\\nroom light in hand, and leaping from the bed I ran up to him.\\n\\n\"Don\\'t be afraid now,\" said he, grinning again, \"Queequeg here\\nwouldn\\'t harm a hair of your head.\"\\n\\n\"Stop your grinning,\" shouted I, \"and why didn\\'t you tell me that\\nthat infernal harpooneer was a cannibal?\"\\n\\n\"I thought ye know\\'d it;--didn\\'t I tell ye, he was a peddlin\\' heads\\naround town?--but turn flukes again and go to sleep.  Queequeg, look\\nhere--you sabbee me, I sabbee--you this man sleepe you--you sabbee?\"\\n\\n\"Me sabbee plenty\"--grunted Queequeg, puffing away at his pipe and\\nsitting up in bed.\\n\\n\"You gettee in,\" he added, motioning to me with his tomahawk, and\\nthrowing the clothes to one side.  He really did this in not only a\\ncivil but a really kind and charitable way.  I stood looking at him a\\nmoment.  For all his tattooings he was on the whole a clean, comely\\nlooking cannibal.  What\\'s all this fuss I have been making about,\\nthought I to myself--the man\\'s a human being just as I am: he has\\njust as much reason to fear me, as I have to be afraid of him.\\nBetter sleep with a sober cannibal than a drunken Christian.\\n\\n\"Landlord,\" said I, \"tell him to stash his tomahawk there, or pipe,\\nor whatever you call it; tell him to stop smoking, in short, and I\\nwill turn in with him.  But I don\\'t fancy having a man smoking in bed\\nwith me.  It\\'s dangerous.  Besides, I ain\\'t insured.\"\\n\\nThis being told to Queequeg, he at once complied, and again politely\\nmotioned me to get into bed--rolling over to one side as much as to\\nsay--I won\\'t touch a leg of ye.\"\\n\\n\"Good night, landlord,\" said I, \"you may go.\"\\n\\nI turned in, and never slept better in my life.\\n\\nUpon waking next morning about daylight, I found Queequeg\\'s arm\\nthrown over me in the most loving and affectionate manner.  You had\\nalmost thought I had been his wife.  The counterpane was of\\npatchwork, full of odd little parti-coloured squares and triangles;\\nand this arm of his tattooed all over with an interminable Cretan\\nlabyrinth of a figure, no two parts of which were of one precise\\nshade--owing I suppose to his keeping his arm at sea unmethodically\\nin sun and shade, his shirt sleeves irregularly rolled up at various\\ntimes--this same arm of his, I say, looked for all the world like a\\nstrip of that same patchwork quilt.  Indeed, partly lying on it as\\nthe arm did when I first awoke, I could hardly tell it from the\\nquilt, they so blended their hues together; and it was only by the\\nsense of weight and pressure that I could tell that Queequeg was\\nhugging me.\\n\\nMy sensations were strange.  Let me try to explain them.  When I was\\na child, I well remember a somewhat similar circumstance that befell\\nme; whether it was a reality or a dream, I never could entirely\\nsettle.  The circumstance was this.  I had been cutting up some caper\\nor other--I think it was trying to crawl up the chimney, as I had\\nseen a little sweep do a few days previous; and my stepmother who,\\nsomehow or other, was all the time whipping me, or sending me to bed\\nsupperless,--my mother dragged me by the legs out of the chimney and\\npacked me off to bed, though it was only two o\\'clock in the afternoon\\nof the 21st June, the longest day in the year in our hemisphere.  I\\nfelt dreadfully.  But there was no help for it, so up stairs I went\\nto my little room in the third floor, undressed myself as slowly as\\npossible so as to kill time, and with a bitter sigh got between the\\nsheets.\\n\\nI lay there dismally calculating that sixteen entire hours must\\nelapse before I could hope for a resurrection.  Sixteen hours in bed!\\nthe small of my back ached to think of it.  And it was so light too;\\nthe sun shining in at the window, and a great rattling of coaches in\\nthe streets, and the sound of gay voices all over the house.  I felt\\nworse and worse--at last I got up, dressed, and softly going down in\\nmy stockinged feet, sought out my stepmother, and suddenly threw\\nmyself at her feet, beseeching her as a particular favour to give me a\\ngood slippering for my misbehaviour; anything indeed but condemning\\nme to lie abed such an unendurable length of time.  But she was the\\nbest and most conscientious of stepmothers, and back I had to go to\\nmy room.  For several hours I lay there broad awake, feeling a great\\ndeal worse than I have ever done since, even from the greatest\\nsubsequent misfortunes.  At last I must have fallen into a troubled\\nnightmare of a doze; and slowly waking from it--half steeped in\\ndreams--I opened my eyes, and the before sun-lit room was now wrapped\\nin outer darkness.  Instantly I felt a shock running through all my\\nframe; nothing was to be seen, and nothing was to be heard; but a\\nsupernatural hand seemed placed in mine.  My arm hung over the\\ncounterpane, and the nameless, unimaginable, silent form or phantom,\\nto which the hand belonged, seemed closely seated by my bed-side.\\nFor what seemed ages piled on ages, I lay there, frozen with the most\\nawful fears, not daring to drag away my hand; yet ever thinking that\\nif I could but stir it one single inch, the horrid spell would be\\nbroken.  I knew not how this consciousness at last glided away from\\nme; but waking in the morning, I shudderingly remembered it all, and\\nfor days and weeks and months afterwards I lost myself in confounding\\nattempts to explain the mystery.  Nay, to this very hour, I often\\npuzzle myself with it.\\n\\nNow, take away the awful fear, and my sensations at feeling the\\nsupernatural hand in mine were very similar, in their strangeness,\\nto those which I experienced on waking up and seeing Queequeg\\'s pagan\\narm thrown round me.  But at length all the past night\\'s events\\nsoberly recurred, one by one, in fixed reality, and then I lay only\\nalive to the comical predicament.  For though I tried to move his\\narm--unlock his bridegroom clasp--yet, sleeping as he was, he still\\nhugged me tightly, as though naught but death should part us twain.\\nI now strove to rouse him--\"Queequeg!\"--but his only answer was a\\nsnore.  I then rolled over, my neck feeling as if it were in a\\nhorse-collar; and suddenly felt a slight scratch.  Throwing aside the\\ncounterpane, there lay the tomahawk sleeping by the savage\\'s side, as\\nif it were a hatchet-faced baby.  A pretty pickle, truly, thought I;\\nabed here in a strange house in the broad day, with a cannibal and a\\ntomahawk!  \"Queequeg!--in the name of goodness, Queequeg, wake!\"  At\\nlength, by dint of much wriggling, and loud and incessant\\nexpostulations upon the unbecomingness of his hugging a fellow male\\nin that matrimonial sort of style, I succeeded in extracting a grunt;\\nand presently, he drew back his arm, shook himself all over like a\\nNewfoundland dog just from the water, and sat up in bed, stiff as a\\npike-staff, looking at me, and rubbing his eyes as if he did not\\naltogether remember how I came to be there, though a dim\\nconsciousness of knowing something about me seemed slowly dawning\\nover him.  Meanwhile, I lay quietly eyeing him, having no serious\\nmisgivings now, and bent upon narrowly observing so curious a\\ncreature.  When, at last, his mind seemed made up touching the\\ncharacter of his bedfellow, and he became, as it were, reconciled to\\nthe fact; he jumped out upon the floor, and by certain signs and\\nsounds gave me to understand that, if it pleased me, he would dress\\nfirst and then leave me to dress afterwards, leaving the whole\\napartment to myself.  Thinks I, Queequeg, under the circumstances,\\nthis is a very civilized overture; but, the truth is, these savages\\nhave an innate sense of delicacy, say what you will; it is marvellous\\nhow essentially polite they are.  I pay this particular compliment to\\nQueequeg, because he treated me with so much civility and\\nconsideration, while I was guilty of great rudeness; staring at him\\nfrom the bed, and watching all his toilette motions; for the time my\\ncuriosity getting the better of my breeding.  Nevertheless, a man\\nlike Queequeg you don\\'t see every day, he and his ways were well\\nworth unusual regarding.\\n\\nHe commenced dressing at top by donning his beaver hat, a very tall\\none, by the by, and then--still minus his trowsers--he hunted up his\\nboots.  What under the heavens he did it for, I cannot tell, but his\\nnext movement was to crush himself--boots in hand, and hat on--under\\nthe bed; when, from sundry violent gaspings and strainings, I\\ninferred he was hard at work booting himself; though by no law of\\npropriety that I ever heard of, is any man required to be private\\nwhen putting on his boots.  But Queequeg, do you see, was a creature\\nin the transition stage--neither caterpillar nor butterfly.  He was\\njust enough civilized to show off his outlandishness in the strangest\\npossible manners.  His education was not yet completed.  He was an\\nundergraduate.  If he had not been a small degree civilized, he very\\nprobably would not have troubled himself with boots at all; but then,\\nif he had not been still a savage, he never would have dreamt of\\ngetting under the bed to put them on.  At last, he emerged with his\\nhat very much dented and crushed down over his eyes, and began\\ncreaking and limping about the room, as if, not being much accustomed\\nto boots, his pair of damp, wrinkled cowhide ones--probably not made\\nto order either--rather pinched and tormented him at the first go off\\nof a bitter cold morning.\\n\\nSeeing, now, that there were no curtains to the window, and that the\\nstreet being very narrow, the house opposite commanded a plain view\\ninto the room, and observing more and more the indecorous figure that\\nQueequeg made, staving about with little else but his hat and boots\\non; I begged him as well as I could, to accelerate his toilet\\nsomewhat, and particularly to get into his pantaloons as soon as\\npossible.  He complied, and then proceeded to wash himself.  At that\\ntime in the morning any Christian would have washed his face; but\\nQueequeg, to my amazement, contented himself with restricting his\\nablutions to his chest, arms, and hands.  He then donned his\\nwaistcoat, and taking up a piece of hard soap on the wash-stand\\ncentre table, dipped it into water and commenced lathering his face.\\nI was watching to see where he kept his razor, when lo and behold, he\\ntakes the harpoon from the bed corner, slips out the long wooden\\nstock, unsheathes the head, whets it a little on his boot, and\\nstriding up to the bit of mirror against the wall, begins a vigorous\\nscraping, or rather harpooning of his cheeks.  Thinks I, Queequeg,\\nthis is using Rogers\\'s best cutlery with a vengeance.  Afterwards I\\nwondered the less at this operation when I came to know of what fine\\nsteel the head of a harpoon is made, and how exceedingly sharp the\\nlong straight edges are always kept.\\n\\nThe rest of his toilet was soon achieved, and he proudly marched out\\nof the room, wrapped up in his great pilot monkey jacket, and\\nsporting his harpoon like a marshal\\'s baton.'"
      ]
     },
     "execution_count": 87,
     "metadata": {},
     "output_type": "execute_result"
    }
   ],
   "source": [
    "read_file('moby_dick_four_chapters.txt')"
   ]
  },
  {
   "cell_type": "code",
   "execution_count": 88,
   "metadata": {},
   "outputs": [],
   "source": [
    "import spacy"
   ]
  },
  {
   "cell_type": "code",
   "execution_count": 89,
   "metadata": {},
   "outputs": [],
   "source": [
    "nlp = spacy.load('en')"
   ]
  },
  {
   "cell_type": "code",
   "execution_count": 90,
   "metadata": {},
   "outputs": [],
   "source": [
    "nlp.max_length = 1198623"
   ]
  },
  {
   "cell_type": "code",
   "execution_count": 91,
   "metadata": {},
   "outputs": [],
   "source": [
    "def seperate_punc(doc_text):\n",
    "    return [token.text.lower() for token in nlp(doc_text) if token.text not in '\\n\\n \\n\\n\\n\"-#$%&()--.*+-/:;<=>?[\\\\]^_`{|}~\\t\\n ']"
   ]
  },
  {
   "cell_type": "code",
   "execution_count": 92,
   "metadata": {},
   "outputs": [],
   "source": [
    "d = read_file('moby_dick_four_chapters.txt')"
   ]
  },
  {
   "cell_type": "code",
   "execution_count": 93,
   "metadata": {},
   "outputs": [],
   "source": [
    "tokens = seperate_punc(d)"
   ]
  },
  {
   "cell_type": "code",
   "execution_count": 94,
   "metadata": {},
   "outputs": [
    {
     "data": {
      "text/plain": [
       "12360"
      ]
     },
     "execution_count": 94,
     "metadata": {},
     "output_type": "execute_result"
    }
   ],
   "source": [
    "len(tokens)"
   ]
  },
  {
   "cell_type": "code",
   "execution_count": 95,
   "metadata": {},
   "outputs": [],
   "source": [
    "#25 words ----> network predict #26"
   ]
  },
  {
   "cell_type": "code",
   "execution_count": 96,
   "metadata": {},
   "outputs": [],
   "source": [
    "train_len = 25+1\n",
    "text_sequences = []\n",
    "for i in range(train_len, len(tokens)):\n",
    "    seq = tokens[i-train_len:i]\n",
    "    text_sequences.append(seq)"
   ]
  },
  {
   "cell_type": "code",
   "execution_count": 97,
   "metadata": {},
   "outputs": [
    {
     "data": {
      "text/plain": [
       "'call me ishmael some years ago never mind how long precisely having little or no money in my purse , and nothing particular to interest me'"
      ]
     },
     "execution_count": 97,
     "metadata": {},
     "output_type": "execute_result"
    }
   ],
   "source": [
    "' '.join(text_sequences[0])"
   ]
  },
  {
   "cell_type": "code",
   "execution_count": 98,
   "metadata": {},
   "outputs": [
    {
     "data": {
      "text/plain": [
       "'me ishmael some years ago never mind how long precisely having little or no money in my purse , and nothing particular to interest me on'"
      ]
     },
     "execution_count": 98,
     "metadata": {},
     "output_type": "execute_result"
    }
   ],
   "source": [
    "' '.join(text_sequences[1])"
   ]
  },
  {
   "cell_type": "code",
   "execution_count": 99,
   "metadata": {},
   "outputs": [
    {
     "data": {
      "text/plain": [
       "'ishmael some years ago never mind how long precisely having little or no money in my purse , and nothing particular to interest me on shore'"
      ]
     },
     "execution_count": 99,
     "metadata": {},
     "output_type": "execute_result"
    }
   ],
   "source": [
    "' '.join(text_sequences[2])"
   ]
  },
  {
   "cell_type": "code",
   "execution_count": 100,
   "metadata": {},
   "outputs": [],
   "source": [
    "from keras.preprocessing.text import Tokenizer\n"
   ]
  },
  {
   "cell_type": "code",
   "execution_count": 101,
   "metadata": {},
   "outputs": [],
   "source": [
    "tokenizer = Tokenizer()"
   ]
  },
  {
   "cell_type": "code",
   "execution_count": 102,
   "metadata": {},
   "outputs": [],
   "source": [
    "tokenizer.fit_on_texts(text_sequences)"
   ]
  },
  {
   "cell_type": "code",
   "execution_count": 103,
   "metadata": {},
   "outputs": [],
   "source": [
    "sequences = tokenizer.texts_to_sequences(text_sequences)"
   ]
  },
  {
   "cell_type": "code",
   "execution_count": 104,
   "metadata": {},
   "outputs": [],
   "source": [
    "# sequences[1]"
   ]
  },
  {
   "cell_type": "code",
   "execution_count": 105,
   "metadata": {},
   "outputs": [
    {
     "data": {
      "text/plain": [
       "{1: ',',\n",
       " 2: 'the',\n",
       " 3: 'a',\n",
       " 4: 'and',\n",
       " 5: 'of',\n",
       " 6: 'i',\n",
       " 7: 'to',\n",
       " 8: 'in',\n",
       " 9: 'it',\n",
       " 10: 'that',\n",
       " 11: 'he',\n",
       " 12: 'his',\n",
       " 13: 'was',\n",
       " 14: 'but',\n",
       " 15: 'me',\n",
       " 16: 'with',\n",
       " 17: 'as',\n",
       " 18: 'you',\n",
       " 19: 'this',\n",
       " 20: 'at',\n",
       " 21: 'is',\n",
       " 22: 'all',\n",
       " 23: 'for',\n",
       " 24: 'my',\n",
       " 25: 'on',\n",
       " 26: 'be',\n",
       " 27: \"'s\",\n",
       " 28: 'not',\n",
       " 29: 'from',\n",
       " 30: 'there',\n",
       " 31: 'one',\n",
       " 32: 'up',\n",
       " 33: 'what',\n",
       " 34: 'him',\n",
       " 35: 'so',\n",
       " 36: 'bed',\n",
       " 37: 'now',\n",
       " 38: 'no',\n",
       " 39: 'about',\n",
       " 40: 'into',\n",
       " 41: 'by',\n",
       " 42: 'were',\n",
       " 43: 'out',\n",
       " 44: 'or',\n",
       " 45: '!',\n",
       " 46: 'harpooneer',\n",
       " 47: 'had',\n",
       " 48: 'then',\n",
       " 49: 'have',\n",
       " 50: 'an',\n",
       " 51: 'upon',\n",
       " 52: 'little',\n",
       " 53: 'some',\n",
       " 54: 'old',\n",
       " 55: 'like',\n",
       " 56: 'if',\n",
       " 57: 'they',\n",
       " 58: 'would',\n",
       " 59: 'do',\n",
       " 60: 'over',\n",
       " 61: 'landlord',\n",
       " 62: 'thought',\n",
       " 63: 'room',\n",
       " 64: 'when',\n",
       " 65: 'could',\n",
       " 66: 'here',\n",
       " 67: 'head',\n",
       " 68: \"n't\",\n",
       " 69: 'night',\n",
       " 70: 'such',\n",
       " 71: 'which',\n",
       " 72: 'man',\n",
       " 73: 'did',\n",
       " 74: 'sea',\n",
       " 75: 'though',\n",
       " 76: 'time',\n",
       " 77: 'other',\n",
       " 78: 'very',\n",
       " 79: 'go',\n",
       " 80: 'these',\n",
       " 81: 'more',\n",
       " 82: 'first',\n",
       " 83: 'sort',\n",
       " 84: 'said',\n",
       " 85: 'last',\n",
       " 86: 'down',\n",
       " 87: 'most',\n",
       " 88: 'been',\n",
       " 89: 'never',\n",
       " 90: 'see',\n",
       " 91: 'your',\n",
       " 92: 'them',\n",
       " 93: 'must',\n",
       " 94: 'tell',\n",
       " 95: 'much',\n",
       " 96: 'good',\n",
       " 97: 'off',\n",
       " 98: 'myself',\n",
       " 99: 'are',\n",
       " 100: 'yet',\n",
       " 101: 'sleep',\n",
       " 102: 'who',\n",
       " 103: 'seemed',\n",
       " 104: 'light',\n",
       " 105: 'way',\n",
       " 106: 'their',\n",
       " 107: 'just',\n",
       " 108: 'being',\n",
       " 109: 'than',\n",
       " 110: 'place',\n",
       " 111: 'queequeg',\n",
       " 112: 'great',\n",
       " 113: 'long',\n",
       " 114: 'before',\n",
       " 115: 'get',\n",
       " 116: 'round',\n",
       " 117: 'where',\n",
       " 118: 'still',\n",
       " 119: 'any',\n",
       " 120: 'too',\n",
       " 121: 'only',\n",
       " 122: 'door',\n",
       " 123: 'can',\n",
       " 124: 'himself',\n",
       " 125: 'heads',\n",
       " 126: 'come',\n",
       " 127: 'ever',\n",
       " 128: 'two',\n",
       " 129: 'enough',\n",
       " 130: 'made',\n",
       " 131: 'how',\n",
       " 132: 'hand',\n",
       " 133: 'same',\n",
       " 134: 'looking',\n",
       " 135: 'something',\n",
       " 136: 'may',\n",
       " 137: \"'\",\n",
       " 138: 'almost',\n",
       " 139: 'say',\n",
       " 140: 'should',\n",
       " 141: 'side',\n",
       " 142: 'why',\n",
       " 143: 'own',\n",
       " 144: 'we',\n",
       " 145: 'new',\n",
       " 146: 'again',\n",
       " 147: 'came',\n",
       " 148: 'arm',\n",
       " 149: 'house',\n",
       " 150: 'away',\n",
       " 151: 'might',\n",
       " 152: 'nothing',\n",
       " 153: 'take',\n",
       " 154: 'towards',\n",
       " 155: 'water',\n",
       " 156: 'will',\n",
       " 157: 'under',\n",
       " 158: 'going',\n",
       " 159: 'rather',\n",
       " 160: 'make',\n",
       " 161: 'whale',\n",
       " 162: 'stood',\n",
       " 163: 'boots',\n",
       " 164: 'ye',\n",
       " 165: 'back',\n",
       " 166: \"'ll\",\n",
       " 167: 'tomahawk',\n",
       " 168: 'part',\n",
       " 169: 'world',\n",
       " 170: 'soon',\n",
       " 171: 'against',\n",
       " 172: 'those',\n",
       " 173: 'between',\n",
       " 174: 'after',\n",
       " 175: 'whaling',\n",
       " 176: 'lay',\n",
       " 177: 'took',\n",
       " 178: 'half',\n",
       " 179: 'began',\n",
       " 180: 'face',\n",
       " 181: 'streets',\n",
       " 182: 'land',\n",
       " 183: 'better',\n",
       " 184: 'once',\n",
       " 185: 'voyage',\n",
       " 186: 'give',\n",
       " 187: 'well',\n",
       " 188: 'however',\n",
       " 189: 'else',\n",
       " 190: 'heard',\n",
       " 191: 'put',\n",
       " 192: 'stop',\n",
       " 193: 'dark',\n",
       " 194: 'went',\n",
       " 195: 'black',\n",
       " 196: 'window',\n",
       " 197: 'cannibal',\n",
       " 198: 'fire',\n",
       " 199: 'every',\n",
       " 200: 'ship',\n",
       " 201: '?--',\n",
       " 202: 'town',\n",
       " 203: 'stand',\n",
       " 204: 'strange',\n",
       " 205: 'without',\n",
       " 206: 'feet',\n",
       " 207: 'whether',\n",
       " 208: 'because',\n",
       " 209: 'eyes',\n",
       " 210: 'think',\n",
       " 211: 'thinks',\n",
       " 212: 'idea',\n",
       " 213: 'bag',\n",
       " 214: 'nantucket',\n",
       " 215: 'late',\n",
       " 216: 'cold',\n",
       " 217: 'our',\n",
       " 218: 'found',\n",
       " 219: 'full',\n",
       " 220: 'morning',\n",
       " 221: 'sleeping',\n",
       " 222: 'feeling',\n",
       " 223: 'got',\n",
       " 224: 'mind',\n",
       " 225: 'her',\n",
       " 226: 'right',\n",
       " 227: 'its',\n",
       " 228: 'look',\n",
       " 229: 'south',\n",
       " 230: 'does',\n",
       " 231: 'let',\n",
       " 232: 'set',\n",
       " 233: 'yourself',\n",
       " 234: 'image',\n",
       " 235: 'saw',\n",
       " 236: 'am',\n",
       " 237: 'besides',\n",
       " 238: 'sailor',\n",
       " 239: 'seas',\n",
       " 240: 'rolled',\n",
       " 241: 'till',\n",
       " 242: 'day',\n",
       " 243: 'sign',\n",
       " 244: 'looked',\n",
       " 245: 'hard',\n",
       " 246: 'moment',\n",
       " 247: 'corner',\n",
       " 248: 'entry',\n",
       " 249: '.--',\n",
       " 250: 'four',\n",
       " 251: 'wall',\n",
       " 252: 'savage',\n",
       " 253: 'table',\n",
       " 254: 'indeed',\n",
       " 255: 'bench',\n",
       " 256: 'chest',\n",
       " 257: 'while',\n",
       " 258: 'stranger',\n",
       " 259: 'possible',\n",
       " 260: 'floor',\n",
       " 261: 'squares',\n",
       " 262: 'hat',\n",
       " 263: 'particular',\n",
       " 264: 'having',\n",
       " 265: 'years',\n",
       " 266: 'harpoon',\n",
       " 267: 'ishmael',\n",
       " 268: 'whenever',\n",
       " 269: 'mouth',\n",
       " 270: 'coffin',\n",
       " 271: 'high',\n",
       " 272: 'knew',\n",
       " 273: 'men',\n",
       " 274: 'hours',\n",
       " 275: 'green',\n",
       " 276: 'bit',\n",
       " 277: 'within',\n",
       " 278: 'picture',\n",
       " 279: 'told',\n",
       " 280: 'story',\n",
       " 281: 'mean',\n",
       " 282: 'thing',\n",
       " 283: ',--',\n",
       " 284: 'speak',\n",
       " 285: 'order',\n",
       " 286: 'making',\n",
       " 287: 'even',\n",
       " 288: 'perhaps',\n",
       " 289: 'things',\n",
       " 290: 'answer',\n",
       " 291: 'parts',\n",
       " 292: 'wild',\n",
       " 293: 'reason',\n",
       " 294: 'young',\n",
       " 295: 'craft',\n",
       " 296: 'business',\n",
       " 297: 'dead',\n",
       " 298: 'another',\n",
       " 299: 'middle',\n",
       " 300: 'sure',\n",
       " 301: 'candle',\n",
       " 302: 'presently',\n",
       " 303: 'low',\n",
       " 304: 'turned',\n",
       " 305: 'teeth',\n",
       " 306: 'dim',\n",
       " 307: 'euroclydon',\n",
       " 308: 'kept',\n",
       " 309: 'glass',\n",
       " 310: 'afterwards',\n",
       " 311: 'large',\n",
       " 312: 'three',\n",
       " 313: 'through',\n",
       " 314: 'telling',\n",
       " 315: 'getting',\n",
       " 316: 'small',\n",
       " 317: 'next',\n",
       " 318: 'seeing',\n",
       " 319: 'sell',\n",
       " 320: 'felt',\n",
       " 321: 'sun',\n",
       " 322: 'e',\n",
       " 323: 'money',\n",
       " 324: 'sail',\n",
       " 325: 'especially',\n",
       " 326: 'street',\n",
       " 327: 'city',\n",
       " 328: 'few',\n",
       " 329: 'previous',\n",
       " 330: 'sight',\n",
       " 331: 'days',\n",
       " 332: 'straight',\n",
       " 333: 'nigh',\n",
       " 334: 'legs',\n",
       " 335: 'try',\n",
       " 336: 'yes',\n",
       " 337: 'unless',\n",
       " 338: 'poor',\n",
       " 339: 'coat',\n",
       " 340: 'passenger',\n",
       " 341: ';--',\n",
       " 342: 'taking',\n",
       " 343: 'true',\n",
       " 344: 'ai',\n",
       " 345: 'always',\n",
       " 346: 'us',\n",
       " 347: 'really',\n",
       " 348: 'marvellous',\n",
       " 349: 'heaven',\n",
       " 350: 'air',\n",
       " 351: 'far',\n",
       " 352: 'second',\n",
       " 353: 'many',\n",
       " 354: 'has',\n",
       " 355: 'unaccountable',\n",
       " 356: 'grand',\n",
       " 357: 'jolly',\n",
       " 358: 'open',\n",
       " 359: 'shirt',\n",
       " 360: 'cape',\n",
       " 361: 'bedford',\n",
       " 362: 'fine',\n",
       " 363: 'further',\n",
       " 364: 'fish',\n",
       " 365: 'inn',\n",
       " 366: 'ice',\n",
       " 367: 'frost',\n",
       " 368: 'foot',\n",
       " 369: 'wide',\n",
       " 370: 'white',\n",
       " 371: 'tall',\n",
       " 372: 'spouter',\n",
       " 373: 'i.',\n",
       " 374: 'wooden',\n",
       " 375: 'worse',\n",
       " 376: 'death',\n",
       " 377: 'mine',\n",
       " 378: 'lazarus',\n",
       " 379: 'keep',\n",
       " 380: 'along',\n",
       " 381: 'hung',\n",
       " 382: 'throwing',\n",
       " 383: 'centre',\n",
       " 384: 'rest',\n",
       " 385: 'fact',\n",
       " 386: 'hair',\n",
       " 387: 'broken',\n",
       " 388: 'kill',\n",
       " 389: 'chimney',\n",
       " 390: 'fancy',\n",
       " 391: 'bar',\n",
       " 392: 'supper',\n",
       " 393: 'trying',\n",
       " 394: 'dumplings',\n",
       " 395: 'heavens',\n",
       " 396: 'manner',\n",
       " 397: 'devil',\n",
       " 398: 'together',\n",
       " 399: 'seen',\n",
       " 400: 'deal',\n",
       " 401: 'know',\n",
       " 402: 'skin',\n",
       " 403: 'ca',\n",
       " 404: 'shavings',\n",
       " 405: 'peddling',\n",
       " 406: 'sunday',\n",
       " 407: 'counterpane',\n",
       " 408: 'mat',\n",
       " 409: 'christian',\n",
       " 410: 'commenced',\n",
       " 411: 'thinking',\n",
       " 412: 'similar',\n",
       " 413: 'afraid',\n",
       " 414: 'length',\n",
       " 415: 'idol',\n",
       " 416: 'sabbee',\n",
       " 417: 'waking',\n",
       " 418: 'ago',\n",
       " 419: 'find',\n",
       " 420: 'damp',\n",
       " 421: 'soul',\n",
       " 422: 'strong',\n",
       " 423: 'account',\n",
       " 424: 'sword',\n",
       " 425: 'quietly',\n",
       " 426: 'degree',\n",
       " 427: 'left',\n",
       " 428: 'around',\n",
       " 429: 'fixed',\n",
       " 430: 'ships',\n",
       " 431: 'miles',\n",
       " 432: 'country',\n",
       " 433: 'stream',\n",
       " 434: 'lead',\n",
       " 435: 'american',\n",
       " 436: 'artist',\n",
       " 437: 'each',\n",
       " 438: 'goes',\n",
       " 439: 'deep',\n",
       " 440: 'distant',\n",
       " 441: 'winds',\n",
       " 442: 'blue',\n",
       " 443: 'among',\n",
       " 444: 'suddenly',\n",
       " 445: 'feel',\n",
       " 446: 'meaning',\n",
       " 447: 'phantom',\n",
       " 448: 'life',\n",
       " 449: 'passengers',\n",
       " 450: 'nor',\n",
       " 451: 'cook',\n",
       " 452: 'kind',\n",
       " 453: 'quite',\n",
       " 454: 'care',\n",
       " 455: 'board',\n",
       " 456: 'somehow',\n",
       " 457: 'broiled',\n",
       " 458: 'mast',\n",
       " 459: 'sense',\n",
       " 460: 'knowing',\n",
       " 461: 'either',\n",
       " 462: 'passed',\n",
       " 463: 'hands',\n",
       " 464: 'paying',\n",
       " 465: 'pay',\n",
       " 466: 'penny',\n",
       " 467: 'sailors',\n",
       " 468: 'exactly',\n",
       " 469: 'short',\n",
       " 470: 'easy',\n",
       " 471: 'portentous',\n",
       " 472: 'island',\n",
       " 473: 'nameless',\n",
       " 474: 'sounds',\n",
       " 475: 'since',\n",
       " 476: 'snow',\n",
       " 477: 'saturday',\n",
       " 478: 'matter',\n",
       " 479: 'red',\n",
       " 480: 'partly',\n",
       " 481: 'ere',\n",
       " 482: 'became',\n",
       " 483: 'meanwhile',\n",
       " 484: 'pocket',\n",
       " 485: 'darkness',\n",
       " 486: 'harpoons',\n",
       " 487: '\"--',\n",
       " 488: 'watch',\n",
       " 489: 'broad',\n",
       " 490: 'entering',\n",
       " 491: 'ha',\n",
       " 492: 'ashes',\n",
       " 493: 'opened',\n",
       " 494: 'peter',\n",
       " 495: 'name',\n",
       " 496: 'suppose',\n",
       " 497: 'quiet',\n",
       " 498: 'best',\n",
       " 499: 'tempestuous',\n",
       " 500: 'says',\n",
       " 501: 'thou',\n",
       " 502: 'both',\n",
       " 503: 'occurred',\n",
       " 504: 'dives',\n",
       " 505: 'holding',\n",
       " 506: 'frozen',\n",
       " 507: 'plenty',\n",
       " 508: 'altogether',\n",
       " 509: 'plain',\n",
       " 510: 'whom',\n",
       " 511: 'clean',\n",
       " 512: 'human',\n",
       " 513: 'entered',\n",
       " 514: 'wrinkled',\n",
       " 515: 'shelf',\n",
       " 516: 'jonah',\n",
       " 517: 'blanket',\n",
       " 518: \"goin'\",\n",
       " 519: 'bitter',\n",
       " 520: 'sat',\n",
       " 521: 'settle',\n",
       " 522: 'chap',\n",
       " 523: 'help',\n",
       " 524: 'spend',\n",
       " 525: 'landed',\n",
       " 526: 'standing',\n",
       " 527: 'held',\n",
       " 528: 'somewhat',\n",
       " 529: 'sober',\n",
       " 530: 'whole',\n",
       " 531: 'dam',\n",
       " 532: 'brown',\n",
       " 533: 'bulkington',\n",
       " 534: \"o'clock\",\n",
       " 535: 'none',\n",
       " 536: 'coming',\n",
       " 537: \"'ve\",\n",
       " 538: 'wait',\n",
       " 539: 'plane',\n",
       " 540: 'saying',\n",
       " 541: 'grinning',\n",
       " 542: 'placed',\n",
       " 543: 'shouted',\n",
       " 544: 'bedfellow',\n",
       " 545: 'zealand',\n",
       " 546: 'sal',\n",
       " 547: 'wash',\n",
       " 548: 'thrown',\n",
       " 549: 'purplish',\n",
       " 550: 'turn',\n",
       " 551: 'completely',\n",
       " 552: 'fear',\n",
       " 553: 'grego',\n",
       " 554: 'baby',\n",
       " 555: 'slowly',\n",
       " 556: 'civilized',\n",
       " 557: 'purse',\n",
       " 558: 'monkey',\n",
       " 559: 'involuntarily',\n",
       " 560: 'pausing',\n",
       " 561: 'warehouses',\n",
       " 562: 'requires',\n",
       " 563: 'people',\n",
       " 564: 'nearly',\n",
       " 565: 'ocean',\n",
       " 566: 'indian',\n",
       " 567: 'waterward',\n",
       " 568: 'battery',\n",
       " 569: 'noble',\n",
       " 570: 'washed',\n",
       " 571: 'crowds',\n",
       " 572: 'sabbath',\n",
       " 573: 'afternoon',\n",
       " 574: 'thence',\n",
       " 575: 'silent',\n",
       " 576: 'thousands',\n",
       " 577: 'reveries',\n",
       " 578: 'leaning',\n",
       " 579: 'seated',\n",
       " 580: 'bulwarks',\n",
       " 581: 'aloft',\n",
       " 582: 'week',\n",
       " 583: 'plaster',\n",
       " 584: 'gone',\n",
       " 585: 'bound',\n",
       " 586: 'content',\n",
       " 587: 'yonder',\n",
       " 588: 'falling',\n",
       " 589: 'north',\n",
       " 590: 'please',\n",
       " 591: 'ten',\n",
       " 592: 'leaves',\n",
       " 593: 'magic',\n",
       " 594: 'plunged',\n",
       " 595: 'metaphysical',\n",
       " 596: 'chief',\n",
       " 597: 'trunk',\n",
       " 598: 'meadow',\n",
       " 599: 'smoke',\n",
       " 600: 'reaching',\n",
       " 601: 'hill',\n",
       " 602: 'thus',\n",
       " 603: 'pine',\n",
       " 604: 'sighs',\n",
       " 605: 'shepherd',\n",
       " 606: 'june',\n",
       " 607: 'scores',\n",
       " 608: 'thousand',\n",
       " 609: 'silver',\n",
       " 610: 'sadly',\n",
       " 611: 'robust',\n",
       " 612: 'healthy',\n",
       " 613: 'boy',\n",
       " 614: 'crazy',\n",
       " 615: 'hold',\n",
       " 616: 'holy',\n",
       " 617: 'brother',\n",
       " 618: 'ourselves',\n",
       " 619: 'begin',\n",
       " 620: 'grow',\n",
       " 621: 'inferred',\n",
       " 622: 'needs',\n",
       " 623: \"don't\",\n",
       " 624: 'themselves',\n",
       " 625: 'commodore',\n",
       " 626: 'captain',\n",
       " 627: 'glory',\n",
       " 628: 'whatsoever',\n",
       " 629: 'confess',\n",
       " 630: 'officer',\n",
       " 631: 'respectfully',\n",
       " 632: 'horse',\n",
       " 633: 'huge',\n",
       " 634: 'houses',\n",
       " 635: 'forecastle',\n",
       " 636: 'jump',\n",
       " 637: 'spar',\n",
       " 638: 'particularly',\n",
       " 639: 'putting',\n",
       " 640: 'tar',\n",
       " 641: 'schoolmaster',\n",
       " 642: 'boys',\n",
       " 643: 'transition',\n",
       " 644: 'grin',\n",
       " 645: 'bear',\n",
       " 646: 'hunks',\n",
       " 647: 'sweep',\n",
       " 648: 'weighed',\n",
       " 649: 'anything',\n",
       " 650: 'less',\n",
       " 651: 'thump',\n",
       " 652: 'point',\n",
       " 653: 'view',\n",
       " 654: 'single',\n",
       " 655: 'difference',\n",
       " 656: 'paid',\n",
       " 657: 'act',\n",
       " 658: 'uncomfortable',\n",
       " 659: 'compare',\n",
       " 660: 'earthly',\n",
       " 661: 'enter',\n",
       " 662: 'deck',\n",
       " 663: 'quarter',\n",
       " 664: 'leaders',\n",
       " 665: 'smelt',\n",
       " 666: 'fates',\n",
       " 667: 'doubtless',\n",
       " 668: 'formed',\n",
       " 669: 'run',\n",
       " 670: 'stage',\n",
       " 671: 'shabby',\n",
       " 672: 'others',\n",
       " 673: 'circumstances',\n",
       " 674: 'motives',\n",
       " 675: 'various',\n",
       " 676: 'mysterious',\n",
       " 677: 'curiosity',\n",
       " 678: 'tormented',\n",
       " 679: 'everlasting',\n",
       " 680: 'wonder',\n",
       " 681: 'purpose',\n",
       " 682: 'floated',\n",
       " 683: 'stuffed',\n",
       " 684: 'horn',\n",
       " 685: 'arrived',\n",
       " 686: 'offer',\n",
       " 687: 'following',\n",
       " 688: 'embark',\n",
       " 689: 'pleased',\n",
       " 690: 'original',\n",
       " 691: 'stranded',\n",
       " 692: 'leviathan',\n",
       " 693: 'whales',\n",
       " 694: 'nay',\n",
       " 695: 'dismal',\n",
       " 696: 'wherever',\n",
       " 697: 'dreary',\n",
       " 698: 'crossed',\n",
       " 699: 'expensive',\n",
       " 700: 'bright',\n",
       " 701: 'windows',\n",
       " 702: 'packed',\n",
       " 703: 'inches',\n",
       " 704: 'thick',\n",
       " 705: 'hear',\n",
       " 706: 'tinkling',\n",
       " 707: 'glasses',\n",
       " 708: 'blackness',\n",
       " 709: 'moving',\n",
       " 710: 'hour',\n",
       " 711: 'proved',\n",
       " 712: 'meant',\n",
       " 713: 'public',\n",
       " 714: 'box',\n",
       " 715: 'flying',\n",
       " 716: '?\"--',\n",
       " 717: 'trap',\n",
       " 718: 'loud',\n",
       " 719: 'voice',\n",
       " 720: 'sitting',\n",
       " 721: 'beyond',\n",
       " 722: 'negro',\n",
       " 723: 'creaking',\n",
       " 724: 'swinging',\n",
       " 725: 'painting',\n",
       " 726: 'representing',\n",
       " 727: 'connexion',\n",
       " 728: 'itself',\n",
       " 729: 'carted',\n",
       " 730: 'burnt',\n",
       " 731: 'spot',\n",
       " 732: 'queer',\n",
       " 733: 'gable',\n",
       " 734: 'ended',\n",
       " 735: 'sharp',\n",
       " 736: 'wind',\n",
       " 737: 'howling',\n",
       " 738: 'nevertheless',\n",
       " 739: 'called',\n",
       " 740: 'outside',\n",
       " 741: 'passage',\n",
       " 742: 'body',\n",
       " 743: 'curbstone',\n",
       " 744: 'corn',\n",
       " 745: 'pooh',\n",
       " 746: 'northern',\n",
       " 747: 'lights',\n",
       " 748: 'summer',\n",
       " 749: 'lengthwise',\n",
       " 750: 'gods',\n",
       " 751: 'lie',\n",
       " 752: 'study',\n",
       " 753: 'series',\n",
       " 754: 'arrive',\n",
       " 755: 'shadows',\n",
       " 756: 'dint',\n",
       " 757: 'conclusion',\n",
       " 758: 'confounded',\n",
       " 759: 'limber',\n",
       " 760: 'truly',\n",
       " 761: 'drive',\n",
       " 762: 'unimaginable',\n",
       " 763: 'midnight',\n",
       " 764: 'unnatural',\n",
       " 765: 'breaking',\n",
       " 766: 'design',\n",
       " 767: 'opposite',\n",
       " 768: 'monstrous',\n",
       " 769: 'knots',\n",
       " 770: 'vast',\n",
       " 771: 'handle',\n",
       " 772: 'wondered',\n",
       " 773: 'mixed',\n",
       " 774: 'deformed',\n",
       " 775: 'flung',\n",
       " 776: 'iron',\n",
       " 777: 'arched',\n",
       " 778: 'cut',\n",
       " 779: 'times',\n",
       " 780: 'beneath',\n",
       " 781: 'covered',\n",
       " 782: 'gathered',\n",
       " 783: 'stands',\n",
       " 784: 'rude',\n",
       " 785: 'bone',\n",
       " 786: 'abominable',\n",
       " 787: 'measure',\n",
       " 788: 'seamen',\n",
       " 789: 'skrimshander',\n",
       " 790: 'sought',\n",
       " 791: 'added',\n",
       " 792: 'forehead',\n",
       " 793: 'objections',\n",
       " 794: \"'d\",\n",
       " 795: 'used',\n",
       " 796: 'depend',\n",
       " 797: 'decent',\n",
       " 798: 'want',\n",
       " 799: 'ready',\n",
       " 800: 'working',\n",
       " 801: 'space',\n",
       " 802: 'lips',\n",
       " 803: 'fingers',\n",
       " 804: 'fare',\n",
       " 805: 'fellow',\n",
       " 806: 'nightmare',\n",
       " 807: 'nt',\n",
       " 808: 'complexioned',\n",
       " 809: 'eats',\n",
       " 810: \"'em\",\n",
       " 811: 'afore',\n",
       " 812: 'resolved',\n",
       " 813: 'noise',\n",
       " 814: 'offing',\n",
       " 815: 'shaggy',\n",
       " 816: 'woollen',\n",
       " 817: 'stiff',\n",
       " 818: 'labrador',\n",
       " 819: 'wake',\n",
       " 820: 'bad',\n",
       " 821: 'mounted',\n",
       " 822: 'generally',\n",
       " 823: 'shipmates',\n",
       " 824: 'become',\n",
       " 825: 'height',\n",
       " 826: 'seem',\n",
       " 827: 'plan',\n",
       " 828: 'private',\n",
       " 829: 'unknown',\n",
       " 830: 'apartment',\n",
       " 831: 'hammock',\n",
       " 832: 'linen',\n",
       " 833: 'home',\n",
       " 834: 'hole',\n",
       " 835: 'mattress',\n",
       " 836: 'planing',\n",
       " 837: 'knot',\n",
       " 838: 'near',\n",
       " 839: 'sake',\n",
       " 840: 'chair',\n",
       " 841: 'narrow',\n",
       " 842: 'leaving',\n",
       " 843: 'interval',\n",
       " 844: 'met',\n",
       " 845: 'inside',\n",
       " 846: 'violent',\n",
       " 847: 'ones',\n",
       " 848: 'comprehension',\n",
       " 849: 'bird',\n",
       " 850: 'airley',\n",
       " 851: 'airth',\n",
       " 852: 'engaged',\n",
       " 853: 'whittling',\n",
       " 854: 'guess',\n",
       " 855: 'done',\n",
       " 856: 'break',\n",
       " 857: 'broke',\n",
       " 858: 'understand',\n",
       " 859: 'certain',\n",
       " 860: 'demand',\n",
       " 861: 'selling',\n",
       " 862: 'sir',\n",
       " 863: 'string',\n",
       " 864: 'mystery',\n",
       " 865: 'showed',\n",
       " 866: 'dangerous',\n",
       " 867: 'flukes',\n",
       " 868: 'slept',\n",
       " 869: 'big',\n",
       " 870: 'sam',\n",
       " 871: 'lighted',\n",
       " 872: 'wo',\n",
       " 873: 'stairs',\n",
       " 874: 'placing',\n",
       " 875: 'double',\n",
       " 876: 'eyeing',\n",
       " 877: 'belonging',\n",
       " 878: 'papered',\n",
       " 879: 'parcel',\n",
       " 880: 'tried',\n",
       " 881: 'satisfactory',\n",
       " 882: 'concerning',\n",
       " 883: 'edges',\n",
       " 884: 'stuck',\n",
       " 885: 'gave',\n",
       " 886: 'neck',\n",
       " 887: 'sleeves',\n",
       " 888: 'undressed',\n",
       " 889: 'remembering',\n",
       " 890: 'jumped',\n",
       " 891: 'pantaloons',\n",
       " 892: 'blowing',\n",
       " 893: 'doze',\n",
       " 894: 'pretty',\n",
       " 895: 'heavy',\n",
       " 896: 'save',\n",
       " 897: 'infernal',\n",
       " 898: 'peddler',\n",
       " 899: 'yellow',\n",
       " 900: 'colour',\n",
       " 901: 'dreadfully',\n",
       " 902: 'sticking',\n",
       " 903: 'cheeks',\n",
       " 904: 'truth',\n",
       " 905: 'remembered',\n",
       " 906: 'whaleman',\n",
       " 907: 'tattooed',\n",
       " 908: 'concluded',\n",
       " 909: 'lying',\n",
       " 910: 'tanning',\n",
       " 911: 'hot',\n",
       " 912: 'produced',\n",
       " 913: 'beaver',\n",
       " 914: 'singing',\n",
       " 915: 'bolted',\n",
       " 916: 'arms',\n",
       " 917: 'running',\n",
       " 918: 'curious',\n",
       " 919: 'hunch',\n",
       " 920: 'congo',\n",
       " 921: 'ill',\n",
       " 922: 'takes',\n",
       " 923: 'biscuit',\n",
       " 924: 'top',\n",
       " 925: 'lamp',\n",
       " 926: 'succeeded',\n",
       " 927: 'polite',\n",
       " 928: 'guttural',\n",
       " 929: 'pagan',\n",
       " 930: 'spell',\n",
       " 931: 'tobacco',\n",
       " 932: 'grunt',\n",
       " 933: 'whatever',\n",
       " 934: 'ee',\n",
       " 935: 'horrid',\n",
       " 936: 'pipe',\n",
       " 937: 'smoking',\n",
       " 938: 'complied',\n",
       " 939: 'patchwork',\n",
       " 940: 'figure',\n",
       " 941: 'shade',\n",
       " 942: 'quilt',\n",
       " 943: 'hugging',\n",
       " 944: 'sensations',\n",
       " 945: 'explain',\n",
       " 946: 'remember',\n",
       " 947: 'circumstance',\n",
       " 948: 'reality',\n",
       " 949: 'stepmother',\n",
       " 950: 'sixteen',\n",
       " 951: 'abed',\n",
       " 952: 'troubled',\n",
       " 953: 'supernatural',\n",
       " 954: 'ages',\n",
       " 955: 'awful',\n",
       " 956: 'consciousness',\n",
       " 957: 'observing',\n",
       " 958: 'creature',\n",
       " 959: 'dress',\n",
       " 960: 'watching',\n",
       " 961: 'probably',\n",
       " 962: 'toilet',\n",
       " 963: 'wrapped',\n",
       " 964: 'precisely',\n",
       " 965: 'jacket',\n",
       " 966: 'call',\n",
       " 967: 'shore',\n",
       " 968: 'watery',\n",
       " 969: 'driving',\n",
       " 970: 'spleen',\n",
       " 971: 'regulating',\n",
       " 972: 'circulation',\n",
       " 973: 'growing',\n",
       " 974: 'grim',\n",
       " 975: 'drizzly',\n",
       " 976: 'november',\n",
       " 977: 'bringing',\n",
       " 978: 'rear',\n",
       " 979: 'funeral',\n",
       " 980: 'meet',\n",
       " 981: 'hypos',\n",
       " 982: 'upper',\n",
       " 983: 'moral',\n",
       " 984: 'principle',\n",
       " 985: 'prevent',\n",
       " 986: 'deliberately',\n",
       " 987: 'stepping',\n",
       " 988: 'methodically',\n",
       " 989: 'knocking',\n",
       " 990: 'hats',\n",
       " 991: 'substitute',\n",
       " 992: 'pistol',\n",
       " 993: 'ball',\n",
       " 994: 'philosophical',\n",
       " 995: 'flourish',\n",
       " 996: 'cato',\n",
       " 997: 'throws',\n",
       " 998: 'surprising',\n",
       " 999: 'cherish',\n",
       " 1000: 'feelings',\n",
       " ...}"
      ]
     },
     "execution_count": 105,
     "metadata": {},
     "output_type": "execute_result"
    }
   ],
   "source": [
    "tokenizer.index_word"
   ]
  },
  {
   "cell_type": "code",
   "execution_count": 106,
   "metadata": {},
   "outputs": [
    {
     "name": "stdout",
     "output_type": "stream",
     "text": [
      "966 : call\n",
      "15 : me\n",
      "267 : ishmael\n",
      "53 : some\n",
      "265 : years\n",
      "418 : ago\n",
      "89 : never\n",
      "224 : mind\n",
      "131 : how\n",
      "113 : long\n",
      "964 : precisely\n",
      "264 : having\n",
      "52 : little\n",
      "44 : or\n",
      "38 : no\n",
      "323 : money\n",
      "8 : in\n",
      "24 : my\n",
      "557 : purse\n",
      "1 : ,\n",
      "4 : and\n",
      "152 : nothing\n",
      "263 : particular\n",
      "7 : to\n",
      "2706 : interest\n",
      "15 : me\n"
     ]
    }
   ],
   "source": [
    "for i in sequences[0]:\n",
    "    print(f\"{i} : {tokenizer.index_word[i]}\")"
   ]
  },
  {
   "cell_type": "code",
   "execution_count": 107,
   "metadata": {},
   "outputs": [],
   "source": [
    "# tokenizer.word_counts"
   ]
  },
  {
   "cell_type": "code",
   "execution_count": 108,
   "metadata": {},
   "outputs": [],
   "source": [
    "vocabulary_size = len(tokenizer.word_counts)"
   ]
  },
  {
   "cell_type": "code",
   "execution_count": 109,
   "metadata": {},
   "outputs": [],
   "source": [
    "import numpy as np"
   ]
  },
  {
   "cell_type": "code",
   "execution_count": 110,
   "metadata": {},
   "outputs": [],
   "source": [
    "sequences = np.array(sequences)"
   ]
  },
  {
   "cell_type": "code",
   "execution_count": 111,
   "metadata": {},
   "outputs": [
    {
     "data": {
      "text/plain": [
       "array([[ 966,   15,  267, ...,    7, 2706,   15],\n",
       "       [  15,  267,   53, ..., 2706,   15,   25],\n",
       "       [ 267,   53,  265, ...,   15,   25,  967],\n",
       "       ...,\n",
       "       [2705,    1,    4, ...,  266,   55,    3],\n",
       "       [   1,    4,   11, ...,   55,    3, 2711],\n",
       "       [   4,   11, 2707, ...,    3, 2711,   27]])"
      ]
     },
     "execution_count": 111,
     "metadata": {},
     "output_type": "execute_result"
    }
   ],
   "source": [
    "sequences"
   ]
  },
  {
   "cell_type": "code",
   "execution_count": 112,
   "metadata": {},
   "outputs": [],
   "source": [
    "from keras.utils import to_categorical"
   ]
  },
  {
   "cell_type": "code",
   "execution_count": 113,
   "metadata": {},
   "outputs": [],
   "source": [
    "X = sequences[:,:-1]"
   ]
  },
  {
   "cell_type": "code",
   "execution_count": 114,
   "metadata": {},
   "outputs": [],
   "source": [
    "y = sequences[:,-1]"
   ]
  },
  {
   "cell_type": "code",
   "execution_count": 115,
   "metadata": {},
   "outputs": [],
   "source": [
    "y = to_categorical(y,num_classes=vocabulary_size+1)"
   ]
  },
  {
   "cell_type": "code",
   "execution_count": 116,
   "metadata": {},
   "outputs": [
    {
     "data": {
      "text/plain": [
       "(12334, 2712)"
      ]
     },
     "execution_count": 116,
     "metadata": {},
     "output_type": "execute_result"
    }
   ],
   "source": [
    "y.shape"
   ]
  },
  {
   "cell_type": "code",
   "execution_count": 117,
   "metadata": {},
   "outputs": [
    {
     "data": {
      "text/plain": [
       "(12334, 25)"
      ]
     },
     "execution_count": 117,
     "metadata": {},
     "output_type": "execute_result"
    }
   ],
   "source": [
    "X.shape"
   ]
  },
  {
   "cell_type": "code",
   "execution_count": 118,
   "metadata": {},
   "outputs": [],
   "source": [
    "from keras.models import Sequential"
   ]
  },
  {
   "cell_type": "code",
   "execution_count": 119,
   "metadata": {},
   "outputs": [],
   "source": [
    "from keras.layers import Dense, LSTM, Embedding"
   ]
  },
  {
   "cell_type": "code",
   "execution_count": 120,
   "metadata": {},
   "outputs": [],
   "source": [
    "def create_model (vocabulary_size, seq_len):\n",
    "    model = Sequential()\n",
    "    model.add(Embedding(vocabulary_size,seq_len, input_length=seq_len))\n",
    "    model.add(LSTM(50,return_sequences=True))\n",
    "    model.add(LSTM(50))\n",
    "    model.add(Dense(50, activation='relu'))\n",
    "    model.add(Dense(vocabulary_size, activation='softmax'))\n",
    "    model.compile(loss='categorical_crossentropy', optimizer = 'adam', metrics=['accuracy'])\n",
    "    model.summary()\n",
    "    return model"
   ]
  },
  {
   "cell_type": "code",
   "execution_count": 121,
   "metadata": {},
   "outputs": [],
   "source": [
    "seq_len = X.shape[1]"
   ]
  },
  {
   "cell_type": "code",
   "execution_count": 122,
   "metadata": {},
   "outputs": [
    {
     "name": "stdout",
     "output_type": "stream",
     "text": [
      "_________________________________________________________________\n",
      "Layer (type)                 Output Shape              Param #   \n",
      "=================================================================\n",
      "embedding_4 (Embedding)      (None, 25, 25)            67800     \n",
      "_________________________________________________________________\n",
      "lstm_7 (LSTM)                (None, 25, 50)            15200     \n",
      "_________________________________________________________________\n",
      "lstm_8 (LSTM)                (None, 50)                20200     \n",
      "_________________________________________________________________\n",
      "dense_7 (Dense)              (None, 50)                2550      \n",
      "_________________________________________________________________\n",
      "dense_8 (Dense)              (None, 2712)              138312    \n",
      "=================================================================\n",
      "Total params: 244,062\n",
      "Trainable params: 244,062\n",
      "Non-trainable params: 0\n",
      "_________________________________________________________________\n"
     ]
    }
   ],
   "source": [
    "model = create_model(vocabulary_size+1, seq_len)"
   ]
  },
  {
   "cell_type": "code",
   "execution_count": 123,
   "metadata": {},
   "outputs": [],
   "source": [
    "from pickle import dump,load"
   ]
  },
  {
   "cell_type": "code",
   "execution_count": 124,
   "metadata": {},
   "outputs": [
    {
     "data": {
      "text/plain": [
       "(12334, 25)"
      ]
     },
     "execution_count": 124,
     "metadata": {},
     "output_type": "execute_result"
    }
   ],
   "source": [
    "len(X)\n",
    "X.shape"
   ]
  },
  {
   "cell_type": "code",
   "execution_count": 125,
   "metadata": {},
   "outputs": [
    {
     "data": {
      "text/plain": [
       "(12334, 2712)"
      ]
     },
     "execution_count": 125,
     "metadata": {},
     "output_type": "execute_result"
    }
   ],
   "source": [
    "len(y)\n",
    "y.shape"
   ]
  },
  {
   "cell_type": "code",
   "execution_count": 126,
   "metadata": {},
   "outputs": [
    {
     "name": "stdout",
     "output_type": "stream",
     "text": [
      "WARNING:tensorflow:From C:\\Users\\adity\\.conda\\envs\\nlp_course\\lib\\site-packages\\tensorflow\\python\\ops\\math_ops.py:3066: to_int32 (from tensorflow.python.ops.math_ops) is deprecated and will be removed in a future version.\n",
      "Instructions for updating:\n",
      "Use tf.cast instead.\n",
      "Epoch 1/2\n",
      "12334/12334 [==============================] - ETA: 4:28 - loss: 7.9054 - acc: 0.0000e+0 - ETA: 2:15 - loss: 7.9051 - acc: 0.0000e+0 - ETA: 1:31 - loss: 7.9046 - acc: 0.0000e+0 - ETA: 1:08 - loss: 7.9040 - acc: 0.0020    - ETA: 55s - loss: 7.9035 - acc: 0.004 - ETA: 46s - loss: 7.9029 - acc: 0.00 - ETA: 40s - loss: 7.9024 - acc: 0.00 - ETA: 35s - loss: 7.9018 - acc: 0.00 - ETA: 28s - loss: 7.8998 - acc: 0.01 - ETA: 25s - loss: 7.8989 - acc: 0.01 - ETA: 23s - loss: 7.8975 - acc: 0.01 - ETA: 22s - loss: 7.8959 - acc: 0.01 - ETA: 20s - loss: 7.8945 - acc: 0.01 - ETA: 19s - loss: 7.8926 - acc: 0.02 - ETA: 17s - loss: 7.8884 - acc: 0.02 - ETA: 16s - loss: 7.8845 - acc: 0.02 - ETA: 15s - loss: 7.8798 - acc: 0.02 - ETA: 14s - loss: 7.8737 - acc: 0.02 - ETA: 13s - loss: 7.8555 - acc: 0.02 - ETA: 12s - loss: 7.8473 - acc: 0.02 - ETA: 12s - loss: 7.8330 - acc: 0.02 - ETA: 11s - loss: 7.8155 - acc: 0.02 - ETA: 11s - loss: 7.7975 - acc: 0.02 - ETA: 10s - loss: 7.7772 - acc: 0.02 - ETA: 10s - loss: 7.7537 - acc: 0.02 - ETA: 9s - loss: 7.7306 - acc: 0.0294 - ETA: 9s - loss: 7.7040 - acc: 0.029 - ETA: 9s - loss: 7.6757 - acc: 0.028 - ETA: 8s - loss: 7.6485 - acc: 0.028 - ETA: 8s - loss: 7.6183 - acc: 0.028 - ETA: 8s - loss: 7.5906 - acc: 0.029 - ETA: 7s - loss: 7.5318 - acc: 0.029 - ETA: 7s - loss: 7.4989 - acc: 0.029 - ETA: 7s - loss: 7.4713 - acc: 0.029 - ETA: 7s - loss: 7.4341 - acc: 0.028 - ETA: 6s - loss: 7.3996 - acc: 0.028 - ETA: 6s - loss: 7.3718 - acc: 0.028 - ETA: 6s - loss: 7.3517 - acc: 0.028 - ETA: 6s - loss: 7.3335 - acc: 0.028 - ETA: 6s - loss: 7.3087 - acc: 0.029 - ETA: 5s - loss: 7.2796 - acc: 0.031 - ETA: 5s - loss: 7.2604 - acc: 0.032 - ETA: 5s - loss: 7.2566 - acc: 0.034 - ETA: 5s - loss: 7.2380 - acc: 0.034 - ETA: 5s - loss: 7.2217 - acc: 0.035 - ETA: 5s - loss: 7.2115 - acc: 0.036 - ETA: 4s - loss: 7.1892 - acc: 0.037 - ETA: 4s - loss: 7.1819 - acc: 0.038 - ETA: 4s - loss: 7.1670 - acc: 0.039 - ETA: 4s - loss: 7.1547 - acc: 0.040 - ETA: 4s - loss: 7.1346 - acc: 0.040 - ETA: 4s - loss: 7.1107 - acc: 0.041 - ETA: 4s - loss: 7.0945 - acc: 0.042 - ETA: 3s - loss: 7.0859 - acc: 0.042 - ETA: 3s - loss: 7.0745 - acc: 0.042 - ETA: 3s - loss: 7.0652 - acc: 0.043 - ETA: 3s - loss: 7.0564 - acc: 0.043 - ETA: 3s - loss: 7.0366 - acc: 0.044 - ETA: 3s - loss: 7.0266 - acc: 0.044 - ETA: 3s - loss: 7.0215 - acc: 0.045 - ETA: 2s - loss: 7.0138 - acc: 0.046 - ETA: 2s - loss: 7.0038 - acc: 0.046 - ETA: 2s - loss: 6.9988 - acc: 0.046 - ETA: 2s - loss: 6.9887 - acc: 0.047 - ETA: 2s - loss: 6.9793 - acc: 0.048 - ETA: 2s - loss: 6.9747 - acc: 0.048 - ETA: 2s - loss: 6.9699 - acc: 0.048 - ETA: 2s - loss: 6.9664 - acc: 0.047 - ETA: 2s - loss: 6.9533 - acc: 0.048 - ETA: 1s - loss: 6.9446 - acc: 0.049 - ETA: 1s - loss: 6.9357 - acc: 0.049 - ETA: 1s - loss: 6.9315 - acc: 0.049 - ETA: 1s - loss: 6.9211 - acc: 0.049 - ETA: 1s - loss: 6.9123 - acc: 0.049 - ETA: 1s - loss: 6.9017 - acc: 0.050 - ETA: 1s - loss: 6.8926 - acc: 0.050 - ETA: 1s - loss: 6.8837 - acc: 0.051 - ETA: 1s - loss: 6.8757 - acc: 0.051 - ETA: 1s - loss: 6.8685 - acc: 0.051 - ETA: 1s - loss: 6.8594 - acc: 0.052 - ETA: 0s - loss: 6.8561 - acc: 0.052 - ETA: 0s - loss: 6.8493 - acc: 0.052 - ETA: 0s - loss: 6.8449 - acc: 0.052 - ETA: 0s - loss: 6.8417 - acc: 0.052 - ETA: 0s - loss: 6.8376 - acc: 0.053 - ETA: 0s - loss: 6.8334 - acc: 0.053 - ETA: 0s - loss: 6.8240 - acc: 0.053 - ETA: 0s - loss: 6.8221 - acc: 0.053 - ETA: 0s - loss: 6.8177 - acc: 0.053 - ETA: 0s - loss: 6.8124 - acc: 0.054 - ETA: 0s - loss: 6.8085 - acc: 0.054 - 8s 688us/step - loss: 6.8083 - acc: 0.0546\n",
      "Epoch 2/2\n",
      "12334/12334 [==============================] - ETA: 7s - loss: 5.9577 - acc: 0.085 - ETA: 6s - loss: 6.0701 - acc: 0.082 - ETA: 6s - loss: 6.0803 - acc: 0.091 - ETA: 6s - loss: 6.1275 - acc: 0.082 - ETA: 6s - loss: 6.1132 - acc: 0.075 - ETA: 6s - loss: 6.1348 - acc: 0.072 - ETA: 6s - loss: 6.1752 - acc: 0.071 - ETA: 6s - loss: 6.1475 - acc: 0.072 - ETA: 5s - loss: 6.1416 - acc: 0.070 - ETA: 5s - loss: 6.1510 - acc: 0.070 - ETA: 5s - loss: 6.1379 - acc: 0.071 - ETA: 5s - loss: 6.1331 - acc: 0.072 - ETA: 5s - loss: 6.1498 - acc: 0.070 - ETA: 5s - loss: 6.1299 - acc: 0.072 - ETA: 5s - loss: 6.1229 - acc: 0.071 - ETA: 5s - loss: 6.0918 - acc: 0.074 - ETA: 5s - loss: 6.0867 - acc: 0.075 - ETA: 5s - loss: 6.0990 - acc: 0.076 - ETA: 5s - loss: 6.0706 - acc: 0.078 - ETA: 5s - loss: 6.0791 - acc: 0.078 - ETA: 5s - loss: 6.0705 - acc: 0.078 - ETA: 4s - loss: 6.0642 - acc: 0.077 - ETA: 4s - loss: 6.0691 - acc: 0.077 - ETA: 4s - loss: 6.0638 - acc: 0.078 - ETA: 4s - loss: 6.0773 - acc: 0.077 - ETA: 4s - loss: 6.0916 - acc: 0.076 - ETA: 4s - loss: 6.0868 - acc: 0.077 - ETA: 4s - loss: 6.0805 - acc: 0.077 - ETA: 4s - loss: 6.0911 - acc: 0.077 - ETA: 4s - loss: 6.0989 - acc: 0.076 - ETA: 4s - loss: 6.0985 - acc: 0.076 - ETA: 4s - loss: 6.1023 - acc: 0.077 - ETA: 4s - loss: 6.1061 - acc: 0.076 - ETA: 4s - loss: 6.1083 - acc: 0.076 - ETA: 4s - loss: 6.1066 - acc: 0.077 - ETA: 4s - loss: 6.1107 - acc: 0.077 - ETA: 3s - loss: 6.1110 - acc: 0.076 - ETA: 3s - loss: 6.1090 - acc: 0.076 - ETA: 3s - loss: 6.1091 - acc: 0.077 - ETA: 3s - loss: 6.1034 - acc: 0.077 - ETA: 3s - loss: 6.1113 - acc: 0.077 - ETA: 3s - loss: 6.1135 - acc: 0.077 - ETA: 3s - loss: 6.1074 - acc: 0.077 - ETA: 3s - loss: 6.1060 - acc: 0.077 - ETA: 3s - loss: 6.1089 - acc: 0.077 - ETA: 3s - loss: 6.1117 - acc: 0.077 - ETA: 3s - loss: 6.1181 - acc: 0.077 - ETA: 3s - loss: 6.1238 - acc: 0.077 - ETA: 3s - loss: 6.1332 - acc: 0.076 - ETA: 3s - loss: 6.1362 - acc: 0.076 - ETA: 3s - loss: 6.1360 - acc: 0.076 - ETA: 2s - loss: 6.1275 - acc: 0.077 - ETA: 2s - loss: 6.1220 - acc: 0.077 - ETA: 2s - loss: 6.1177 - acc: 0.077 - ETA: 2s - loss: 6.1139 - acc: 0.077 - ETA: 2s - loss: 6.1167 - acc: 0.077 - ETA: 2s - loss: 6.1167 - acc: 0.077 - ETA: 2s - loss: 6.1215 - acc: 0.077 - ETA: 2s - loss: 6.1217 - acc: 0.076 - ETA: 2s - loss: 6.1235 - acc: 0.076 - ETA: 2s - loss: 6.1234 - acc: 0.076 - ETA: 2s - loss: 6.1285 - acc: 0.076 - ETA: 2s - loss: 6.1303 - acc: 0.076 - ETA: 2s - loss: 6.1384 - acc: 0.075 - ETA: 2s - loss: 6.1358 - acc: 0.076 - ETA: 2s - loss: 6.1361 - acc: 0.076 - ETA: 1s - loss: 6.1422 - acc: 0.075 - ETA: 1s - loss: 6.1454 - acc: 0.075 - ETA: 1s - loss: 6.1476 - acc: 0.075 - ETA: 1s - loss: 6.1497 - acc: 0.075 - ETA: 1s - loss: 6.1474 - acc: 0.075 - ETA: 1s - loss: 6.1455 - acc: 0.076 - ETA: 1s - loss: 6.1505 - acc: 0.075 - ETA: 1s - loss: 6.1500 - acc: 0.075 - ETA: 1s - loss: 6.1508 - acc: 0.075 - ETA: 1s - loss: 6.1476 - acc: 0.076 - ETA: 1s - loss: 6.1454 - acc: 0.075 - ETA: 1s - loss: 6.1480 - acc: 0.075 - ETA: 1s - loss: 6.1425 - acc: 0.075 - ETA: 1s - loss: 6.1471 - acc: 0.075 - ETA: 1s - loss: 6.1501 - acc: 0.075 - ETA: 0s - loss: 6.1543 - acc: 0.075 - ETA: 0s - loss: 6.1566 - acc: 0.075 - ETA: 0s - loss: 6.1597 - acc: 0.075 - ETA: 0s - loss: 6.1588 - acc: 0.075 - ETA: 0s - loss: 6.1619 - acc: 0.075 - ETA: 0s - loss: 6.1629 - acc: 0.075 - ETA: 0s - loss: 6.1651 - acc: 0.075 - ETA: 0s - loss: 6.1649 - acc: 0.075 - ETA: 0s - loss: 6.1652 - acc: 0.075 - ETA: 0s - loss: 6.1644 - acc: 0.075 - ETA: 0s - loss: 6.1638 - acc: 0.076 - ETA: 0s - loss: 6.1662 - acc: 0.075 - ETA: 0s - loss: 6.1687 - acc: 0.075 - ETA: 0s - loss: 6.1671 - acc: 0.075 - ETA: 0s - loss: 6.1704 - acc: 0.075 - 7s 538us/step - loss: 6.1690 - acc: 0.0753\n"
     ]
    },
    {
     "data": {
      "text/plain": [
       "<keras.callbacks.History at 0x1b388abb1d0>"
      ]
     },
     "execution_count": 126,
     "metadata": {},
     "output_type": "execute_result"
    }
   ],
   "source": [
    "model.fit(X,y,batch_size=128, epochs=2, verbose=1)"
   ]
  },
  {
   "cell_type": "code",
   "execution_count": 127,
   "metadata": {},
   "outputs": [],
   "source": [
    "model.save('my_mobydick_model.h5')"
   ]
  },
  {
   "cell_type": "code",
   "execution_count": 128,
   "metadata": {},
   "outputs": [],
   "source": [
    "dump(tokenizer, open('my_simpletokenizer','wb'))"
   ]
  },
  {
   "cell_type": "code",
   "execution_count": 132,
   "metadata": {},
   "outputs": [],
   "source": [
    "from keras.preprocessing.sequence import pad_sequences"
   ]
  },
  {
   "cell_type": "code",
   "execution_count": 145,
   "metadata": {},
   "outputs": [],
   "source": [
    "def generate_text(model,tokenizer,seq_len,seed_text,num_get_words):\n",
    "    output_text = []\n",
    "    input_text = seed_text\n",
    "    \n",
    "    for i in range(num_get_words):\n",
    "        encoded_text = tokenizer.texts_to_sequences([input_text])[0]\n",
    "        pad_encoded = pad_sequences([encoded_text], maxlen=seq_len, truncating = 'pre')\n",
    "        pre_word_ind = model.predict_classes(pad_encoded,verbose=0)[0]\n",
    "        pre_word = tokenizer.index_word[pre_word_ind]\n",
    "        input_text += ' '+pre_word\n",
    "        output_text.append(pre_word)\n",
    "    return ' '.join(output_text)"
   ]
  },
  {
   "cell_type": "code",
   "execution_count": 136,
   "metadata": {},
   "outputs": [
    {
     "data": {
      "text/plain": [
       "['call',\n",
       " 'me',\n",
       " 'ishmael',\n",
       " 'some',\n",
       " 'years',\n",
       " 'ago',\n",
       " 'never',\n",
       " 'mind',\n",
       " 'how',\n",
       " 'long',\n",
       " 'precisely',\n",
       " 'having',\n",
       " 'little',\n",
       " 'or',\n",
       " 'no',\n",
       " 'money',\n",
       " 'in',\n",
       " 'my',\n",
       " 'purse',\n",
       " ',',\n",
       " 'and',\n",
       " 'nothing',\n",
       " 'particular',\n",
       " 'to',\n",
       " 'interest',\n",
       " 'me']"
      ]
     },
     "execution_count": 136,
     "metadata": {},
     "output_type": "execute_result"
    }
   ],
   "source": [
    "text_sequences[0]"
   ]
  },
  {
   "cell_type": "code",
   "execution_count": 137,
   "metadata": {},
   "outputs": [],
   "source": [
    "import random\n",
    "random.seed(101)\n",
    "random_pick = random.randint(0,len(text_sequences))"
   ]
  },
  {
   "cell_type": "code",
   "execution_count": 138,
   "metadata": {},
   "outputs": [],
   "source": [
    "random_seed_text = text_sequences[random_pick]"
   ]
  },
  {
   "cell_type": "code",
   "execution_count": 139,
   "metadata": {},
   "outputs": [
    {
     "data": {
      "text/plain": [
       "['real',\n",
       " 'baby',\n",
       " 'preserved',\n",
       " 'in',\n",
       " 'some',\n",
       " 'similar',\n",
       " 'manner',\n",
       " 'but',\n",
       " 'seeing',\n",
       " 'that',\n",
       " 'it',\n",
       " 'was',\n",
       " 'not',\n",
       " 'at',\n",
       " 'all',\n",
       " 'limber',\n",
       " ',',\n",
       " 'and',\n",
       " 'that',\n",
       " 'it',\n",
       " 'glistened',\n",
       " 'a',\n",
       " 'good',\n",
       " 'deal',\n",
       " 'like',\n",
       " 'polished']"
      ]
     },
     "execution_count": 139,
     "metadata": {},
     "output_type": "execute_result"
    }
   ],
   "source": [
    "random_seed_text"
   ]
  },
  {
   "cell_type": "code",
   "execution_count": 140,
   "metadata": {},
   "outputs": [],
   "source": [
    "seed_text= ' '.join(random_seed_text)"
   ]
  },
  {
   "cell_type": "code",
   "execution_count": 159,
   "metadata": {},
   "outputs": [],
   "source": [
    "seed_text2 = 'i think that i need to stop wasting my time and focus on something that has a greater importance in life such as studies of '"
   ]
  },
  {
   "cell_type": "code",
   "execution_count": 148,
   "metadata": {},
   "outputs": [
    {
     "data": {
      "text/plain": [
       "', , , , , , , , , , , , , , , , , , , , , , , , ,'"
      ]
     },
     "execution_count": 148,
     "metadata": {},
     "output_type": "execute_result"
    }
   ],
   "source": [
    "generate_text(model, tokenizer,seq_len,seed_text=seed_text, num_get_words=25)"
   ]
  },
  {
   "cell_type": "code",
   "execution_count": 149,
   "metadata": {},
   "outputs": [],
   "source": [
    "from keras.models import load_model"
   ]
  },
  {
   "cell_type": "code",
   "execution_count": 154,
   "metadata": {},
   "outputs": [],
   "source": [
    "model = load_model('epochBIG.h5')"
   ]
  },
  {
   "cell_type": "code",
   "execution_count": 156,
   "metadata": {},
   "outputs": [],
   "source": [
    "tokenizer = load(open('epochBIG', 'rb'))"
   ]
  },
  {
   "cell_type": "code",
   "execution_count": 162,
   "metadata": {},
   "outputs": [
    {
     "data": {
      "text/plain": [
       "'ebony spanish piece of two pagan terrible beings at every water like a veritable professors complement of both junk has he tossed in the distracted'"
      ]
     },
     "execution_count": 162,
     "metadata": {},
     "output_type": "execute_result"
    }
   ],
   "source": [
    "generate_text(model,tokenizer,seq_len,seed_text=seed_text,num_get_words=25)"
   ]
  },
  {
   "cell_type": "code",
   "execution_count": null,
   "metadata": {},
   "outputs": [],
   "source": []
  },
  {
   "cell_type": "code",
   "execution_count": null,
   "metadata": {},
   "outputs": [],
   "source": []
  }
 ],
 "metadata": {
  "kernelspec": {
   "display_name": "Python 3",
   "language": "python",
   "name": "python3"
  },
  "language_info": {
   "codemirror_mode": {
    "name": "ipython",
    "version": 3
   },
   "file_extension": ".py",
   "mimetype": "text/x-python",
   "name": "python",
   "nbconvert_exporter": "python",
   "pygments_lexer": "ipython3",
   "version": "3.7.3"
  }
 },
 "nbformat": 4,
 "nbformat_minor": 2
}
