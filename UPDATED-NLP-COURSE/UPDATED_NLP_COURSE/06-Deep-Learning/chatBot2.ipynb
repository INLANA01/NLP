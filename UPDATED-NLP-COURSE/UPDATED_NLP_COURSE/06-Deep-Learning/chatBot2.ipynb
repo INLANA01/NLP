{
 "cells": [
  {
   "cell_type": "code",
   "execution_count": 2,
   "metadata": {},
   "outputs": [],
   "source": [
    "import pickle\n",
    "import numpy as np"
   ]
  },
  {
   "cell_type": "code",
   "execution_count": 3,
   "metadata": {},
   "outputs": [],
   "source": [
    "with open('train_qa.txt','rb') as f:\n",
    "    train_data = pickle.load(f)"
   ]
  },
  {
   "cell_type": "code",
   "execution_count": 4,
   "metadata": {},
   "outputs": [],
   "source": [
    "with open('test_qa.txt','rb') as f:\n",
    "    test_data = pickle.load(f)"
   ]
  },
  {
   "cell_type": "code",
   "execution_count": 5,
   "metadata": {},
   "outputs": [
    {
     "data": {
      "text/plain": [
       "list"
      ]
     },
     "execution_count": 5,
     "metadata": {},
     "output_type": "execute_result"
    }
   ],
   "source": [
    "type(test_data)"
   ]
  },
  {
   "cell_type": "code",
   "execution_count": 6,
   "metadata": {},
   "outputs": [
    {
     "data": {
      "text/plain": [
       "list"
      ]
     },
     "execution_count": 6,
     "metadata": {},
     "output_type": "execute_result"
    }
   ],
   "source": [
    "type(train_data)"
   ]
  },
  {
   "cell_type": "code",
   "execution_count": 7,
   "metadata": {},
   "outputs": [
    {
     "data": {
      "text/plain": [
       "10000"
      ]
     },
     "execution_count": 7,
     "metadata": {},
     "output_type": "execute_result"
    }
   ],
   "source": [
    "len(train_data)"
   ]
  },
  {
   "cell_type": "code",
   "execution_count": 8,
   "metadata": {},
   "outputs": [
    {
     "data": {
      "text/plain": [
       "1000"
      ]
     },
     "execution_count": 8,
     "metadata": {},
     "output_type": "execute_result"
    }
   ],
   "source": [
    "len(test_data)"
   ]
  },
  {
   "cell_type": "code",
   "execution_count": 9,
   "metadata": {},
   "outputs": [
    {
     "data": {
      "text/plain": [
       "(['Mary',\n",
       "  'moved',\n",
       "  'to',\n",
       "  'the',\n",
       "  'bathroom',\n",
       "  '.',\n",
       "  'Sandra',\n",
       "  'journeyed',\n",
       "  'to',\n",
       "  'the',\n",
       "  'bedroom',\n",
       "  '.'],\n",
       " ['Is', 'Sandra', 'in', 'the', 'hallway', '?'],\n",
       " 'no')"
      ]
     },
     "execution_count": 9,
     "metadata": {},
     "output_type": "execute_result"
    }
   ],
   "source": [
    "train_data[0]"
   ]
  },
  {
   "cell_type": "code",
   "execution_count": 10,
   "metadata": {},
   "outputs": [
    {
     "data": {
      "text/plain": [
       "'Mary moved to the bathroom . Sandra journeyed to the bedroom .'"
      ]
     },
     "execution_count": 10,
     "metadata": {},
     "output_type": "execute_result"
    }
   ],
   "source": [
    "' '.join(train_data[0][0])"
   ]
  },
  {
   "cell_type": "code",
   "execution_count": 11,
   "metadata": {},
   "outputs": [
    {
     "data": {
      "text/plain": [
       "'Is Sandra in the hallway ?'"
      ]
     },
     "execution_count": 11,
     "metadata": {},
     "output_type": "execute_result"
    }
   ],
   "source": [
    "' '.join(train_data[0][1])"
   ]
  },
  {
   "cell_type": "code",
   "execution_count": 12,
   "metadata": {},
   "outputs": [
    {
     "data": {
      "text/plain": [
       "'no'"
      ]
     },
     "execution_count": 12,
     "metadata": {},
     "output_type": "execute_result"
    }
   ],
   "source": [
    "''.join(train_data[0][2])"
   ]
  },
  {
   "cell_type": "code",
   "execution_count": 13,
   "metadata": {},
   "outputs": [],
   "source": [
    "all_data = test_data + train_data"
   ]
  },
  {
   "cell_type": "code",
   "execution_count": 14,
   "metadata": {},
   "outputs": [
    {
     "data": {
      "text/plain": [
       "11000"
      ]
     },
     "execution_count": 14,
     "metadata": {},
     "output_type": "execute_result"
    }
   ],
   "source": [
    "len(all_data)"
   ]
  },
  {
   "cell_type": "code",
   "execution_count": 15,
   "metadata": {},
   "outputs": [],
   "source": [
    "vocab = set()\n",
    "for story,question,answer in all_data:\n",
    "    vocab = vocab.union(set(story))\n",
    "    vocab = vocab.union(set(question))"
   ]
  },
  {
   "cell_type": "code",
   "execution_count": 16,
   "metadata": {},
   "outputs": [],
   "source": [
    "vocab.add('no')"
   ]
  },
  {
   "cell_type": "code",
   "execution_count": 17,
   "metadata": {},
   "outputs": [],
   "source": [
    "vocab.add('yes')"
   ]
  },
  {
   "cell_type": "code",
   "execution_count": 18,
   "metadata": {},
   "outputs": [],
   "source": [
    "vocab_len = len(vocab) + 1"
   ]
  },
  {
   "cell_type": "code",
   "execution_count": 19,
   "metadata": {},
   "outputs": [],
   "source": [
    "all_story_lens = [len(data[0]) for data in all_data]"
   ]
  },
  {
   "cell_type": "code",
   "execution_count": 20,
   "metadata": {},
   "outputs": [],
   "source": [
    "max_story_len = max(all_story_lens)"
   ]
  },
  {
   "cell_type": "code",
   "execution_count": 21,
   "metadata": {},
   "outputs": [],
   "source": [
    "max_question_len = max([len(data[1]) for data in all_data])"
   ]
  },
  {
   "cell_type": "code",
   "execution_count": 22,
   "metadata": {},
   "outputs": [
    {
     "data": {
      "text/plain": [
       "6"
      ]
     },
     "execution_count": 22,
     "metadata": {},
     "output_type": "execute_result"
    }
   ],
   "source": [
    "max_question_len"
   ]
  },
  {
   "cell_type": "code",
   "execution_count": 23,
   "metadata": {},
   "outputs": [
    {
     "name": "stderr",
     "output_type": "stream",
     "text": [
      "Using TensorFlow backend.\n"
     ]
    }
   ],
   "source": [
    "from keras.preprocessing.sequence import pad_sequences\n",
    "from keras_preprocessing.text import Tokenizer"
   ]
  },
  {
   "cell_type": "code",
   "execution_count": 24,
   "metadata": {},
   "outputs": [],
   "source": [
    "tokenizer = Tokenizer(filters=[])\n",
    "tokenizer.fit_on_texts(vocab)"
   ]
  },
  {
   "cell_type": "code",
   "execution_count": 25,
   "metadata": {},
   "outputs": [],
   "source": [
    "train_story_text = []\n",
    "train_question_text = []\n",
    "train_answer_text = []"
   ]
  },
  {
   "cell_type": "code",
   "execution_count": 26,
   "metadata": {},
   "outputs": [],
   "source": [
    "for story,question,answer in train_data:\n",
    "    train_story_text.append(story)\n",
    "    train_question_text.append(question)\n",
    "    train_answer_text.append(answer)"
   ]
  },
  {
   "cell_type": "code",
   "execution_count": 27,
   "metadata": {},
   "outputs": [],
   "source": [
    "train_story_seq = tokenizer.texts_to_sequences(train_story_text)"
   ]
  },
  {
   "cell_type": "code",
   "execution_count": 28,
   "metadata": {},
   "outputs": [],
   "source": [
    "def vectorize_stories(data, word_index = tokenizer.word_index,max_story_len= max_story_len,max_question_len=max_question_len ):\n",
    "    # Stories = X\n",
    "    X = []\n",
    "    # Questions Xq\n",
    "    Xq = []\n",
    "    # Correct Answer (yes/no)\n",
    "    Y = []\n",
    "    \n",
    "    for story,query,answer in data:\n",
    "        # for each story\n",
    "        # [23,14,...]\n",
    "        x = [word_index[word.lower()] for word in story]\n",
    "        xq = [word_index[word.lower()] for word in query]\n",
    "        \n",
    "        y = np.zeros(len(word_index) + 1)\n",
    "        \n",
    "        y[word_index[answer]] = 1\n",
    "        \n",
    "        X.append(x)\n",
    "        Xq.append(xq)\n",
    "        Y.append(y)\n",
    "        \n",
    "    return (pad_sequences(X,maxlen = max_story_len),pad_sequences(Xq,maxlen = max_question_len),np.array(Y))\n",
    "    "
   ]
  },
  {
   "cell_type": "code",
   "execution_count": 29,
   "metadata": {},
   "outputs": [],
   "source": [
    "inputs_train, queries_train, answer_train = vectorize_stories(train_data)"
   ]
  },
  {
   "cell_type": "code",
   "execution_count": 30,
   "metadata": {},
   "outputs": [],
   "source": [
    "inputs_test, queries_test, answer_test = vectorize_stories(test_data)"
   ]
  },
  {
   "cell_type": "code",
   "execution_count": 31,
   "metadata": {},
   "outputs": [
    {
     "data": {
      "text/plain": [
       "array([[ 0,  0,  0, ..., 29, 36, 12],\n",
       "       [ 0,  0,  0, ..., 29, 11, 12],\n",
       "       [ 0,  0,  0, ..., 29, 11, 12],\n",
       "       ...,\n",
       "       [ 0,  0,  0, ..., 29, 16, 12],\n",
       "       [ 0,  0,  0, ..., 29, 11, 12],\n",
       "       [ 0,  0,  0, ..., 16, 23, 12]])"
      ]
     },
     "execution_count": 31,
     "metadata": {},
     "output_type": "execute_result"
    }
   ],
   "source": [
    "inputs_test"
   ]
  },
  {
   "cell_type": "code",
   "execution_count": 32,
   "metadata": {},
   "outputs": [
    {
     "data": {
      "text/plain": [
       "array([[0., 0., 0., ..., 0., 0., 0.],\n",
       "       [0., 0., 0., ..., 0., 0., 0.],\n",
       "       [0., 0., 1., ..., 0., 0., 0.],\n",
       "       ...,\n",
       "       [0., 0., 0., ..., 0., 0., 0.],\n",
       "       [0., 0., 1., ..., 0., 0., 0.],\n",
       "       [0., 0., 1., ..., 0., 0., 0.]])"
      ]
     },
     "execution_count": 32,
     "metadata": {},
     "output_type": "execute_result"
    }
   ],
   "source": [
    "answer_test"
   ]
  },
  {
   "cell_type": "code",
   "execution_count": 33,
   "metadata": {},
   "outputs": [
    {
     "data": {
      "text/plain": [
       "2"
      ]
     },
     "execution_count": 33,
     "metadata": {},
     "output_type": "execute_result"
    }
   ],
   "source": [
    "tokenizer.word_index['yes']"
   ]
  },
  {
   "cell_type": "code",
   "execution_count": 34,
   "metadata": {},
   "outputs": [
    {
     "data": {
      "text/plain": [
       "34"
      ]
     },
     "execution_count": 34,
     "metadata": {},
     "output_type": "execute_result"
    }
   ],
   "source": [
    "tokenizer.word_index['no']"
   ]
  },
  {
   "cell_type": "code",
   "execution_count": 35,
   "metadata": {},
   "outputs": [
    {
     "data": {
      "text/plain": [
       "array([  0.,   0., 497.,   0.,   0.,   0.,   0.,   0.,   0.,   0.,   0.,\n",
       "         0.,   0.,   0.,   0.,   0.,   0.,   0.,   0.,   0.,   0.,   0.,\n",
       "         0.,   0.,   0.,   0.,   0.,   0.,   0.,   0.,   0.,   0.,   0.,\n",
       "         0., 503.,   0.,   0.,   0.])"
      ]
     },
     "execution_count": 35,
     "metadata": {},
     "output_type": "execute_result"
    }
   ],
   "source": [
    "sum(answer_test)"
   ]
  },
  {
   "cell_type": "code",
   "execution_count": 36,
   "metadata": {},
   "outputs": [],
   "source": [
    "from keras.models import Sequential,Model"
   ]
  },
  {
   "cell_type": "code",
   "execution_count": 37,
   "metadata": {},
   "outputs": [],
   "source": [
    "from keras.layers.embeddings import Embedding"
   ]
  },
  {
   "cell_type": "code",
   "execution_count": 38,
   "metadata": {},
   "outputs": [],
   "source": [
    "from keras.layers import Input, Activation, Dense, Permute, Dropout, add, dot, concatenate, LSTM"
   ]
  },
  {
   "cell_type": "code",
   "execution_count": 51,
   "metadata": {},
   "outputs": [],
   "source": [
    "# PLACEHOLDER shape  = (max_story_len, batch_size)\n",
    "input_sequence = Input((max_story_len,))\n",
    "question = Input((max_question_len,))"
   ]
  },
  {
   "cell_type": "code",
   "execution_count": 52,
   "metadata": {},
   "outputs": [],
   "source": [
    "# vocab_len\n",
    "vocab_size = len(vocab) + 1"
   ]
  },
  {
   "cell_type": "code",
   "execution_count": 53,
   "metadata": {},
   "outputs": [],
   "source": [
    "# INPUT ENCODER M\n",
    "input_encoder_m = Sequential()\n",
    "input_encoder_m.add(Embedding(input_dim = vocab_size, output_dim = 64))\n",
    "input_encoder_m.add(Dropout(0.3))\n",
    "\n",
    "#OUTPUT\n",
    "# (samples, ,story_maxLen, max_question_Len)"
   ]
  },
  {
   "cell_type": "code",
   "execution_count": 59,
   "metadata": {},
   "outputs": [],
   "source": [
    "# INPUT ENCODER C\n",
    "input_encoder_c = Sequential()\n",
    "input_encoder_c.add(Embedding(input_dim = vocab_size, output_dim = max_question_len))\n",
    "input_encoder_c.add(Dropout(0.3))\n",
    "\n",
    "#OUTPUT\n",
    "# (samples,story_maxLen, max_question_Len)"
   ]
  },
  {
   "cell_type": "code",
   "execution_count": 60,
   "metadata": {},
   "outputs": [],
   "source": [
    "question_encoder = Sequential()\n",
    "question_encoder.add(Embedding(input_dim=vocab_size, output_dim=64, input_length=max_question_len))\n",
    "question_encoder.add(Dropout(0.3))\n",
    "\n",
    "# (Samples, query_maxLen, embedding_dim)"
   ]
  },
  {
   "cell_type": "code",
   "execution_count": 61,
   "metadata": {},
   "outputs": [],
   "source": [
    "# ENCODED <---- ENCODER(INPUT)\n",
    "input_encoded_m = input_encoder_m(input_sequence)\n",
    "input_encoded_c = input_encoder_c(input_sequence)\n",
    "question_encoded = question_encoder(question)"
   ]
  },
  {
   "cell_type": "code",
   "execution_count": 62,
   "metadata": {},
   "outputs": [],
   "source": [
    "match = dot([input_encoded_m, question_encoded], axes=(2,2))\n",
    "match = Activation('softmax')(match)"
   ]
  },
  {
   "cell_type": "code",
   "execution_count": 66,
   "metadata": {},
   "outputs": [],
   "source": [
    "response = add([match,input_encoded_c])\n",
    "response = Permute((2,1))(response)"
   ]
  },
  {
   "cell_type": "code",
   "execution_count": 67,
   "metadata": {},
   "outputs": [],
   "source": [
    "answer = concatenate([response, question_encoded])"
   ]
  },
  {
   "cell_type": "code",
   "execution_count": 68,
   "metadata": {},
   "outputs": [
    {
     "data": {
      "text/plain": [
       "<tf.Tensor 'concatenate_1/concat:0' shape=(?, 6, 220) dtype=float32>"
      ]
     },
     "execution_count": 68,
     "metadata": {},
     "output_type": "execute_result"
    }
   ],
   "source": [
    "answer"
   ]
  },
  {
   "cell_type": "code",
   "execution_count": 69,
   "metadata": {},
   "outputs": [],
   "source": [
    "answer = LSTM(32)(answer)"
   ]
  },
  {
   "cell_type": "code",
   "execution_count": 70,
   "metadata": {},
   "outputs": [],
   "source": [
    "answer = Dropout(0.5)(answer)\n",
    "answer = Dense(vocab_size)(answer)"
   ]
  },
  {
   "cell_type": "code",
   "execution_count": 71,
   "metadata": {},
   "outputs": [],
   "source": [
    "answer = Activation('softmax')(answer)"
   ]
  },
  {
   "cell_type": "code",
   "execution_count": 72,
   "metadata": {},
   "outputs": [],
   "source": [
    "model = Model([input_sequence, question], answer)"
   ]
  },
  {
   "cell_type": "code",
   "execution_count": 73,
   "metadata": {},
   "outputs": [
    {
     "name": "stderr",
     "output_type": "stream",
     "text": [
      "W0909 22:37:25.897707 20284 deprecation_wrapper.py:119] From C:\\Users\\adity\\.conda\\envs\\tensorflow\\lib\\site-packages\\keras\\optimizers.py:790: The name tf.train.Optimizer is deprecated. Please use tf.compat.v1.train.Optimizer instead.\n",
      "\n",
      "W0909 22:37:25.923669 20284 deprecation_wrapper.py:119] From C:\\Users\\adity\\.conda\\envs\\tensorflow\\lib\\site-packages\\keras\\backend\\tensorflow_backend.py:3295: The name tf.log is deprecated. Please use tf.math.log instead.\n",
      "\n"
     ]
    }
   ],
   "source": [
    "model.compile(optimizer='rmsprop', loss='categorical_crossentropy', metrics=['accuracy'])"
   ]
  },
  {
   "cell_type": "code",
   "execution_count": 75,
   "metadata": {},
   "outputs": [
    {
     "name": "stdout",
     "output_type": "stream",
     "text": [
      "__________________________________________________________________________________________________\n",
      "Layer (type)                    Output Shape         Param #     Connected to                     \n",
      "==================================================================================================\n",
      "input_3 (InputLayer)            (None, 156)          0                                            \n",
      "__________________________________________________________________________________________________\n",
      "input_4 (InputLayer)            (None, 6)            0                                            \n",
      "__________________________________________________________________________________________________\n",
      "sequential_4 (Sequential)       multiple             2432        input_3[0][0]                    \n",
      "__________________________________________________________________________________________________\n",
      "sequential_8 (Sequential)       (None, 6, 64)        2432        input_4[0][0]                    \n",
      "__________________________________________________________________________________________________\n",
      "dot_4 (Dot)                     (None, 156, 6)       0           sequential_4[2][0]               \n",
      "                                                                 sequential_8[1][0]               \n",
      "__________________________________________________________________________________________________\n",
      "activation_4 (Activation)       (None, 156, 6)       0           dot_4[0][0]                      \n",
      "__________________________________________________________________________________________________\n",
      "sequential_7 (Sequential)       multiple             228         input_3[0][0]                    \n",
      "__________________________________________________________________________________________________\n",
      "add_6 (Add)                     (None, 156, 6)       0           activation_4[0][0]               \n",
      "                                                                 sequential_7[1][0]               \n",
      "__________________________________________________________________________________________________\n",
      "permute_1 (Permute)             (None, 6, 156)       0           add_6[0][0]                      \n",
      "__________________________________________________________________________________________________\n",
      "concatenate_1 (Concatenate)     (None, 6, 220)       0           permute_1[0][0]                  \n",
      "                                                                 sequential_8[1][0]               \n",
      "__________________________________________________________________________________________________\n",
      "lstm_1 (LSTM)                   (None, 32)           32384       concatenate_1[0][0]              \n",
      "__________________________________________________________________________________________________\n",
      "dropout_9 (Dropout)             (None, 32)           0           lstm_1[0][0]                     \n",
      "__________________________________________________________________________________________________\n",
      "dense_1 (Dense)                 (None, 38)           1254        dropout_9[0][0]                  \n",
      "__________________________________________________________________________________________________\n",
      "activation_5 (Activation)       (None, 38)           0           dense_1[0][0]                    \n",
      "==================================================================================================\n",
      "Total params: 38,730\n",
      "Trainable params: 38,730\n",
      "Non-trainable params: 0\n",
      "__________________________________________________________________________________________________\n"
     ]
    }
   ],
   "source": [
    "model.summary()"
   ]
  },
  {
   "cell_type": "code",
   "execution_count": 83,
   "metadata": {},
   "outputs": [
    {
     "name": "stderr",
     "output_type": "stream",
     "text": [
      "W0909 23:21:12.272950 20284 deprecation.py:323] From C:\\Users\\adity\\.conda\\envs\\tensorflow\\lib\\site-packages\\tensorflow\\python\\ops\\math_grad.py:1250: add_dispatch_support.<locals>.wrapper (from tensorflow.python.ops.array_ops) is deprecated and will be removed in a future version.\n",
      "Instructions for updating:\n",
      "Use tf.where in 2.0, which has the same broadcast rule as np.where\n"
     ]
    },
    {
     "name": "stdout",
     "output_type": "stream",
     "text": [
      "Train on 10000 samples, validate on 1000 samples\n",
      "Epoch 1/120\n",
      "10000/10000 [==============================] - 13s 1ms/step - loss: 0.8690 - acc: 0.5054 - val_loss: 0.6966 - val_acc: 0.4970\n",
      "Epoch 2/120\n",
      "10000/10000 [==============================] - 18s 2ms/step - loss: 0.7003 - acc: 0.5059 - val_loss: 0.6934 - val_acc: 0.4970\n",
      "Epoch 3/120\n",
      "10000/10000 [==============================] - 11s 1ms/step - loss: 0.6957 - acc: 0.5027 - val_loss: 0.6940 - val_acc: 0.4970\n",
      "Epoch 4/120\n",
      "10000/10000 [==============================] - 8s 769us/step - loss: 0.6947 - acc: 0.5001 - val_loss: 0.6978 - val_acc: 0.4970\n",
      "Epoch 5/120\n",
      "10000/10000 [==============================] - 17s 2ms/step - loss: 0.6941 - acc: 0.5005 - val_loss: 0.6939 - val_acc: 0.4970\n",
      "Epoch 6/120\n",
      "10000/10000 [==============================] - 13s 1ms/step - loss: 0.6954 - acc: 0.4916 - val_loss: 0.6933 - val_acc: 0.4970loss: 0.6955 - acc: 0 - ETA: 2s - loss: 0.6954 - acc: 0 - ETA: 1s - loss: 0.6953 - \n",
      "Epoch 7/120\n",
      "10000/10000 [==============================] - 8s 760us/step - loss: 0.6945 - acc: 0.5043 - val_loss: 0.6934 - val_acc: 0.5030\n",
      "Epoch 8/120\n",
      "10000/10000 [==============================] - 13s 1ms/step - loss: 0.6939 - acc: 0.5076 - val_loss: 0.6933 - val_acc: 0.5030\n",
      "Epoch 9/120\n",
      "10000/10000 [==============================] - 18s 2ms/step - loss: 0.6943 - acc: 0.4984 - val_loss: 0.6936 - val_acc: 0.4900\n",
      "Epoch 10/120\n",
      "10000/10000 [==============================] - 8s 762us/step - loss: 0.6940 - acc: 0.5010 - val_loss: 0.6935 - val_acc: 0.4970\n",
      "Epoch 11/120\n",
      "10000/10000 [==============================] - 8s 773us/step - loss: 0.6940 - acc: 0.5057 - val_loss: 0.6946 - val_acc: 0.4970\n",
      "Epoch 12/120\n",
      "10000/10000 [==============================] - 9s 897us/step - loss: 0.6940 - acc: 0.5021 - val_loss: 0.6937 - val_acc: 0.5030\n",
      "Epoch 13/120\n",
      "10000/10000 [==============================] - 9s 947us/step - loss: 0.6934 - acc: 0.5110 - val_loss: 0.6953 - val_acc: 0.5040\n",
      "Epoch 14/120\n",
      "10000/10000 [==============================] - 10s 976us/step - loss: 0.6936 - acc: 0.5105 - val_loss: 0.6971 - val_acc: 0.4970\n",
      "Epoch 15/120\n",
      "10000/10000 [==============================] - 9s 899us/step - loss: 0.6933 - acc: 0.5121 - val_loss: 0.6951 - val_acc: 0.5130\n",
      "Epoch 16/120\n",
      "10000/10000 [==============================] - 18s 2ms/step - loss: 0.6931 - acc: 0.5117 - val_loss: 0.6955 - val_acc: 0.4800\n",
      "Epoch 17/120\n",
      "10000/10000 [==============================] - 12s 1ms/step - loss: 0.6922 - acc: 0.5204 - val_loss: 0.6957 - val_acc: 0.4950\n",
      "Epoch 18/120\n",
      "10000/10000 [==============================] - 8s 755us/step - loss: 0.6904 - acc: 0.5289 - val_loss: 0.6945 - val_acc: 0.5280\n",
      "Epoch 19/120\n",
      "10000/10000 [==============================] - 15s 1ms/step - loss: 0.6847 - acc: 0.5482 - val_loss: 0.6775 - val_acc: 0.5810\n",
      "Epoch 20/120\n",
      "10000/10000 [==============================] - 14s 1ms/step - loss: 0.6419 - acc: 0.6304 - val_loss: 0.5765 - val_acc: 0.7190\n",
      "Epoch 21/120\n",
      "10000/10000 [==============================] - 8s 775us/step - loss: 0.5615 - acc: 0.7205 - val_loss: 0.4816 - val_acc: 0.7760\n",
      "Epoch 22/120\n",
      "10000/10000 [==============================] - 7s 744us/step - loss: 0.5207 - acc: 0.7586 - val_loss: 0.4712 - val_acc: 0.7720\n",
      "Epoch 23/120\n",
      "10000/10000 [==============================] - 8s 755us/step - loss: 0.4970 - acc: 0.7741 - val_loss: 0.4434 - val_acc: 0.7950\n",
      "Epoch 24/120\n",
      "10000/10000 [==============================] - 16s 2ms/step - loss: 0.4756 - acc: 0.7905 - val_loss: 0.4438 - val_acc: 0.8000\n",
      "Epoch 25/120\n",
      "10000/10000 [==============================] - 13s 1ms/step - loss: 0.4630 - acc: 0.7948 - val_loss: 0.4474 - val_acc: 0.8000\n",
      "Epoch 26/120\n",
      "10000/10000 [==============================] - 8s 774us/step - loss: 0.4513 - acc: 0.7963 - val_loss: 0.4430 - val_acc: 0.8160\n",
      "Epoch 27/120\n",
      "10000/10000 [==============================] - 10s 1ms/step - loss: 0.4438 - acc: 0.8010 - val_loss: 0.4438 - val_acc: 0.8050\n",
      "Epoch 28/120\n",
      "10000/10000 [==============================] - 8s 764us/step - loss: 0.4305 - acc: 0.8087 - val_loss: 0.4249 - val_acc: 0.8080\n",
      "Epoch 29/120\n",
      "10000/10000 [==============================] - 19s 2ms/step - loss: 0.4228 - acc: 0.8174 - val_loss: 0.4236 - val_acc: 0.8100\n",
      "Epoch 30/120\n",
      "10000/10000 [==============================] - 13s 1ms/step - loss: 0.4118 - acc: 0.8194 - val_loss: 0.4221 - val_acc: 0.8120\n",
      "Epoch 31/120\n",
      "10000/10000 [==============================] - 20s 2ms/step - loss: 0.4041 - acc: 0.8256 - val_loss: 0.4030 - val_acc: 0.8100\n",
      "Epoch 32/120\n",
      "10000/10000 [==============================] - 7s 713us/step - loss: 0.3962 - acc: 0.8262 - val_loss: 0.4021 - val_acc: 0.8210\n",
      "Epoch 33/120\n",
      "10000/10000 [==============================] - 5s 495us/step - loss: 0.3832 - acc: 0.8363 - val_loss: 0.4008 - val_acc: 0.8180\n",
      "Epoch 34/120\n",
      "10000/10000 [==============================] - 5s 519us/step - loss: 0.3733 - acc: 0.8424 - val_loss: 0.4073 - val_acc: 0.8060\n",
      "Epoch 35/120\n",
      "10000/10000 [==============================] - 4s 437us/step - loss: 0.3704 - acc: 0.8449 - val_loss: 0.3972 - val_acc: 0.8380\n",
      "Epoch 36/120\n",
      "10000/10000 [==============================] - 13s 1ms/step - loss: 0.3651 - acc: 0.8513 - val_loss: 0.3850 - val_acc: 0.8240\n",
      "Epoch 37/120\n",
      "10000/10000 [==============================] - 10s 1ms/step - loss: 0.3612 - acc: 0.8470 - val_loss: 0.3736 - val_acc: 0.8410\n",
      "Epoch 38/120\n",
      "10000/10000 [==============================] - 6s 640us/step - loss: 0.3561 - acc: 0.8533 - val_loss: 0.3999 - val_acc: 0.8340\n",
      "Epoch 39/120\n",
      "10000/10000 [==============================] - 5s 504us/step - loss: 0.3467 - acc: 0.8552 - val_loss: 0.3810 - val_acc: 0.8330\n",
      "Epoch 40/120\n",
      "10000/10000 [==============================] - 5s 513us/step - loss: 0.3472 - acc: 0.8542 - val_loss: 0.3954 - val_acc: 0.8350\n",
      "Epoch 41/120\n",
      "10000/10000 [==============================] - 6s 608us/step - loss: 0.3409 - acc: 0.8536 - val_loss: 0.3771 - val_acc: 0.8400\n",
      "Epoch 42/120\n",
      "10000/10000 [==============================] - 4s 431us/step - loss: 0.3378 - acc: 0.8593 - val_loss: 0.3768 - val_acc: 0.8250\n",
      "Epoch 43/120\n",
      "10000/10000 [==============================] - 6s 647us/step - loss: 0.3409 - acc: 0.8575 - val_loss: 0.3730 - val_acc: 0.8260\n",
      "Epoch 44/120\n",
      "10000/10000 [==============================] - 14s 1ms/step - loss: 0.3391 - acc: 0.8571 - val_loss: 0.3655 - val_acc: 0.8280\n",
      "Epoch 45/120\n",
      "10000/10000 [==============================] - 10s 979us/step - loss: 0.3370 - acc: 0.8575 - val_loss: 0.3654 - val_acc: 0.8330\n",
      "Epoch 46/120\n",
      "10000/10000 [==============================] - 6s 594us/step - loss: 0.3321 - acc: 0.8597 - val_loss: 0.3804 - val_acc: 0.8340\n",
      "Epoch 47/120\n",
      "10000/10000 [==============================] - 5s 495us/step - loss: 0.3292 - acc: 0.8611 - val_loss: 0.3734 - val_acc: 0.8370\n",
      "Epoch 48/120\n",
      "10000/10000 [==============================] - 4s 401us/step - loss: 0.3196 - acc: 0.8647 - val_loss: 0.3751 - val_acc: 0.8310\n",
      "Epoch 49/120\n",
      "10000/10000 [==============================] - 5s 506us/step - loss: 0.3255 - acc: 0.8613 - val_loss: 0.3704 - val_acc: 0.8320\n",
      "Epoch 50/120\n",
      "10000/10000 [==============================] - 5s 522us/step - loss: 0.3215 - acc: 0.8651 - val_loss: 0.3839 - val_acc: 0.8360\n",
      "Epoch 51/120\n",
      "10000/10000 [==============================] - 4s 379us/step - loss: 0.3246 - acc: 0.8605 - val_loss: 0.3803 - val_acc: 0.8260\n",
      "Epoch 52/120\n",
      "10000/10000 [==============================] - 5s 537us/step - loss: 0.3194 - acc: 0.8620 - val_loss: 0.4002 - val_acc: 0.8270\n",
      "Epoch 53/120\n",
      "10000/10000 [==============================] - 7s 667us/step - loss: 0.3175 - acc: 0.8643 - val_loss: 0.3817 - val_acc: 0.8230- ETA: 0s - loss: 0.3173 \n",
      "Epoch 54/120\n",
      "10000/10000 [==============================] - 4s 384us/step - loss: 0.3117 - acc: 0.8691 - val_loss: 0.3730 - val_acc: 0.8340\n",
      "Epoch 55/120\n",
      "10000/10000 [==============================] - 5s 517us/step - loss: 0.3128 - acc: 0.8702 - val_loss: 0.4058 - val_acc: 0.8170\n",
      "Epoch 56/120\n",
      "10000/10000 [==============================] - 4s 373us/step - loss: 0.3100 - acc: 0.8661 - val_loss: 0.3739 - val_acc: 0.8350\n",
      "Epoch 57/120\n",
      "10000/10000 [==============================] - 5s 533us/step - loss: 0.3113 - acc: 0.8682 - val_loss: 0.3699 - val_acc: 0.8270\n",
      "Epoch 58/120\n"
     ]
    },
    {
     "name": "stdout",
     "output_type": "stream",
     "text": [
      "10000/10000 [==============================] - 5s 466us/step - loss: 0.3088 - acc: 0.8674 - val_loss: 0.3765 - val_acc: 0.8320\n",
      "Epoch 59/120\n",
      "10000/10000 [==============================] - 4s 391us/step - loss: 0.3088 - acc: 0.8682 - val_loss: 0.3781 - val_acc: 0.8230\n",
      "Epoch 60/120\n",
      "10000/10000 [==============================] - 5s 511us/step - loss: 0.3004 - acc: 0.8711 - val_loss: 0.3948 - val_acc: 0.8280\n",
      "Epoch 61/120\n",
      "10000/10000 [==============================] - 4s 394us/step - loss: 0.3003 - acc: 0.8728 - val_loss: 0.3933 - val_acc: 0.8200\n",
      "Epoch 62/120\n",
      "10000/10000 [==============================] - 5s 541us/step - loss: 0.2977 - acc: 0.8742 - val_loss: 0.4032 - val_acc: 0.8290\n",
      "Epoch 63/120\n",
      "10000/10000 [==============================] - 5s 478us/step - loss: 0.3036 - acc: 0.8722 - val_loss: 0.3651 - val_acc: 0.8210\n",
      "Epoch 64/120\n",
      "10000/10000 [==============================] - 3s 341us/step - loss: 0.2996 - acc: 0.8729 - val_loss: 0.3876 - val_acc: 0.8280\n",
      "Epoch 65/120\n",
      "10000/10000 [==============================] - 5s 463us/step - loss: 0.2947 - acc: 0.8753 - val_loss: 0.4329 - val_acc: 0.8130\n",
      "Epoch 66/120\n",
      "10000/10000 [==============================] - 3s 327us/step - loss: 0.2945 - acc: 0.8764 - val_loss: 0.4058 - val_acc: 0.8240\n",
      "Epoch 67/120\n",
      "10000/10000 [==============================] - 5s 465us/step - loss: 0.2908 - acc: 0.8789 - val_loss: 0.3896 - val_acc: 0.8260\n",
      "Epoch 68/120\n",
      "10000/10000 [==============================] - 4s 377us/step - loss: 0.2869 - acc: 0.8788 - val_loss: 0.4008 - val_acc: 0.8340\n",
      "Epoch 69/120\n",
      "10000/10000 [==============================] - 5s 484us/step - loss: 0.2851 - acc: 0.8793 - val_loss: 0.3913 - val_acc: 0.8220\n",
      "Epoch 70/120\n",
      "10000/10000 [==============================] - 4s 378us/step - loss: 0.2849 - acc: 0.8811 - val_loss: 0.4088 - val_acc: 0.8310\n",
      "Epoch 71/120\n",
      "10000/10000 [==============================] - 5s 461us/step - loss: 0.2848 - acc: 0.8791 - val_loss: 0.3986 - val_acc: 0.8220\n",
      "Epoch 72/120\n",
      "10000/10000 [==============================] - 4s 425us/step - loss: 0.2767 - acc: 0.8824 - val_loss: 0.3997 - val_acc: 0.8300\n",
      "Epoch 73/120\n",
      "10000/10000 [==============================] - 4s 414us/step - loss: 0.2785 - acc: 0.8803 - val_loss: 0.4020 - val_acc: 0.8220\n",
      "Epoch 74/120\n",
      "10000/10000 [==============================] - 5s 476us/step - loss: 0.2741 - acc: 0.8860 - val_loss: 0.3898 - val_acc: 0.8330\n",
      "Epoch 75/120\n",
      "10000/10000 [==============================] - 4s 372us/step - loss: 0.2770 - acc: 0.8832 - val_loss: 0.4227 - val_acc: 0.8340\n",
      "Epoch 76/120\n",
      "10000/10000 [==============================] - 5s 526us/step - loss: 0.2779 - acc: 0.8823 - val_loss: 0.4059 - val_acc: 0.8250\n",
      "Epoch 77/120\n",
      "10000/10000 [==============================] - 4s 354us/step - loss: 0.2809 - acc: 0.8810 - val_loss: 0.4102 - val_acc: 0.8260\n",
      "Epoch 78/120\n",
      "10000/10000 [==============================] - 5s 492us/step - loss: 0.2685 - acc: 0.8861 - val_loss: 0.4076 - val_acc: 0.8190\n",
      "Epoch 79/120\n",
      "10000/10000 [==============================] - 6s 647us/step - loss: 0.2673 - acc: 0.8858 - val_loss: 0.4033 - val_acc: 0.8310: 0s - loss: 0.2670 - \n",
      "Epoch 80/120\n",
      "10000/10000 [==============================] - 15s 2ms/step - loss: 0.2701 - acc: 0.8845 - val_loss: 0.3932 - val_acc: 0.8260\n",
      "Epoch 81/120\n",
      "10000/10000 [==============================] - 7s 688us/step - loss: 0.2706 - acc: 0.8849 - val_loss: 0.4001 - val_acc: 0.8260\n",
      "Epoch 82/120\n",
      "10000/10000 [==============================] - 5s 470us/step - loss: 0.2710 - acc: 0.8856 - val_loss: 0.4547 - val_acc: 0.8190\n",
      "Epoch 83/120\n",
      "10000/10000 [==============================] - 5s 475us/step - loss: 0.2614 - acc: 0.8913 - val_loss: 0.4512 - val_acc: 0.8190\n",
      "Epoch 84/120\n",
      "10000/10000 [==============================] - 5s 493us/step - loss: 0.2616 - acc: 0.8894 - val_loss: 0.4209 - val_acc: 0.8280\n",
      "Epoch 85/120\n",
      "10000/10000 [==============================] - 5s 456us/step - loss: 0.2605 - acc: 0.8915 - val_loss: 0.4409 - val_acc: 0.8290\n",
      "Epoch 86/120\n",
      "10000/10000 [==============================] - 5s 478us/step - loss: 0.2616 - acc: 0.8926 - val_loss: 0.4273 - val_acc: 0.8250\n",
      "Epoch 87/120\n",
      "10000/10000 [==============================] - 5s 546us/step - loss: 0.2572 - acc: 0.8952 - val_loss: 0.4357 - val_acc: 0.8210\n",
      "Epoch 88/120\n",
      "10000/10000 [==============================] - 5s 527us/step - loss: 0.2518 - acc: 0.8925 - val_loss: 0.4356 - val_acc: 0.8140\n",
      "Epoch 89/120\n",
      "10000/10000 [==============================] - 4s 354us/step - loss: 0.2527 - acc: 0.8934 - val_loss: 0.4351 - val_acc: 0.8240\n",
      "Epoch 90/120\n",
      "10000/10000 [==============================] - 5s 467us/step - loss: 0.2548 - acc: 0.8951 - val_loss: 0.4666 - val_acc: 0.8240\n",
      "Epoch 91/120\n",
      "10000/10000 [==============================] - 5s 517us/step - loss: 0.2502 - acc: 0.8978 - val_loss: 0.4166 - val_acc: 0.8260\n",
      "Epoch 92/120\n",
      "10000/10000 [==============================] - 13s 1ms/step - loss: 0.2549 - acc: 0.8948 - val_loss: 0.4278 - val_acc: 0.8320\n",
      "Epoch 93/120\n",
      "10000/10000 [==============================] - 9s 869us/step - loss: 0.2475 - acc: 0.8963 - val_loss: 0.5118 - val_acc: 0.8140\n",
      "Epoch 94/120\n",
      "10000/10000 [==============================] - 4s 373us/step - loss: 0.2484 - acc: 0.8949 - val_loss: 0.4803 - val_acc: 0.8100\n",
      "Epoch 95/120\n",
      "10000/10000 [==============================] - 5s 491us/step - loss: 0.2449 - acc: 0.8964 - val_loss: 0.4797 - val_acc: 0.8240\n",
      "Epoch 96/120\n",
      "10000/10000 [==============================] - 4s 356us/step - loss: 0.2414 - acc: 0.8994 - val_loss: 0.4657 - val_acc: 0.8240\n",
      "Epoch 97/120\n",
      "10000/10000 [==============================] - 5s 511us/step - loss: 0.2410 - acc: 0.8985 - val_loss: 0.4502 - val_acc: 0.8140\n",
      "Epoch 98/120\n",
      "10000/10000 [==============================] - 4s 354us/step - loss: 0.2438 - acc: 0.9023 - val_loss: 0.4670 - val_acc: 0.8300\n",
      "Epoch 99/120\n",
      "10000/10000 [==============================] - 5s 492us/step - loss: 0.2378 - acc: 0.9009 - val_loss: 0.4892 - val_acc: 0.8150\n",
      "Epoch 100/120\n",
      "10000/10000 [==============================] - 4s 404us/step - loss: 0.2371 - acc: 0.9016 - val_loss: 0.5024 - val_acc: 0.8130\n",
      "Epoch 101/120\n",
      "10000/10000 [==============================] - 5s 453us/step - loss: 0.2391 - acc: 0.9007 - val_loss: 0.4780 - val_acc: 0.8190\n",
      "Epoch 102/120\n",
      "10000/10000 [==============================] - 5s 460us/step - loss: 0.2375 - acc: 0.9026 - val_loss: 0.5203 - val_acc: 0.8150\n",
      "Epoch 103/120\n",
      "10000/10000 [==============================] - 4s 395us/step - loss: 0.2347 - acc: 0.9030 - val_loss: 0.4917 - val_acc: 0.8240\n",
      "Epoch 104/120\n",
      "10000/10000 [==============================] - 6s 555us/step - loss: 0.2302 - acc: 0.9044 - val_loss: 0.4676 - val_acc: 0.8190\n",
      "Epoch 105/120\n",
      "10000/10000 [==============================] - 4s 375us/step - loss: 0.2336 - acc: 0.9022 - val_loss: 0.4583 - val_acc: 0.8200\n",
      "Epoch 106/120\n",
      "10000/10000 [==============================] - 5s 474us/step - loss: 0.2322 - acc: 0.9069 - val_loss: 0.4812 - val_acc: 0.8200\n",
      "Epoch 107/120\n",
      "10000/10000 [==============================] - 3s 345us/step - loss: 0.2276 - acc: 0.9060 - val_loss: 0.4778 - val_acc: 0.8250\n",
      "Epoch 108/120\n",
      "10000/10000 [==============================] - 5s 531us/step - loss: 0.2282 - acc: 0.9053 - val_loss: 0.4596 - val_acc: 0.8220\n",
      "Epoch 109/120\n",
      "10000/10000 [==============================] - 5s 550us/step - loss: 0.2229 - acc: 0.9085 - val_loss: 0.4732 - val_acc: 0.8240\n",
      "Epoch 110/120\n",
      "10000/10000 [==============================] - 3s 349us/step - loss: 0.2304 - acc: 0.9076 - val_loss: 0.5126 - val_acc: 0.8260\n",
      "Epoch 111/120\n",
      "10000/10000 [==============================] - 5s 486us/step - loss: 0.2261 - acc: 0.9050 - val_loss: 0.5204 - val_acc: 0.8220\n",
      "Epoch 112/120\n",
      "10000/10000 [==============================] - 4s 350us/step - loss: 0.2230 - acc: 0.9084 - val_loss: 0.5359 - val_acc: 0.8230\n",
      "Epoch 113/120\n",
      "10000/10000 [==============================] - 5s 477us/step - loss: 0.2194 - acc: 0.9094 - val_loss: 0.5393 - val_acc: 0.8180\n",
      "Epoch 114/120\n",
      "10000/10000 [==============================] - 5s 468us/step - loss: 0.2199 - acc: 0.9091 - val_loss: 0.5019 - val_acc: 0.8210\n",
      "Epoch 115/120\n",
      "10000/10000 [==============================] - 6s 604us/step - loss: 0.2244 - acc: 0.9089 - val_loss: 0.4840 - val_acc: 0.8190\n",
      "Epoch 116/120\n"
     ]
    },
    {
     "name": "stdout",
     "output_type": "stream",
     "text": [
      "10000/10000 [==============================] - 5s 495us/step - loss: 0.2221 - acc: 0.9097 - val_loss: 0.4797 - val_acc: 0.8180\n",
      "Epoch 117/120\n",
      "10000/10000 [==============================] - 5s 500us/step - loss: 0.2181 - acc: 0.9088 - val_loss: 0.5423 - val_acc: 0.8220\n",
      "Epoch 118/120\n",
      "10000/10000 [==============================] - 4s 445us/step - loss: 0.2140 - acc: 0.9105 - val_loss: 0.5114 - val_acc: 0.8250\n",
      "Epoch 119/120\n",
      "10000/10000 [==============================] - 4s 416us/step - loss: 0.2205 - acc: 0.9102 - val_loss: 0.4851 - val_acc: 0.8200\n",
      "Epoch 120/120\n",
      "10000/10000 [==============================] - 15s 1ms/step - loss: 0.2134 - acc: 0.9135 - val_loss: 0.4750 - val_acc: 0.8280\n"
     ]
    }
   ],
   "source": [
    "history = model.fit([inputs_train, queries_train], answer_train,batch_size=32,epochs=120,validation_data=([inputs_test, queries_test], answer_test))"
   ]
  },
  {
   "cell_type": "code",
   "execution_count": 84,
   "metadata": {},
   "outputs": [
    {
     "name": "stdout",
     "output_type": "stream",
     "text": [
      "dict_keys(['val_loss', 'val_acc', 'loss', 'acc'])\n"
     ]
    },
    {
     "data": {
      "image/png": "[encoded data removed]",
      "text/plain": [
       "<Figure size 432x288 with 1 Axes>"
      ]
     },
     "metadata": {
      "needs_background": "light"
     },
     "output_type": "display_data"
    }
   ],
   "source": [
    "import matplotlib.pyplot as plt\n",
    "%matplotlib inline\n",
    "print(history.history.keys())\n",
    "# summarize history for accuracy\n",
    "plt.plot(history.history['acc'])\n",
    "plt.plot(history.history['val_acc'])\n",
    "plt.title('model accuracy')\n",
    "plt.ylabel('accuracy')\n",
    "plt.xlabel('epoch')\n",
    "plt.legend(['train', 'test'], loc='upper left')\n",
    "plt.show()"
   ]
  },
  {
   "cell_type": "code",
   "execution_count": 101,
   "metadata": {},
   "outputs": [],
   "source": [
    "model.save('brandnewmodel.h5')"
   ]
  },
  {
   "cell_type": "code",
   "execution_count": 102,
   "metadata": {},
   "outputs": [],
   "source": [
    "model.load_weights('chatbot_10.h5')"
   ]
  },
  {
   "cell_type": "code",
   "execution_count": 103,
   "metadata": {},
   "outputs": [],
   "source": [
    "pred_results = model.predict(([inputs_test, queries_test]))"
   ]
  },
  {
   "cell_type": "code",
   "execution_count": 104,
   "metadata": {},
   "outputs": [
    {
     "data": {
      "text/plain": [
       "['Mary',\n",
       " 'got',\n",
       " 'the',\n",
       " 'milk',\n",
       " 'there',\n",
       " '.',\n",
       " 'John',\n",
       " 'moved',\n",
       " 'to',\n",
       " 'the',\n",
       " 'bedroom',\n",
       " '.']"
      ]
     },
     "execution_count": 104,
     "metadata": {},
     "output_type": "execute_result"
    }
   ],
   "source": [
    "test_data[0][0]"
   ]
  },
  {
   "cell_type": "code",
   "execution_count": 105,
   "metadata": {},
   "outputs": [
    {
     "data": {
      "text/plain": [
       "1000"
      ]
     },
     "execution_count": 105,
     "metadata": {},
     "output_type": "execute_result"
    }
   ],
   "source": [
    "pred_results.shape[0]"
   ]
  },
  {
   "cell_type": "code",
   "execution_count": 106,
   "metadata": {},
   "outputs": [
    {
     "data": {
      "text/plain": [
       "['Is', 'John', 'in', 'the', 'kitchen', '?']"
      ]
     },
     "execution_count": 106,
     "metadata": {},
     "output_type": "execute_result"
    }
   ],
   "source": [
    "test_data[0][1]"
   ]
  },
  {
   "cell_type": "code",
   "execution_count": 107,
   "metadata": {},
   "outputs": [
    {
     "data": {
      "text/plain": [
       "'no'"
      ]
     },
     "execution_count": 107,
     "metadata": {},
     "output_type": "execute_result"
    }
   ],
   "source": [
    "test_data[0][2]"
   ]
  },
  {
   "cell_type": "code",
   "execution_count": 108,
   "metadata": {},
   "outputs": [
    {
     "data": {
      "text/plain": [
       "array([5.6906323e-14, 5.5444087e-14, 5.7849457e-14, 5.3208103e-14,\n",
       "       6.1402157e-14, 5.4011381e-14, 9.9972337e-01, 6.5257363e-14,\n",
       "       5.5710580e-14, 5.3492204e-14, 5.5344767e-14, 5.9928089e-14,\n",
       "       5.9666451e-14, 6.2852745e-14, 4.7628341e-14, 6.1548721e-14,\n",
       "       5.2162844e-14, 5.4474047e-14, 4.9623598e-14, 2.7658895e-04,\n",
       "       5.7422701e-14, 5.4287968e-14, 6.0373690e-14, 5.7739004e-14,\n",
       "       5.4291698e-14, 5.7451846e-14, 5.6180521e-14, 5.9328946e-14,\n",
       "       4.7667968e-14, 5.7854315e-14, 6.1993372e-14, 5.1244934e-14,\n",
       "       4.9404684e-14, 5.6873343e-14, 6.2960250e-14, 6.8127443e-14,\n",
       "       5.0650619e-14, 5.7325963e-14], dtype=float32)"
      ]
     },
     "execution_count": 108,
     "metadata": {},
     "output_type": "execute_result"
    }
   ],
   "source": [
    "pred_results[0]"
   ]
  },
  {
   "cell_type": "code",
   "execution_count": 109,
   "metadata": {},
   "outputs": [],
   "source": [
    "val_max = np.argmax(pred_results[0])"
   ]
  },
  {
   "cell_type": "code",
   "execution_count": 110,
   "metadata": {},
   "outputs": [],
   "source": [
    "for key,val in tokenizer.word_index.items():\n",
    "    if val == val_max:\n",
    "        k = key"
   ]
  },
  {
   "cell_type": "code",
   "execution_count": 111,
   "metadata": {},
   "outputs": [
    {
     "data": {
      "text/plain": [
       "'up'"
      ]
     },
     "execution_count": 111,
     "metadata": {},
     "output_type": "execute_result"
    }
   ],
   "source": [
    "k"
   ]
  },
  {
   "cell_type": "code",
   "execution_count": 112,
   "metadata": {},
   "outputs": [
    {
     "data": {
      "text/plain": [
       "dict_items([('john', 1), ('yes', 2), ('office', 3), ('?', 4), ('moved', 5), ('up', 6), ('mary', 7), ('back', 8), ('dropped', 9), ('in', 10), ('garden', 11), ('.', 12), ('got', 13), ('travelled', 14), ('left', 15), ('apple', 16), ('is', 17), ('picked', 18), ('journeyed', 19), ('football', 20), ('kitchen', 21), ('milk', 22), ('there', 23), ('down', 24), ('discarded', 25), ('daniel', 26), ('grabbed', 27), ('to', 28), ('the', 29), ('went', 30), ('took', 31), ('sandra', 32), ('bathroom', 33), ('no', 34), ('put', 35), ('bedroom', 36), ('hallway', 37)])"
      ]
     },
     "execution_count": 112,
     "metadata": {},
     "output_type": "execute_result"
    }
   ],
   "source": [
    "tokenizer.word_index.items()"
   ]
  },
  {
   "cell_type": "code",
   "execution_count": null,
   "metadata": {},
   "outputs": [],
   "source": []
  }
 ],
 "metadata": {
  "kernelspec": {
   "display_name": "Python 3",
   "language": "python",
   "name": "python3"
  },
  "language_info": {
   "codemirror_mode": {
    "name": "ipython",
    "version": 3
   },
   "file_extension": ".py",
   "mimetype": "text/x-python",
   "name": "python",
   "nbconvert_exporter": "python",
   "pygments_lexer": "ipython3",
   "version": "3.6.8"
  }
 },
 "nbformat": 4,
 "nbformat_minor": 2
}
